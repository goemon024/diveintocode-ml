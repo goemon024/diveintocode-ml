{
 "cells": [
  {
   "cell_type": "markdown",
   "metadata": {},
   "source": [
    "【問題1】2×2マスのチェス盤の小麦の数\n",
    "2×2マスのチェス盤をndarrayによって表現し、各マスの小麦の数を計算してください。左上のマスに小麦を1つ置いた後、その右が2つ、左下が4つ、右下が8つという風に進みます。サンプルコードで作成したndarrayのshapeの変形を行ってください。"
   ]
  },
  {
   "cell_type": "code",
   "execution_count": 1,
   "metadata": {},
   "outputs": [
    {
     "name": "stdout",
     "output_type": "stream",
     "text": [
      "[[0 1]\n",
      " [2 3]]\n",
      "\n",
      "各マスの小麦数・・・\n",
      "[[1 2]\n",
      " [4 8]]\n"
     ]
    }
   ],
   "source": [
    "import numpy as np\n",
    "\n",
    "ndarray = np.array(range(4))\n",
    "b_ndarray = ndarray.reshape(2,2)\n",
    "print(b_ndarray)\n",
    "\n",
    "repeat=0\n",
    "\n",
    "for i in range(2):\n",
    "    for j in range(2):\n",
    "        b_ndarray[i][j] = 2**(repeat)\n",
    "        repeat += 1\n",
    "\n",
    "print(\"\\n各マスの小麦数・・・\")\n",
    "print(b_ndarray)\n"
   ]
  },
  {
   "cell_type": "markdown",
   "metadata": {},
   "source": [
    "【問題2】n×mマスのチェス盤の小麦の数を記したndarrayを返す関数を作成してください。そして、この関数を使い8×8マスのチェス盤の小麦の数を求めてください。"
   ]
  },
  {
   "cell_type": "markdown",
   "metadata": {},
   "source": [
    "＜ＭＥＭＯ＞　8✕8の場合、配列型がint32ではオーバーフローしてしまう。dtype=uint64とする。"
   ]
  },
  {
   "cell_type": "code",
   "execution_count": 15,
   "metadata": {},
   "outputs": [
    {
     "name": "stdout",
     "output_type": "stream",
     "text": [
      "\n",
      "各マスの小麦数・・・\n",
      "\n",
      "[[                  1                   2                   4\n",
      "                    8                  16                  32\n",
      "                   64                 128]\n",
      " [                256                 512                1024\n",
      "                 2048                4096                8192\n",
      "                16384               32768]\n",
      " [              65536              131072              262144\n",
      "               524288             1048576             2097152\n",
      "              4194304             8388608]\n",
      " [           16777216            33554432            67108864\n",
      "            134217728           268435456           536870912\n",
      "           1073741824          2147483648]\n",
      " [         4294967296          8589934592         17179869184\n",
      "          34359738368         68719476736        137438953472\n",
      "         274877906944        549755813888]\n",
      " [      1099511627776       2199023255552       4398046511104\n",
      "        8796093022208      17592186044416      35184372088832\n",
      "       70368744177664     140737488355328]\n",
      " [    281474976710656     562949953421312    1125899906842624\n",
      "     2251799813685248    4503599627370496    9007199254740992\n",
      "    18014398509481984   36028797018963968]\n",
      " [  72057594037927936  144115188075855872  288230376151711744\n",
      "   576460752303423488 1152921504606846976 2305843009213693952\n",
      "  4611686018427387904 9223372036854775808]]\n"
     ]
    }
   ],
   "source": [
    "import numpy as np\n",
    "\n",
    "def board_ndarray(column,row):\n",
    "    ndarray = np.array(range(column*row),dtype = np.uint64)\n",
    "    temp_ndarray = ndarray.reshape(column,row)\n",
    "    repeat=0\n",
    "    for i in range(column):\n",
    "        for j in range(row):\n",
    "            temp_ndarray[i][j] = 2**(repeat)\n",
    "            repeat += 1\n",
    "    return temp_ndarray\n",
    "\n",
    "print(\"\\n各マスの小麦数・・・\\n\")\n",
    "#np.set_printoptions(precision=4)\n",
    "\n",
    "input_column = 8\n",
    "input_row =8\n",
    "\n",
    "b_ndarray=board_ndarray(input_column,input_row)\n",
    "print(b_ndarray)"
   ]
  },
  {
   "cell_type": "markdown",
   "metadata": {},
   "source": [
    "【問題3】小麦の数の合計"
   ]
  },
  {
   "cell_type": "code",
   "execution_count": 16,
   "metadata": {},
   "outputs": [
    {
     "name": "stdout",
     "output_type": "stream",
     "text": [
      "小麦の合計粒数：1.8446744073709552e+19\n",
      "0番目の軸方向の合計は[9.0425e+15 1.8085e+16 3.6170e+16 7.2340e+16 1.4468e+17 2.8936e+17\n",
      " 5.7872e+17 1.1574e+18]\n"
     ]
    },
    {
     "data": {
      "image/png": "[encoded data removed]",
      "text/plain": [
       "<Figure size 432x288 with 1 Axes>"
      ]
     },
     "metadata": {
      "needs_background": "light"
     },
     "output_type": "display_data"
    }
   ],
   "source": [
    "wheat_sum = 0\n",
    "\n",
    "for i in range(input_column):\n",
    "    for j in range(input_row):\n",
    "        wheat_sum += b_ndarray[i][j]\n",
    "\n",
    "print(\"小麦の合計粒数：{}\".format(wheat_sum))\n",
    "column_sum_b_ndarray = b_ndarray.sum(axis=0)\n",
    "print(\"0番目の軸方向の合計は{}\".format(b_ndarray.mean(axis=0)))\n",
    "\n",
    "import matplotlib.pyplot as plt\n",
    "%matplotlib inline\n",
    "\n",
    "plt.xlabel(\"column\")\n",
    "plt.ylabel(\"number\")\n",
    "plt.title(\"number in each column\")\n",
    "plt.bar(np.arange(1,input_column+1), column_sum_b_ndarray)\n",
    "plt.show()"
   ]
  },
  {
   "cell_type": "markdown",
   "metadata": {},
   "source": [
    "【問題４】小麦の数のヒートマップ"
   ]
  },
  {
   "cell_type": "markdown",
   "metadata": {},
   "source": [
    "＜メモ＞　ヒートマップでは左下が１行１列目、右上が８行８列目なので、正しく表示されていると考える。"
   ]
  },
  {
   "cell_type": "code",
   "execution_count": 17,
   "metadata": {},
   "outputs": [
    {
     "name": "stdout",
     "output_type": "stream",
     "text": [
      "[[                  1                   2                   4\n",
      "                    8                  16                  32\n",
      "                   64                 128]\n",
      " [                256                 512                1024\n",
      "                 2048                4096                8192\n",
      "                16384               32768]\n",
      " [              65536              131072              262144\n",
      "               524288             1048576             2097152\n",
      "              4194304             8388608]\n",
      " [           16777216            33554432            67108864\n",
      "            134217728           268435456           536870912\n",
      "           1073741824          2147483648]\n",
      " [         4294967296          8589934592         17179869184\n",
      "          34359738368         68719476736        137438953472\n",
      "         274877906944        549755813888]\n",
      " [      1099511627776       2199023255552       4398046511104\n",
      "        8796093022208      17592186044416      35184372088832\n",
      "       70368744177664     140737488355328]\n",
      " [    281474976710656     562949953421312    1125899906842624\n",
      "     2251799813685248    4503599627370496    9007199254740992\n",
      "    18014398509481984   36028797018963968]\n",
      " [  72057594037927936  144115188075855872  288230376151711744\n",
      "   576460752303423488 1152921504606846976 2305843009213693952\n",
      "  4611686018427387904 9223372036854775808]]\n"
     ]
    },
    {
     "data": {
      "image/png": "[encoded data removed]",
      "text/plain": [
       "<Figure size 432x288 with 1 Axes>"
      ]
     },
     "metadata": {
      "needs_background": "light"
     },
     "output_type": "display_data"
    }
   ],
   "source": [
    "plt.xlabel(\"column\")\n",
    "plt.ylabel(\"row\")\n",
    "plt.title(\"heatmap\")\n",
    "plt.pcolor(b_ndarray)\n",
    "print(b_ndarray)\n",
    "plt.show()"
   ]
  },
  {
   "cell_type": "markdown",
   "metadata": {},
   "source": [
    "【問題5】後半は前半の何倍か"
   ]
  },
  {
   "cell_type": "code",
   "execution_count": 18,
   "metadata": {},
   "outputs": [
    {
     "name": "stdout",
     "output_type": "stream",
     "text": [
      "1番目の軸方向の合計は[                 255                65280             16711680\n",
      "           4278190080        1095216660480      280375465082880\n",
      "    71776119061217280 18374686479671623680]\n",
      "前半の合計値:4294967295.0\n",
      "後半の合計値:1.8446744069414584e+19\n",
      "後半は前半の4294967296.0倍である。\n"
     ]
    }
   ],
   "source": [
    "row_sum_b_ndarray = b_ndarray.sum(axis=1)\n",
    "print(\"1番目の軸方向の合計は{}\".format(b_ndarray.sum(axis=1)))\n",
    "\n",
    "#前半の合計値を求める。\n",
    "former_sum = 0\n",
    "for i in range(4):\n",
    "    former_sum += row_sum_b_ndarray[i]\n",
    "print(\"前半の合計値:{}\".format(former_sum))\n",
    "\n",
    "#後半の合計値を求める。\n",
    "latter_sum = 0\n",
    "for i in range(4,8):\n",
    "    latter_sum += row_sum_b_ndarray[i]\n",
    "print(\"後半の合計値:{}\".format(latter_sum))\n",
    "\n",
    "#後半の合計値を、前半の合計値で除す。\n",
    "print(\"後半は前半の{}倍である。\".format(latter_sum/former_sum))"
   ]
  },
  {
   "cell_type": "markdown",
   "metadata": {},
   "source": [
    "【問題６】他の計算方法によるn×mマスへの拡張"
   ]
  },
  {
   "cell_type": "code",
   "execution_count": 19,
   "metadata": {},
   "outputs": [
    {
     "name": "stdout",
     "output_type": "stream",
     "text": [
      "[[1.0000e+00 2.0000e+00 4.0000e+00 8.0000e+00 1.6000e+01 3.2000e+01\n",
      "  6.4000e+01 1.2800e+02]\n",
      " [2.5600e+02 5.1200e+02 1.0240e+03 2.0480e+03 4.0960e+03 8.1920e+03\n",
      "  1.6384e+04 3.2768e+04]\n",
      " [6.5536e+04 1.3107e+05 2.6214e+05 5.2429e+05 1.0486e+06 2.0972e+06\n",
      "  4.1943e+06 8.3886e+06]\n",
      " [1.6777e+07 3.3554e+07 6.7109e+07 1.3422e+08 2.6844e+08 5.3687e+08\n",
      "  1.0737e+09 2.1475e+09]\n",
      " [4.2950e+09 8.5899e+09 1.7180e+10 3.4360e+10 6.8719e+10 1.3744e+11\n",
      "  2.7488e+11 5.4976e+11]\n",
      " [1.0995e+12 2.1990e+12 4.3980e+12 8.7961e+12 1.7592e+13 3.5184e+13\n",
      "  7.0369e+13 1.4074e+14]\n",
      " [2.8147e+14 5.6295e+14 1.1259e+15 2.2518e+15 4.5036e+15 9.0072e+15\n",
      "  1.8014e+16 3.6029e+16]\n",
      " [7.2058e+16 1.4412e+17 2.8823e+17 5.7646e+17 1.1529e+18 2.3058e+18\n",
      "  4.6117e+18 9.2234e+18]]\n"
     ]
    }
   ],
   "source": [
    "import numpy as np\n",
    "#np.append()を使う場合。\n",
    "def board_ndarray1(column,row):\n",
    "    ndarray = np.array([1]).astype(np.uint64)\n",
    "    for i in range(column*row-1):\n",
    "        ndarray = np.append(ndarray,2*ndarray[-1])\n",
    "    b_ndarray=ndarray.reshape(column,row)\n",
    "    return b_ndarray\n",
    "\n",
    "print(board_ndarray1(8,8))"
   ]
  },
  {
   "cell_type": "code",
   "execution_count": 20,
   "metadata": {},
   "outputs": [
    {
     "name": "stdout",
     "output_type": "stream",
     "text": [
      "[[                  1                   2                   4\n",
      "                    8                  16                  32\n",
      "                   64                 128]\n",
      " [                256                 512                1024\n",
      "                 2048                4096                8192\n",
      "                16384               32768]\n",
      " [              65536              131072              262144\n",
      "               524288             1048576             2097152\n",
      "              4194304             8388608]\n",
      " [           16777216            33554432            67108864\n",
      "            134217728           268435456           536870912\n",
      "           1073741824          2147483648]\n",
      " [         4294967296          8589934592         17179869184\n",
      "          34359738368         68719476736        137438953472\n",
      "         274877906944        549755813888]\n",
      " [      1099511627776       2199023255552       4398046511104\n",
      "        8796093022208      17592186044416      35184372088832\n",
      "       70368744177664     140737488355328]\n",
      " [    281474976710656     562949953421312    1125899906842624\n",
      "     2251799813685248    4503599627370496    9007199254740992\n",
      "    18014398509481984   36028797018963968]\n",
      " [  72057594037927936  144115188075855872  288230376151711744\n",
      "   576460752303423488 1152921504606846976 2305843009213693952\n",
      "  4611686018427387904 9223372036854775808]]\n"
     ]
    }
   ],
   "source": [
    "import numpy as np\n",
    "#ブロードキャストを使う場合。\n",
    "def board_ndarray2(column,row):\n",
    "    ndarray = np.arange(column*row).astype(np.uint64)\n",
    "    ndarray=2**ndarray\n",
    "    b_ndarray=ndarray.reshape(column,row)\n",
    "    return b_ndarray\n",
    "\n",
    "print(board_ndarray2(8,8))"
   ]
  },
  {
   "cell_type": "markdown",
   "metadata": {},
   "source": [
    "【問題7】計算時間の比較"
   ]
  },
  {
   "cell_type": "code",
   "execution_count": 6,
   "metadata": {},
   "outputs": [
    {
     "name": "stdout",
     "output_type": "stream",
     "text": [
      "224 µs ± 4.11 µs per loop (mean ± std. dev. of 7 runs, 1000 loops each)\n"
     ]
    }
   ],
   "source": [
    "%%timeit\n",
    "import numpy as np\n",
    "def board_ndarray(column,row):\n",
    "    ndarray = np.array(range(column*row),dtype = np.uint64)\n",
    "    temp_ndarray = ndarray.reshape(column,row)\n",
    "    repeat=0\n",
    "    for i in range(column):\n",
    "        for j in range(row):\n",
    "            temp_ndarray[i][j] = 2**(repeat)\n",
    "            repeat += 1\n",
    "    return temp_ndarray\n",
    "\n",
    "input_column = 8\n",
    "input_row =8\n",
    "\n",
    "b_ndarray=board_ndarray(input_column,input_row)"
   ]
  },
  {
   "cell_type": "code",
   "execution_count": 8,
   "metadata": {},
   "outputs": [
    {
     "name": "stdout",
     "output_type": "stream",
     "text": [
      "529 µs ± 121 µs per loop (mean ± std. dev. of 7 runs, 1000 loops each)\n"
     ]
    }
   ],
   "source": [
    "%%timeit\n",
    "import numpy as np\n",
    "def board_ndarray1(column,row):\n",
    "    ndarray = np.array([1]).astype(np.uint64)\n",
    "    for i in range(column*row-1):\n",
    "        ndarray = np.append(ndarray,2*ndarray[-1])\n",
    "    b_ndarray=ndarray.reshape(column,row)\n",
    "    return b_ndarray\n",
    "\n",
    "board_ndarray1(8,8)"
   ]
  },
  {
   "cell_type": "code",
   "execution_count": 9,
   "metadata": {},
   "outputs": [
    {
     "name": "stdout",
     "output_type": "stream",
     "text": [
      "10.6 µs ± 166 ns per loop (mean ± std. dev. of 7 runs, 100000 loops each)\n"
     ]
    }
   ],
   "source": [
    "%%timeit\n",
    "import numpy as np\n",
    "def board_ndarray2(column,row):\n",
    "    ndarray = np.arange(column*row).astype(np.uint64)\n",
    "    ndarray=2**ndarray\n",
    "    b_ndarray=ndarray.reshape(column,row)\n",
    "    return b_ndarray\n",
    "\n",
    "board_ndarray2(8,8)"
   ]
  },
  {
   "cell_type": "markdown",
   "metadata": {},
   "source": [
    "＜考察＞  \n",
    "ブロードキャストによるものが一番計算負荷が軽い。\n",
    "appendを使うと、その都度、配列の全要素を読み込むので計算負荷がかかってくるものと思われる。\n",
    "for文を使って２の累乗を代入していくアルゴリズムは、appendを使う場合よりも計算負荷が軽いが、\n",
    "ブロードキャストの場合よりも計算負荷が大きくなった。"
   ]
  }
 ],
 "metadata": {
  "kernelspec": {
   "display_name": "Python 3",
   "language": "python",
   "name": "python3"
  },
  "language_info": {
   "codemirror_mode": {
    "name": "ipython",
    "version": 3
   },
   "file_extension": ".py",
   "mimetype": "text/x-python",
   "name": "python",
   "nbconvert_exporter": "python",
   "pygments_lexer": "ipython3",
   "version": "3.7.4"
  }
 },
 "nbformat": 4,
 "nbformat_minor": 2
}
