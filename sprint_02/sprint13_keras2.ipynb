{
 "cells": [
  {
   "cell_type": "markdown",
   "metadata": {},
   "source": [
    "## ＳＰＲＩＮＴ　Ｋｅｒａｓ　その２"
   ]
  },
  {
   "cell_type": "code",
   "execution_count": 1,
   "metadata": {},
   "outputs": [
    {
     "name": "stderr",
     "output_type": "stream",
     "text": [
      "Using TensorFlow backend.\n"
     ]
    }
   ],
   "source": [
    "import numpy as np\n",
    "import pandas as pd\n",
    "from sklearn.model_selection import train_test_split\n",
    "import tensorflow as tf\n",
    "from tensorflow import keras\n",
    "from tensorflow.keras import layers\n",
    "from keras import backend as K\n",
    "\n",
    "# tensorflow → tensorflow.kerasと書くことでtf.kerasに移行できる。\n",
    "#　tf.layers は非推奨となるのでtf.keras.layersとする。 "
   ]
  },
  {
   "cell_type": "markdown",
   "metadata": {},
   "source": [
    "## 【問題3】Iris（2値分類）をKerasで学習 ・・・sequential での記述"
   ]
  },
  {
   "cell_type": "code",
   "execution_count": 49,
   "metadata": {},
   "outputs": [],
   "source": [
    "# データセットの読み込み\n",
    "dataset_path =\"Iris.csv\"\n",
    "df = pd.read_csv(dataset_path)\n",
    "# データフレームから条件抽出\n",
    "df = df[(df[\"Name\"] == \"Iris-versicolor\")|(df[\"Name\"] == \"Iris-virginica\")]\n",
    "y = df[\"Name\"]\n",
    "X = df.loc[:, [\"SepalLength\", \"SepalWidth\", \"PetalLength\", \"PetalWidth\"]]\n",
    "y = np.array(y)\n",
    "X = np.array(X)\n",
    "# ラベルを数値に変換\n",
    "y[y=='Iris-versicolor'] = 0\n",
    "y[y=='Iris-virginica'] = 1\n",
    "y = y.astype(np.int)[:, np.newaxis]\n",
    "# trainとtestに分割\n",
    "X_train, X_test, y_train, y_test = train_test_split(X, y, test_size=0.2, random_state=0)\n",
    "# さらにtrainとvalに分割\n",
    "#X_train, X_val, y_train, y_val = train_test_split(X_train, y_train, test_size=0.2, random_state=0)\n"
   ]
  },
  {
   "cell_type": "code",
   "execution_count": 94,
   "metadata": {},
   "outputs": [],
   "source": [
    "K.clear_session()\n",
    "\n",
    "model = keras.Sequential()\n",
    "model.add(layers.Dense(50,activation=\"relu\",input_shape=(4,)))\n",
    "model.add(layers.Dense(100,activation=\"relu\",input_shape=(50,)))\n",
    "model.add(layers.Dense(2,activation=\"softmax\",input_shape=(100,)))\n",
    "\n",
    "optimizer = keras.optimizers.RMSprop()\n",
    "loss = keras.losses.SparseCategoricalCrossentropy(from_logits=True)\n",
    "metrics=[\"accuracy\"]\n",
    "\n",
    "## SparseCategoricalCrossentropyでonehot処理を省略できる。"
   ]
  },
  {
   "cell_type": "code",
   "execution_count": 77,
   "metadata": {},
   "outputs": [
    {
     "data": {
      "text/plain": [
       "(80, 4)"
      ]
     },
     "execution_count": 77,
     "metadata": {},
     "output_type": "execute_result"
    }
   ],
   "source": [
    "X_train.shape"
   ]
  },
  {
   "cell_type": "code",
   "execution_count": 95,
   "metadata": {},
   "outputs": [
    {
     "name": "stdout",
     "output_type": "stream",
     "text": [
      "Train on 80 samples\n",
      "Epoch 1/10\n",
      "80/80 [==============================] - 1s 14ms/sample - loss: 0.7178 - accuracy: 0.6000\n",
      "Epoch 2/10\n",
      "80/80 [==============================] - 0s 195us/sample - loss: 0.6926 - accuracy: 0.4375\n",
      "Epoch 3/10\n",
      "80/80 [==============================] - 0s 195us/sample - loss: 0.6430 - accuracy: 0.7375\n",
      "Epoch 4/10\n",
      "80/80 [==============================] - 0s 303us/sample - loss: 0.6518 - accuracy: 0.5625\n",
      "Epoch 5/10\n",
      "80/80 [==============================] - 0s 253us/sample - loss: 0.6354 - accuracy: 0.7125\n",
      "Epoch 6/10\n",
      "80/80 [==============================] - 0s 379us/sample - loss: 0.6213 - accuracy: 0.8375\n",
      "Epoch 7/10\n",
      "80/80 [==============================] - 0s 252us/sample - loss: 0.6102 - accuracy: 0.7250\n",
      "Epoch 8/10\n",
      "80/80 [==============================] - 0s 253us/sample - loss: 0.6071 - accuracy: 0.7500\n",
      "Epoch 9/10\n",
      "80/80 [==============================] - 0s 226us/sample - loss: 0.6057 - accuracy: 0.7750\n",
      "Epoch 10/10\n",
      "80/80 [==============================] - 0s 227us/sample - loss: 0.5935 - accuracy: 0.7875\n"
     ]
    },
    {
     "data": {
      "text/plain": [
       "<tensorflow.python.keras.callbacks.History at 0x2de9034a488>"
      ]
     },
     "execution_count": 95,
     "metadata": {},
     "output_type": "execute_result"
    }
   ],
   "source": [
    "model.compile(optimizer=optimizer,loss=loss,metrics=metrics)\n",
    "model.fit(X_train,y_train,epochs=10,batch_size=16)"
   ]
  },
  {
   "cell_type": "code",
   "execution_count": 96,
   "metadata": {},
   "outputs": [
    {
     "name": "stdout",
     "output_type": "stream",
     "text": [
      "\r",
      "20/20 [==============================] - 0s 12ms/sample - loss: 0.5803 - accuracy: 0.9000\n"
     ]
    }
   ],
   "source": [
    "loss_and_metrics = model.evaluate(X_test,y_test)"
   ]
  },
  {
   "cell_type": "markdown",
   "metadata": {},
   "source": [
    "## 【問題4】Iris（多値分類）をKerasで学習・・・fanctional での記述"
   ]
  },
  {
   "cell_type": "code",
   "execution_count": 118,
   "metadata": {},
   "outputs": [],
   "source": [
    "# データセットの読み込み\n",
    "dataset_path =\"Iris.csv\"\n",
    "df = pd.read_csv(dataset_path)\n",
    "##############  データフレームから条件抽出  ############## \n",
    "df = df[(df[\"Name\"] == \"Iris-setosa\")|(df[\"Name\"] == \"Iris-versicolor\")|(df[\"Name\"] == \"Iris-virginica\")]\n",
    "y = df[\"Name\"]\n",
    "X = df.loc[:, [\"SepalLength\", \"SepalWidth\", \"PetalLength\", \"PetalWidth\"]]\n",
    "y = np.array(y)\n",
    "X = np.array(X)\n",
    "##############      ラベルを数値変換        ############## \n",
    "y[y=='Iris-setosa'] = 0\n",
    "y[y=='Iris-versicolor'] = 1\n",
    "y[y=='Iris-virginica'] = 2\n",
    "\n",
    "# y = y.astype(np.int)[:, np.newaxis]\n",
    "# enc = OneHotEncoder(handle_unknown='ignore', sparse=False)\n",
    "# y_one_hot = enc.fit_transform(y[:,np.newaxis])\n",
    "\n",
    "X_train, X_test, y_train, y_test = train_test_split(X, y, test_size=0.2, random_state=0)\n",
    "\n",
    "###    重要    ###\n",
    "y_test = y_test.astype(\"float64\")\n",
    "y_train = y_train.astype(\"float64\")"
   ]
  },
  {
   "cell_type": "code",
   "execution_count": 141,
   "metadata": {},
   "outputs": [],
   "source": [
    "from keras.layers import Input,Dense\n",
    "##　from tensorflow.keras import layers　　や　　tf.keras.layersとの関係は？？？\n",
    "\n",
    "from keras.models import Model"
   ]
  },
  {
   "cell_type": "code",
   "execution_count": 146,
   "metadata": {},
   "outputs": [],
   "source": [
    "K.clear_session()\n",
    "\n",
    "inputs = Input(shape=(4,))\n",
    "\n",
    "x=Dense(50, activation=\"relu\")(inputs)\n",
    "x=Dense(100, activation=\"relu\")(x)\n",
    "predictions = Dense(3, activation=\"softmax\")(x)\n",
    "\n",
    "model1 = Model(inputs=inputs, outputs=predictions)\n",
    "model1.compile(optimizer=\"rmsprop\",\n",
    "              loss=\"sparse_categorical_crossentropy\",\n",
    "              metrics=[\"accuracy\"])"
   ]
  },
  {
   "cell_type": "code",
   "execution_count": 150,
   "metadata": {},
   "outputs": [
    {
     "name": "stdout",
     "output_type": "stream",
     "text": [
      "Epoch 1/10\n",
      "120/120 [==============================] - 0s 207us/step - loss: 0.4614 - accuracy: 0.8333\n",
      "Epoch 2/10\n",
      "120/120 [==============================] - 0s 84us/step - loss: 0.4323 - accuracy: 0.8583\n",
      "Epoch 3/10\n",
      "120/120 [==============================] - 0s 231us/step - loss: 0.4155 - accuracy: 0.8500\n",
      "Epoch 4/10\n",
      "120/120 [==============================] - 0s 158us/step - loss: 0.4084 - accuracy: 0.8917\n",
      "Epoch 5/10\n",
      "120/120 [==============================] - 0s 146us/step - loss: 0.3784 - accuracy: 0.9250\n",
      "Epoch 6/10\n",
      "120/120 [==============================] - 0s 79us/step - loss: 0.3683 - accuracy: 0.9333\n",
      "Epoch 7/10\n",
      "120/120 [==============================] - 0s 84us/step - loss: 0.3451 - accuracy: 0.9250\n",
      "Epoch 8/10\n",
      "120/120 [==============================] - 0s 84us/step - loss: 0.3629 - accuracy: 0.8750\n",
      "Epoch 9/10\n",
      "120/120 [==============================] - 0s 84us/step - loss: 0.3244 - accuracy: 0.9250\n",
      "Epoch 10/10\n",
      "120/120 [==============================] - 0s 84us/step - loss: 0.3086 - accuracy: 0.9250\n"
     ]
    },
    {
     "data": {
      "text/plain": [
       "<keras.callbacks.callbacks.History at 0x2de95daeac8>"
      ]
     },
     "execution_count": 150,
     "metadata": {},
     "output_type": "execute_result"
    }
   ],
   "source": [
    "model1.fit(X_train,y_train,epochs=10,batch_size=30)"
   ]
  },
  {
   "cell_type": "code",
   "execution_count": 151,
   "metadata": {},
   "outputs": [
    {
     "name": "stdout",
     "output_type": "stream",
     "text": [
      "\r",
      "30/30 [==============================] - 0s 174us/step\n"
     ]
    },
    {
     "data": {
      "text/plain": [
       "[0.27736932039260864, 0.9666666388511658]"
      ]
     },
     "execution_count": 151,
     "metadata": {},
     "output_type": "execute_result"
    }
   ],
   "source": [
    "loss_and_metrics = model1.evaluate(X_test,y_test)\n",
    "loss_and_metrics"
   ]
  },
  {
   "cell_type": "markdown",
   "metadata": {},
   "source": [
    "## 【問題5】House PricesをKerasで学習　（sequentiral）"
   ]
  },
  {
   "cell_type": "code",
   "execution_count": 2,
   "metadata": {},
   "outputs": [],
   "source": [
    "import pandas as pd\n",
    "import IPython\n",
    "import numpy as np\n",
    "\n",
    "aims_data = pd.read_csv(\"train.csv\")\n",
    "aims_data4 = aims_data.loc[:,['GrLivArea','YearBuilt','SalePrice']]"
   ]
  },
  {
   "cell_type": "code",
   "execution_count": 8,
   "metadata": {},
   "outputs": [],
   "source": [
    "from sklearn.model_selection import train_test_split\n",
    "X = aims_data4.iloc[:,0:2].values\n",
    "y = aims_data4.iloc[:,2].values\n",
    "X = np.log(X)\n",
    "y = np.log(y)\n",
    "X_train, X_test, y_train, y_test = train_test_split(X,y, test_size=0.20, random_state =10)\n",
    "y_train= y_train[:,np.newaxis]\n",
    "y_test=y_test[:,np.newaxis]\n",
    "# X_train, X_val, y_train, y_val = train_test_split(X_train,y_train, test_size=0.25, random_state = 1)"
   ]
  },
  {
   "cell_type": "code",
   "execution_count": 9,
   "metadata": {},
   "outputs": [
    {
     "name": "stdout",
     "output_type": "stream",
     "text": [
      "(1168, 2) (1168, 1)\n"
     ]
    }
   ],
   "source": [
    "print(X_train.shape, y_train.shape)"
   ]
  },
  {
   "cell_type": "code",
   "execution_count": 18,
   "metadata": {},
   "outputs": [],
   "source": [
    "K.clear_session()\n",
    "\n",
    "model2 = keras.Sequential()\n",
    "model2.add(layers.Dense(100,activation=\"relu\",input_dim=2))\n",
    "model2.add(layers.Dense(50,activation=\"relu\",input_shape=(100,)))\n",
    "model2.add(layers.Dense(1,input_shape=(50,)))\n",
    "\n",
    "optimizer = keras.optimizers.RMSprop(0.001)\n",
    "loss = keras.losses.mean_squared_error\n",
    "\n",
    "metrics=[\"mse\",\"mae\"]\n",
    "\n",
    "# model.compile(Adam(lr=1e-3), loss=\"mean_squared_error\")\n",
    "# さいごのactivationをナシにする。"
   ]
  },
  {
   "cell_type": "code",
   "execution_count": 19,
   "metadata": {},
   "outputs": [
    {
     "data": {
      "text/plain": [
       "{'name': 'RMSprop',\n",
       " 'learning_rate': 0.001,\n",
       " 'decay': 0.0,\n",
       " 'rho': 0.9,\n",
       " 'momentum': 0.0,\n",
       " 'epsilon': 1e-07,\n",
       " 'centered': False}"
      ]
     },
     "execution_count": 19,
     "metadata": {},
     "output_type": "execute_result"
    }
   ],
   "source": [
    "optimizer.get_config()"
   ]
  },
  {
   "cell_type": "code",
   "execution_count": 20,
   "metadata": {},
   "outputs": [
    {
     "name": "stdout",
     "output_type": "stream",
     "text": [
      "Train on 1168 samples\n",
      "Epoch 1/10\n",
      "1168/1168 [==============================] - 1s 1ms/sample - loss: 54.1429 - mse: 54.1429 - mae: 6.6360\n",
      "Epoch 2/10\n",
      "1168/1168 [==============================] - 0s 70us/sample - loss: 0.3708 - mse: 0.3708 - mae: 0.4191\n",
      "Epoch 3/10\n",
      "1168/1168 [==============================] - 0s 62us/sample - loss: 0.0950 - mse: 0.0950 - mae: 0.2389\n",
      "Epoch 4/10\n",
      "1168/1168 [==============================] - 0s 60us/sample - loss: 0.1051 - mse: 0.1051 - mae: 0.2571\n",
      "Epoch 5/10\n",
      "1168/1168 [==============================] - 0s 61us/sample - loss: 0.1116 - mse: 0.1116 - mae: 0.2633\n",
      "Epoch 6/10\n",
      "1168/1168 [==============================] - 0s 54us/sample - loss: 0.1057 - mse: 0.1057 - mae: 0.2560\n",
      "Epoch 7/10\n",
      "1168/1168 [==============================] - 0s 60us/sample - loss: 0.1141 - mse: 0.1141 - mae: 0.2638\n",
      "Epoch 8/10\n",
      "1168/1168 [==============================] - 0s 67us/sample - loss: 0.1101 - mse: 0.1101 - mae: 0.2601\n",
      "Epoch 9/10\n",
      "1168/1168 [==============================] - 0s 62us/sample - loss: 0.0986 - mse: 0.0986 - mae: 0.2463\n",
      "Epoch 10/10\n",
      "1168/1168 [==============================] - 0s 60us/sample - loss: 0.1170 - mse: 0.1170 - mae: 0.2665\n"
     ]
    },
    {
     "data": {
      "text/plain": [
       "<tensorflow.python.keras.callbacks.History at 0x232c6db9ec8>"
      ]
     },
     "execution_count": 20,
     "metadata": {},
     "output_type": "execute_result"
    }
   ],
   "source": [
    "model2.compile(optimizer=optimizer,loss=\"mean_squared_error\",metrics=metrics )\n",
    "model2.fit(X_train,y_train,epochs=10, batch_size=32)"
   ]
  },
  {
   "cell_type": "code",
   "execution_count": 45,
   "metadata": {},
   "outputs": [
    {
     "name": "stdout",
     "output_type": "stream",
     "text": [
      "292/292 [==============================] - 0s 984us/sample - loss: 0.4654 - mse: 0.4654 - mae: 0.6249\n"
     ]
    },
    {
     "data": {
      "text/plain": [
       "[0.4654333517976003, 0.4654333, 0.624868]"
      ]
     },
     "execution_count": 45,
     "metadata": {},
     "output_type": "execute_result"
    }
   ],
   "source": [
    "loss_and_metrics = model2.evaluate(X_test,y_test)\n",
    "loss_and_metrics"
   ]
  },
  {
   "cell_type": "markdown",
   "metadata": {},
   "source": [
    "## 【問題6】MNISTをKerasで学習 (functional)"
   ]
  },
  {
   "cell_type": "code",
   "execution_count": 25,
   "metadata": {},
   "outputs": [],
   "source": [
    "from keras.datasets import mnist\n",
    "(X_train, y_train), (X_test, y_test) = mnist.load_data()\n",
    "\n",
    "from keras.layers import Input,Dense\n",
    "##　from tensorflow.keras import layers　　や　　tf.keras.layersとの関係は？？？\n",
    "\n",
    "from keras.models import Model"
   ]
  },
  {
   "cell_type": "code",
   "execution_count": 26,
   "metadata": {},
   "outputs": [],
   "source": [
    "import numpy as np\n",
    "import pandas as pd\n",
    "from sklearn.model_selection import train_test_split\n",
    "import tensorflow as tf\n",
    "\n",
    "X_train = X_train.reshape(-1, 784)\n",
    "X_test = X_test.reshape(-1, 784)\n",
    "X_train = X_train.astype(np.float)\n",
    "X_test = X_test.astype(np.float)\n",
    "X_train /= 255\n",
    "X_test /= 255"
   ]
  },
  {
   "cell_type": "code",
   "execution_count": 27,
   "metadata": {},
   "outputs": [],
   "source": [
    "from sklearn.model_selection import train_test_split\n",
    "X_train, X_test, y_train, y_test = train_test_split(X_train, y_train, test_size=0.2)"
   ]
  },
  {
   "cell_type": "code",
   "execution_count": 28,
   "metadata": {},
   "outputs": [
    {
     "data": {
      "text/plain": [
       "(12000, 784)"
      ]
     },
     "execution_count": 28,
     "metadata": {},
     "output_type": "execute_result"
    }
   ],
   "source": [
    "X_train.shape\n",
    "X_test.shape"
   ]
  },
  {
   "cell_type": "code",
   "execution_count": 29,
   "metadata": {},
   "outputs": [],
   "source": [
    "K.clear_session()\n",
    "\n",
    "inputs = Input(shape=(784,))\n",
    "\n",
    "x=Dense(400, activation=\"relu\")(inputs)\n",
    "x=Dense(200, activation=\"relu\")(x)\n",
    "predictions = Dense(10, activation=\"softmax\")(x)\n",
    "\n",
    "model3 = Model(inputs=inputs, outputs=predictions)\n",
    "model3.compile(optimizer=\"rmsprop\",\n",
    "              loss=\"sparse_categorical_crossentropy\",\n",
    "              metrics=[\"accuracy\"])"
   ]
  },
  {
   "cell_type": "code",
   "execution_count": 245,
   "metadata": {},
   "outputs": [
    {
     "name": "stdout",
     "output_type": "stream",
     "text": [
      "Epoch 1/5\n",
      "48000/48000 [==============================] - 11s 224us/step - loss: 0.2102 - accuracy: 0.9379\n",
      "Epoch 2/5\n",
      "48000/48000 [==============================] - 10s 211us/step - loss: 0.1088 - accuracy: 0.9712\n",
      "Epoch 3/5\n",
      "48000/48000 [==============================] - 10s 210us/step - loss: 0.0878 - accuracy: 0.9781\n",
      "Epoch 4/5\n",
      "48000/48000 [==============================] - 10s 214us/step - loss: 0.0767 - accuracy: 0.9828\n",
      "Epoch 5/5\n",
      "48000/48000 [==============================] - 10s 211us/step - loss: 0.0695 - accuracy: 0.9851\n"
     ]
    },
    {
     "data": {
      "text/plain": [
       "<keras.callbacks.callbacks.History at 0x2dea5031888>"
      ]
     },
     "execution_count": 245,
     "metadata": {},
     "output_type": "execute_result"
    }
   ],
   "source": [
    "model3.fit(X_train,y_train,epochs=5,batch_size=20)"
   ]
  },
  {
   "cell_type": "code",
   "execution_count": 30,
   "metadata": {},
   "outputs": [
    {
     "name": "stdout",
     "output_type": "stream",
     "text": [
      "12000/12000 [==============================] - 1s 77us/step\n"
     ]
    },
    {
     "data": {
      "text/plain": [
       "[2.344750425974528, 0.09099999815225601]"
      ]
     },
     "execution_count": 30,
     "metadata": {},
     "output_type": "execute_result"
    }
   ],
   "source": [
    "loss_and_metrics = model3.evaluate(X_test,y_test)\n",
    "loss_and_metrics"
   ]
  },
  {
   "cell_type": "code",
   "execution_count": null,
   "metadata": {},
   "outputs": [],
   "source": []
  }
 ],
 "metadata": {
  "kernelspec": {
   "display_name": "Python 3",
   "language": "python",
   "name": "python3"
  },
  "language_info": {
   "codemirror_mode": {
    "name": "ipython",
    "version": 3
   },
   "file_extension": ".py",
   "mimetype": "text/x-python",
   "name": "python",
   "nbconvert_exporter": "python",
   "pygments_lexer": "ipython3",
   "version": "3.7.4"
  }
 },
 "nbformat": 4,
 "nbformat_minor": 2
}
