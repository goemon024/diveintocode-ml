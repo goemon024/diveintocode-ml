{
 "cells": [
  {
   "cell_type": "markdown",
   "metadata": {},
   "source": [
    "# Sprint04　サポートベクタ―マシン  スクラッチ  "
   ]
  },
  {
   "cell_type": "markdown",
   "metadata": {},
   "source": [
    "（冒頭にて、入力データ、ScratchSVMClassfierを定義。検算のために、サポートベクタ―数、そのインデックス番号を表示させている）"
   ]
  },
  {
   "cell_type": "code",
   "execution_count": 1,
   "metadata": {},
   "outputs": [],
   "source": [
    "import matplotlib.pyplot as plt\n",
    "%matplotlib inline\n",
    "import numpy as np\n",
    "import pandas as pd\n",
    "import seaborn as sns\n",
    "import matplotlib.patches as patches\n",
    "import math"
   ]
  },
  {
   "cell_type": "code",
   "execution_count": 42,
   "metadata": {},
   "outputs": [],
   "source": [
    "np.random.seed(seed=0)\n",
    "n_samples = 500\n",
    "f0 = [-1, 2]\n",
    "f1 = [2, -1]\n",
    "cov = [[1.0,0.8], [0.8, 1.0]]\n",
    "f0 = np.random.multivariate_normal(f0, cov, int(n_samples/2))\n",
    "f1 = np.random.multivariate_normal(f1, cov, int(n_samples/2))\n",
    "X = np.concatenate((f0, f1))\n",
    "y = np.concatenate((np.ones((int(n_samples/2))), np.ones((int(n_samples/2))) *(-1))).astype(np.int)\n",
    "random_index = np.random.permutation(np.arange(n_samples))\n",
    "X = X[random_index]\n",
    "y = y[random_index]"
   ]
  },
  {
   "cell_type": "code",
   "execution_count": 53,
   "metadata": {},
   "outputs": [],
   "source": [
    "class ScratchSVMClassifier():\n",
    "    \"\"\"\n",
    "    SVM分類器のスクラッチ実装\n",
    "\n",
    "    Parameters\n",
    "    ----------\n",
    "    num_iter : int\n",
    "      イテレーション数\n",
    "    lr : float\n",
    "      学習率\n",
    "    kernel : str\n",
    "      カーネルの種類。線形カーネル（linear）か多項式カーネル（polly）\n",
    "    threshold : float\n",
    "      サポートベクターを選ぶための閾値\n",
    "    verbose : bool\n",
    "      学習過程を出力する場合はTrue\n",
    "\n",
    "    Attributes\n",
    "    ----------\n",
    "    self.n_support_vectors : int\n",
    "      サポートベクターの数\n",
    "    self.index_support_vectors : 次の形のndarray, shape (n_support_vectors,)\n",
    "      サポートベクターのインデックス\n",
    "    self.X_sv :  次の形のndarray, shape(n_support_vectors, n_features)\n",
    "      サポートベクターの特徴量\n",
    "    self.lam_sv :  次の形のndarray, shape(n_support_vectors, 1)\n",
    "      サポートベクターの未定乗数\n",
    "    self.y_sv :  次の形のndarray, shape(n_support_vectors, 1)\n",
    "      サポートベクターのラベル\n",
    "    \"\"\"\n",
    "    def __init__(self, num_iter, lr, threshold=0.01):\n",
    "        # ハイパーパラメータを属性として記録\n",
    "        self.iter = num_iter\n",
    "        self.lr = lr\n",
    "#        self.kernel = kernel カーネルは後から。\n",
    "        self.threshold = threshold\n",
    "        self.lmd_ = np.array([])\n",
    "\n",
    "    def _kernel(self,X1,X2, gamma=1,theta=0, d=1):\n",
    "        kernel = gamma * (np.dot(X1, X2.T)+theta)**d\n",
    "        return kernel\n",
    "        \n",
    "    def _gradient_descent(self, X, y):\n",
    "        lmd_ans = self.lmd_ + self.lr*(1 - y * np.sum(self.lmd_ * y * self._kernel(X,X), axis=1))\n",
    "        lmd_ans = np.where(lmd_ans < 0, 0, lmd_ans)\n",
    "        return lmd_ans\n",
    "           \n",
    "    def fit(self, X, y, X_val=None, y_val=None):\n",
    "        \"\"\"\n",
    "        SVM分類器を学習する。検証用データが入力された場合はそれに対する精度もイテレーションごとに計算する。\n",
    "\n",
    "        Parameters\n",
    "        ----------\n",
    "        X : 次の形のndarray, shape (n_samples, n_features)\n",
    "            学習用データの特徴量\n",
    "        y : 次の形のndarray, shape (n_samples, )\n",
    "            学習用データの正解値\n",
    "        X_val : 次の形のndarray, shape (n_samples, n_features)\n",
    "            検証用データの特徴量\n",
    "        y_val : 次の形のndarray, shape (n_samples, )\n",
    "            検証用データの正解値\n",
    "        \"\"\"        \n",
    "        # lmd_の初期設定\n",
    "        self.lmd_ = np.random.rand(1,len(X))*0.00001\n",
    "        # yのreshape\n",
    "        y = y.reshape(1,-1)\n",
    "        # y_val = y_val.reshape(1,-1)\n",
    "                \n",
    "        for i in range(self.iter):\n",
    "            self.lmd_ = self._gradient_descent(X,y)\n",
    "\n",
    "        self.lmd_ = np.where(self.lmd_ < self.threshold, 0, self.lmd_)\n",
    "        self.lmd_ = np.ravel(self.lmd_)\n",
    "        self.n_support_vectors = np.count_nonzero(self.lmd_ > 0)\n",
    "        self.index_support_vectors = np.nonzero(self.lmd_ )\n",
    "\n",
    "        for i in self.index_support_vectors:\n",
    "             self.lam_sv = np.array(self.lmd_[i])\n",
    "             self.X_sv = np.array(X[i,:])\n",
    "             self.y_sv = np.array(y[0][i])\n",
    "        \n",
    "        print(self.n_support_vectors)\n",
    "        \n",
    "\n",
    "    def predict(self, X):\n",
    "        \"\"\"\n",
    "        Parameters\n",
    "        ----------\n",
    "        X : 次の形のndarray, shape (n_samples, n_features)\n",
    "            サンプル\n",
    "        Returns\n",
    "        -------\n",
    "            次の形のndarray, shape (n_samples, 1)\n",
    "            SVM分類器による推定結果\n",
    "        \"\"\"\n",
    "            \n",
    "        judge = np.sum(self.lam_sv*self.y_sv* self._kernel(X, self.X_sv), axis=1)\n",
    "        judge = np.where(judge<0,-1,judge)\n",
    "        judge = np.where(judge>=0,1,judge).astype(\"int8\")\n",
    "        return judge\n"
   ]
  },
  {
   "cell_type": "code",
   "execution_count": 54,
   "metadata": {},
   "outputs": [
    {
     "name": "stdout",
     "output_type": "stream",
     "text": [
      "4\n"
     ]
    }
   ],
   "source": [
    "clf = ScratchSVMClassifier(2000, 0.002, 0.0001)\n",
    "clf.fit(X,y)"
   ]
  },
  {
   "cell_type": "code",
   "execution_count": 55,
   "metadata": {},
   "outputs": [
    {
     "data": {
      "text/plain": [
       "(array([121, 123, 162, 326], dtype=int64),)"
      ]
     },
     "execution_count": 55,
     "metadata": {},
     "output_type": "execute_result"
    }
   ],
   "source": [
    "clf.index_support_vectors"
   ]
  },
  {
   "cell_type": "markdown",
   "metadata": {},
   "source": [
    "##  【問題１】ラグランジュの未定乗数法による最急降下法"
   ]
  },
  {
   "cell_type": "markdown",
   "metadata": {},
   "source": [
    "イタレーション回数の検討のため、ScratchSVMClassfier組み込み前の、gradient_descentなどのコードを残している。"
   ]
  },
  {
   "cell_type": "code",
   "execution_count": 26,
   "metadata": {},
   "outputs": [
    {
     "data": {
      "text/plain": [
       "array([500., 134.,  67.,  44.,  28.,  16.,  14.,  13.,  12.,  10.,   8.,\n",
       "         8.,   6.,   6.,   5.,   5.,   5.,   5.,   5.,   4.])"
      ]
     },
     "execution_count": 26,
     "metadata": {},
     "output_type": "execute_result"
    }
   ],
   "source": [
    "## 行列式による導出。イタレーション回数の検討。\n",
    "lmd_ = np.random.rand(len(X),1)*0.00001\n",
    "lmd_ = lmd_.reshape(1,500)\n",
    "y = y.reshape(1,500)\n",
    "\n",
    "def gradient_descent(X, y, lmd_in):\n",
    "    lr = 0.002\n",
    "#   lmd_ = lmd_ + lr*(1- np.dot(lmd_, (np.dot(y, y.T) * np.dot(X, X.T))))\n",
    "    lmd_ans = lmd_in + lr*(1 - y * np.sum(lmd_in * y * np.dot(X, X.T), axis=1))\n",
    "    lmd_ans = np.where(lmd_ans < 0, 0, lmd_ans)\n",
    "    return lmd_ans\n",
    "\n",
    "temp = np.zeros(20)\n",
    "for i in range(20):\n",
    "    iter = i * 100\n",
    "    for j in range(iter):\n",
    "        lmd_ = gradient_descent(X,y,lmd_)\n",
    "    \n",
    "    n_support_vectors = np.count_nonzero(lmd_ > 0)\n",
    "    temp[i]=n_support_vectors\n",
    "\n",
    "temp"
   ]
  },
  {
   "cell_type": "code",
   "execution_count": 27,
   "metadata": {},
   "outputs": [
    {
     "data": {
      "image/png": "[encoded data removed]",
      "text/plain": [
       "<Figure size 432x288 with 1 Axes>"
      ]
     },
     "metadata": {
      "needs_background": "light"
     },
     "output_type": "display_data"
    }
   ],
   "source": [
    "temp_x=np.array([])\n",
    "temp_x=range(0,2000,100)\n",
    "plt.plot(temp_x,temp)\n",
    "plt.show()"
   ]
  },
  {
   "cell_type": "code",
   "execution_count": 93,
   "metadata": {
    "collapsed": true
   },
   "outputs": [
    {
     "name": "stdout",
     "output_type": "stream",
     "text": [
      "5000\n"
     ]
    },
    {
     "data": {
      "text/plain": [
       "array([15.59186642, 13.53242012, 13.04056694, 13.58179018, 13.581643  ,\n",
       "       19.51780424, 16.66980223, 10.94378351,  9.7141188 ,  2.58432111,\n",
       "        8.28269803,  5.00634547,  4.25446949,  9.16726925, 11.51965623,\n",
       "       17.86001283, 18.27035561, 11.03376846,  5.0854516 ,  9.72910286,\n",
       "        0.        , 14.47957626, 11.20359885, 13.43354526,  0.        ,\n",
       "        0.        ,  9.8799983 ,  2.64519151,  3.49437793,  1.62768518,\n",
       "        0.        , 10.89811405,  0.        ,  1.04506987,  0.90447611,\n",
       "        7.87506728,  6.09236246,  0.        ,  4.93166432,  0.        ,\n",
       "        9.05489494,  9.48962292,  4.99139125, 18.18095674,  0.63304121,\n",
       "        4.4139291 ,  0.        ,  1.12968393,  0.        ,  1.02069472,\n",
       "       48.19194667, 16.03237698, 15.76979627,  5.54891885,  0.6798013 ,\n",
       "        8.71737749,  0.        ,  9.72481186,  8.0431427 ,  0.        ,\n",
       "        8.2087099 ,  0.        , 18.79329101,  0.        ,  0.        ,\n",
       "        0.        ,  0.        , 18.69428941,  0.        ,  8.79246137,\n",
       "        0.        ,  5.67209735,  4.88035659, 16.09772182,  0.14688296,\n",
       "        0.        ,  1.74735464,  0.        ,  0.        , 13.3658879 ,\n",
       "        8.44966034, 10.45058616,  0.        ,  0.        ,  0.        ,\n",
       "        0.        ,  4.28444596,  9.32395737,  0.23475123,  0.        ,\n",
       "        9.58897184,  0.        ,  2.36432356,  4.9215107 ,  0.        ,\n",
       "        2.43734706,  0.        ,  0.        ,  0.        ,  0.        ])"
      ]
     },
     "execution_count": 93,
     "metadata": {},
     "output_type": "execute_result"
    }
   ],
   "source": [
    "### for文Ver\n",
    "initial_ramda = np.random.normal(0,1,100)\n",
    "iter = 1000\n",
    "ramda_ = initial_ramda\n",
    "\n",
    "def gradient_descent(X, y, ramda_):\n",
    "    lr = 0.02\n",
    "    kar = np.dot(X,X.T)\n",
    "    for i in range(len(X)):\n",
    "        sum = 0 \n",
    "        for j in range(len(X)):\n",
    "            sum = sum + ramda_[j]*y[i]*y[j]*np.dot(X[i][:],X[j][:])\n",
    "        \n",
    "        ramda_[i] = ramda_[i] + lr*(1-sum)    \n",
    "    \n",
    "    ramda_ = np.where(ramda_ < 0, 0, ramda_)\n",
    "    return ramda_\n",
    "\n",
    "\n",
    "for i in range(iter):\n",
    "    gradient_descent(X,y,ramda_)\n",
    "\n",
    "ramda_ = np.where(ramda_ < 0, 0, ramda_)\n",
    "#ramda_ = ramda_.astype(\"float16)\n",
    "print(n_support_vectors)\n",
    "ramda_\n",
    "\n",
    "#        self.ramda_ = self.ramda_ + lr(1- np.dot(ramda_,(np.dot(y,y.T))*np.dot(X, X.T)\n",
    "\n",
    "#         print(np.dot(error.T, X))"
   ]
  },
  {
   "cell_type": "markdown",
   "metadata": {},
   "source": [
    "## 【問題２】サポートベクターの決定"
   ]
  },
  {
   "cell_type": "markdown",
   "metadata": {},
   "source": [
    "ScratchSVMClassfier組み込み前のコードを残している。"
   ]
  },
  {
   "cell_type": "code",
   "execution_count": 28,
   "metadata": {},
   "outputs": [
    {
     "data": {
      "text/plain": [
       "array([[-1.02829008,  0.23898594],\n",
       "       [-0.97854994,  0.34188908],\n",
       "       [-0.50179779,  0.74466058],\n",
       "       [ 0.67098941, -0.58384118]])"
      ]
     },
     "execution_count": 28,
     "metadata": {},
     "output_type": "execute_result"
    }
   ],
   "source": [
    "threshold = 0.0001\n",
    "lmd_ = np.where(lmd_ < threshold, 0, lmd_)\n",
    "lmd_ = np.ravel(lmd_)\n",
    "\n",
    "n_support_vectors = np.count_nonzero(lmd_ > 0)\n",
    "index_support_vectors = np.nonzero(lmd_ )\n",
    "\n",
    "for i in index_support_vectors:\n",
    "    lam_sv = np.array(lmd_[i])\n",
    "    X_sv = np.array(X[i,:])\n",
    "    y_sv = np.array(y[0][i])\n",
    "    \n",
    "X_sv"
   ]
  },
  {
   "cell_type": "markdown",
   "metadata": {},
   "source": [
    "## 【問題３】　推定"
   ]
  },
  {
   "cell_type": "markdown",
   "metadata": {},
   "source": [
    "ScratchSVMClassfier組み込み前のコードを残している。"
   ]
  },
  {
   "cell_type": "code",
   "execution_count": 29,
   "metadata": {},
   "outputs": [],
   "source": [
    "def predict(X):\n",
    "    judge = np.sum(lam_sv*y_sv*np.dot(X,X_sv.T), axis=1)\n",
    "    judge = np.where(judge<0,-1,judge)\n",
    "    judge = np.where(judge>=0,1,judge).astype(\"int8\")\n",
    "    return judge"
   ]
  },
  {
   "cell_type": "markdown",
   "metadata": {},
   "source": [
    "## 【問題4】学習と推定"
   ]
  },
  {
   "cell_type": "markdown",
   "metadata": {},
   "source": [
    "X,yは、冒頭のデータ。\n",
    "このX,yをtrain_test_splitにて、X_train、y_train、X_test、y_testとしてsklearnへの入力と共通させている。\n",
    "スクラッチ、sklean 共に、各指標が同一の値となった。"
   ]
  },
  {
   "cell_type": "code",
   "execution_count": 56,
   "metadata": {},
   "outputs": [
    {
     "name": "stdout",
     "output_type": "stream",
     "text": [
      "5\n",
      "1.0\n"
     ]
    }
   ],
   "source": [
    "from sklearn.model_selection import train_test_split\n",
    "X_train,X_test,y_train,y_test = train_test_split(X,y, test_size=0.25, random_state = 1)\n",
    "\n",
    "clf = ScratchSVMClassifier(2000, 0.001, 0.00002)\n",
    "clf.fit(X_train,y_train,X_test,y_test)\n",
    "pred = clf.predict(X_test)\n",
    "print(np.sum(pred==y_test)/len(y_test))"
   ]
  },
  {
   "cell_type": "code",
   "execution_count": 57,
   "metadata": {},
   "outputs": [
    {
     "name": "stdout",
     "output_type": "stream",
     "text": [
      "1.0\n"
     ]
    },
    {
     "name": "stderr",
     "output_type": "stream",
     "text": [
      "C:\\Users\\hirot\\Anaconda3\\lib\\site-packages\\sklearn\\svm\\base.py:193: FutureWarning: The default value of gamma will change from 'auto' to 'scale' in version 0.22 to account better for unscaled features. Set gamma explicitly to 'auto' or 'scale' to avoid this warning.\n",
      "  \"avoid this warning.\", FutureWarning)\n"
     ]
    }
   ],
   "source": [
    "from sklearn.svm import SVC\n",
    "clf_sk = SVC()\n",
    "clf_sk.fit(X_train,y_train)\n",
    "pred_sk = clf_sk.predict(X_test)\n",
    "print(np.sum(pred_sk == y_test)/len(y_test))\n",
    "\n",
    "# pred = clf.predict(X_test)\n",
    "# clf.predict_proba(X_test)\n",
    "# clf.predict(X_test).T"
   ]
  },
  {
   "cell_type": "code",
   "execution_count": 58,
   "metadata": {},
   "outputs": [
    {
     "name": "stdout",
     "output_type": "stream",
     "text": [
      "## Sklearn SVC ##\n",
      "Accuracy:1.0\n",
      "precision:[1. 1.]\n",
      "recall:[1. 1.]\n",
      "f1_score:[1. 1.]\n",
      "\n",
      "## Sclatch  ##\n",
      "Accuracy:1.0\n",
      "precision:[1. 1.]\n",
      "recall:[1. 1.]\n",
      "f1_score:[1. 1.]\n"
     ]
    }
   ],
   "source": [
    "from sklearn.metrics import accuracy_score\n",
    "from sklearn.metrics import precision_score\n",
    "from sklearn.metrics import recall_score\n",
    "from sklearn.metrics import f1_score\n",
    "\n",
    "print(\"## Sklearn SVC ##\" )\n",
    "print(\"Accuracy:{}\".format(accuracy_score(y_test, pred_sk)))\n",
    "print(\"precision:{}\".format(precision_score(y_test, pred_sk, average=None)))\n",
    "print(\"recall:{}\".format(recall_score(y_test, pred_sk, average=None)))\n",
    "print(\"f1_score:{}\\n\".format(f1_score(y_test, pred_sk, average=None)))\n",
    "\n",
    "print(\"## Sclatch  ##\" )\n",
    "print(\"Accuracy:{}\".format(accuracy_score(y_test, pred)))\n",
    "print(\"precision:{}\".format(precision_score(y_test, pred, average=None)))\n",
    "print(\"recall:{}\".format(recall_score(y_test, pred, average=None)))\n",
    "print(\"f1_score:{}\".format(f1_score(y_test, pred, average=None)))\n"
   ]
  },
  {
   "cell_type": "markdown",
   "metadata": {},
   "source": [
    "## 【問題５】可視化"
   ]
  },
  {
   "cell_type": "code",
   "execution_count": 59,
   "metadata": {},
   "outputs": [
    {
     "data": {
      "image/png": "[encoded data removed]",
      "text/plain": [
       "<Figure size 432x288 with 1 Axes>"
      ]
     },
     "metadata": {
      "needs_background": "light"
     },
     "output_type": "display_data"
    }
   ],
   "source": [
    "import matplotlib.pyplot as plt\n",
    "from matplotlib.colors import ListedColormap\n",
    "import matplotlib.patches as mpatches\n",
    "\n",
    "def decision_region(X, y, model, step=0.01, title='decision region', xlabel='xlabel', ylabel='ylabel',\n",
    "                   target_names=['1', '-1']):\n",
    "    # setting\n",
    "    scatter_color = ['red', 'blue']\n",
    "    contourf_color = ['pink', 'skyblue']\n",
    "    n_class = 2    \n",
    "      \n",
    "    # pred\n",
    "    mesh_f0, mesh_f1  = np.meshgrid(np.arange(np.min(X[:,0])-0.5, np.max(X[:,0])+0.5, step), np.arange(np.min(X[:,1])-0.5, np.max(X[:,1])+0.5, step))\n",
    "    mesh = np.c_[np.ravel(mesh_f0),np.ravel(mesh_f1)]\n",
    "    y_pred = model.predict(mesh).reshape(mesh_f0.shape)\n",
    "    \n",
    "    # plot\n",
    "    plt.title(title)\n",
    "    plt.xlabel(xlabel)\n",
    "    plt.ylabel(ylabel)\n",
    "    plt.contourf(mesh_f0, mesh_f1, y_pred, n_class-1, cmap=ListedColormap(contourf_color))\n",
    "    plt.contour(mesh_f0, mesh_f1, y_pred, n_class-1, colors='y', linewidths=3, alpha=0.5)\n",
    "    for i, target in enumerate(set(y)):\n",
    "        plt.scatter(X[y==target][:, 0], X[y==target][:, 1], s=80, color=scatter_color[i], label=target_names[i], marker='o')\n",
    "    \n",
    "    plt.scatter(model.X_sv[:,0], model.X_sv[:,1], s=250, color=\"yellow\", marker= \"*\", label = \"support vector\")\n",
    "\n",
    "    patches = [mpatches.Patch(color=scatter_color[i], label=target_names[i]) for i in range(n_class)]\n",
    "    plt.legend(handles=patches)\n",
    "    plt.legend()\n",
    "    plt.show()\n",
    "\n",
    "# 標準化されたＸテストデータ、学習モデルの推定結果、学習済みモデル（フィッティングされたモデル）を入力する。\n",
    "\n",
    "\n",
    "decision_region(X_test, pred, clf)\n"
   ]
  },
  {
   "cell_type": "code",
   "execution_count": null,
   "metadata": {},
   "outputs": [],
   "source": []
  },
  {
   "cell_type": "markdown",
   "metadata": {},
   "source": [
    "# 行列についての勉強（課題とは関係ないですがメモとして残させて下さい。）"
   ]
  },
  {
   "cell_type": "code",
   "execution_count": 101,
   "metadata": {},
   "outputs": [
    {
     "name": "stdout",
     "output_type": "stream",
     "text": [
      "[[125  50  50  50 145]\n",
      " [  0   0   0   0   0]\n",
      " [  0   0   0   0   0]\n",
      " [ 50  30  25  25  76]\n",
      " [145  94  76  76 233]]\n",
      "[[125   0   0  50 145]\n",
      " [ 50   0   0  30  94]\n",
      " [ 50   0   0  25  76]\n",
      " [ 50   0   0  25  76]\n",
      " [145   0   0  76 233]]\n",
      "[[320   0   0 320 320]\n",
      " [174   0   0 174 174]\n",
      " [151   0   0 151 151]\n",
      " [151   0   0 151 151]\n",
      " [454   0   0 454 454]]\n",
      "\n",
      "##### np.dotの理解について #####\n",
      "[[320]\n",
      " [174]\n",
      " [151]\n",
      " [151]\n",
      " [454]]\n",
      "[[320 174 151 151 454]]\n",
      "すなわち、dot演算の第１引数の行数で結果が出力される\n",
      "\n",
      "アダマール積１\n",
      "[[125  50  50  50 145]\n",
      " [  0   0   0   0   0]\n",
      " [  0   0   0   0   0]\n",
      " [ 50  30  25  25  76]\n",
      " [145  94  76  76 233]]\n",
      "\n",
      "アダマール積の縦方向sumと横方向sum\n",
      "[320 174 151 151 454]\n",
      "[420   0   0 206 624]\n",
      "\n",
      "すなわち内積は、アダマール積の縦方向sumである。\n",
      "\n",
      "アダマール積２\n",
      "[[125   0   0  50 145]\n",
      " [ 50   0   0  30  94]\n",
      " [ 50   0   0  25  76]\n",
      " [ 50   0   0  25  76]\n",
      " [145   0   0  76 233]]\n",
      "\n",
      "アダマール積の縦方向sumと横方向sum\n",
      "[420   0   0 206 624]\n",
      "[320 174 151 151 454]\n",
      "\n",
      "すなわち内積は、アダマール積の縦方向sumである。\n"
     ]
    }
   ],
   "source": [
    "X = np.array([[10,5],\n",
    "              [2,6],\n",
    "              [3,4],\n",
    "              [3,4],\n",
    "              [8,13]])\n",
    "y = np.array([[1],[0],[0],[1],[1]])\n",
    "\n",
    "# 内積は転置の前後で形が変わる。5*5 で出したいときと、2*2で出したいときがあるが今回は5*5で出したい。\n",
    "XX = np.dot(X, X.T)\n",
    "YY = np.dot(y, y.T)\n",
    "\n",
    "print(XX*y)\n",
    "print(XX*y.T)\n",
    "print(np.dot(XX,YY))\n",
    "#　こちらは計算不可。print(np.dot(XX,y.T))\n",
    "\n",
    "print(\"\\n##### np.dotの理解について #####\")\n",
    "print(np.dot(XX,y))\n",
    "print(np.dot(y.T,XX))\n",
    "print(\"すなわち、dot演算の第１引数の行数で結果が出力される\")\n",
    "\n",
    "print(\"\\nアダマール積１\")\n",
    "ZZ = XX*y\n",
    "print(ZZ)\n",
    "print(\"\\nアダマール積の縦方向sumと横方向sum\")\n",
    "print(np.sum(ZZ, axis=0))\n",
    "print(np.sum(ZZ, axis=1))\n",
    "print(\"\\n通常なら（ｙの転置無し）なら、内積がアダマール積の縦方向sumとなる。\")\n",
    "\n",
    "print(\"\\nアダマール積２\")\n",
    "ZZ = XX*y.T\n",
    "print(ZZ)\n",
    "print(\"\\nアダマール積の縦方向sumと横方向sum\")\n",
    "print(np.sum(ZZ, axis=0))\n",
    "print(np.sum(ZZ, axis=1))\n",
    "print(\"\\n転置アリなら、内積がアダマール積の横方向sumとなる。\")\n",
    "\n",
    "# np.dot(y.T, y)\n",
    "# np.sum(X)"
   ]
  },
  {
   "cell_type": "code",
   "execution_count": null,
   "metadata": {},
   "outputs": [],
   "source": []
  }
 ],
 "metadata": {
  "kernelspec": {
   "display_name": "Python 3",
   "language": "python",
   "name": "python3"
  },
  "language_info": {
   "codemirror_mode": {
    "name": "ipython",
    "version": 3
   },
   "file_extension": ".py",
   "mimetype": "text/x-python",
   "name": "python",
   "nbconvert_exporter": "python",
   "pygments_lexer": "ipython3",
   "version": "3.7.4"
  }
 },
 "nbformat": 4,
 "nbformat_minor": 2
}
