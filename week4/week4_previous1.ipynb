{
 "cells": [
  {
   "cell_type": "markdown",
   "metadata": {},
   "source": [
    "# 【問題1】練習のために特徴量とカテゴリを選択"
   ]
  },
  {
   "cell_type": "code",
   "execution_count": 1,
   "metadata": {},
   "outputs": [],
   "source": [
    "import pandas as pd\n",
    "import numpy as np\n",
    "import matplotlib.pyplot as plt\n",
    "%matplotlib inline\n",
    "\n",
    "from sklearn.datasets import load_iris\n",
    "from sklearn.preprocessing import StandardScaler\n",
    "iris_data = load_iris()"
   ]
  },
  {
   "cell_type": "code",
   "execution_count": 2,
   "metadata": {},
   "outputs": [
    {
     "data": {
      "text/plain": [
       "dict_keys(['data', 'target', 'target_names', 'DESCR', 'feature_names', 'filename'])"
      ]
     },
     "execution_count": 2,
     "metadata": {},
     "output_type": "execute_result"
    }
   ],
   "source": [
    "iris_data.keys()"
   ]
  },
  {
   "cell_type": "code",
   "execution_count": 3,
   "metadata": {},
   "outputs": [],
   "source": [
    "X = pd.DataFrame(iris_data.data, columns=[\"sepal_length\", \"sepal_width\", \"petal_length\", \"petal_width\"])\n",
    "\n",
    "# pandasデータに変換。目的変数（ターゲット）が対象。\n",
    "y = pd.DataFrame(iris_data.target, columns=[\"Species\"])"
   ]
  },
  {
   "cell_type": "code",
   "execution_count": 4,
   "metadata": {},
   "outputs": [
    {
     "data": {
      "text/html": [
       "<div>\n",
       "<style scoped>\n",
       "    .dataframe tbody tr th:only-of-type {\n",
       "        vertical-align: middle;\n",
       "    }\n",
       "\n",
       "    .dataframe tbody tr th {\n",
       "        vertical-align: top;\n",
       "    }\n",
       "\n",
       "    .dataframe thead th {\n",
       "        text-align: right;\n",
       "    }\n",
       "</style>\n",
       "<table border=\"1\" class=\"dataframe\">\n",
       "  <thead>\n",
       "    <tr style=\"text-align: right;\">\n",
       "      <th></th>\n",
       "      <th>sepal_length</th>\n",
       "      <th>petal_length</th>\n",
       "      <th>Species</th>\n",
       "    </tr>\n",
       "  </thead>\n",
       "  <tbody>\n",
       "    <tr>\n",
       "      <td>50</td>\n",
       "      <td>7.0</td>\n",
       "      <td>4.7</td>\n",
       "      <td>1</td>\n",
       "    </tr>\n",
       "    <tr>\n",
       "      <td>51</td>\n",
       "      <td>6.4</td>\n",
       "      <td>4.5</td>\n",
       "      <td>1</td>\n",
       "    </tr>\n",
       "    <tr>\n",
       "      <td>52</td>\n",
       "      <td>6.9</td>\n",
       "      <td>4.9</td>\n",
       "      <td>1</td>\n",
       "    </tr>\n",
       "    <tr>\n",
       "      <td>53</td>\n",
       "      <td>5.5</td>\n",
       "      <td>4.0</td>\n",
       "      <td>1</td>\n",
       "    </tr>\n",
       "    <tr>\n",
       "      <td>54</td>\n",
       "      <td>6.5</td>\n",
       "      <td>4.6</td>\n",
       "      <td>1</td>\n",
       "    </tr>\n",
       "    <tr>\n",
       "      <td>...</td>\n",
       "      <td>...</td>\n",
       "      <td>...</td>\n",
       "      <td>...</td>\n",
       "    </tr>\n",
       "    <tr>\n",
       "      <td>145</td>\n",
       "      <td>6.7</td>\n",
       "      <td>5.2</td>\n",
       "      <td>2</td>\n",
       "    </tr>\n",
       "    <tr>\n",
       "      <td>146</td>\n",
       "      <td>6.3</td>\n",
       "      <td>5.0</td>\n",
       "      <td>2</td>\n",
       "    </tr>\n",
       "    <tr>\n",
       "      <td>147</td>\n",
       "      <td>6.5</td>\n",
       "      <td>5.2</td>\n",
       "      <td>2</td>\n",
       "    </tr>\n",
       "    <tr>\n",
       "      <td>148</td>\n",
       "      <td>6.2</td>\n",
       "      <td>5.4</td>\n",
       "      <td>2</td>\n",
       "    </tr>\n",
       "    <tr>\n",
       "      <td>149</td>\n",
       "      <td>5.9</td>\n",
       "      <td>5.1</td>\n",
       "      <td>2</td>\n",
       "    </tr>\n",
       "  </tbody>\n",
       "</table>\n",
       "<p>100 rows × 3 columns</p>\n",
       "</div>"
      ],
      "text/plain": [
       "     sepal_length  petal_length  Species\n",
       "50            7.0           4.7        1\n",
       "51            6.4           4.5        1\n",
       "52            6.9           4.9        1\n",
       "53            5.5           4.0        1\n",
       "54            6.5           4.6        1\n",
       "..            ...           ...      ...\n",
       "145           6.7           5.2        2\n",
       "146           6.3           5.0        2\n",
       "147           6.5           5.2        2\n",
       "148           6.2           5.4        2\n",
       "149           5.9           5.1        2\n",
       "\n",
       "[100 rows x 3 columns]"
      ]
     },
     "execution_count": 4,
     "metadata": {},
     "output_type": "execute_result"
    }
   ],
   "source": [
    "# 'setosa' = 0, 'virgiclor' = 1, 'virginca' = 2\n",
    "df = pd.concat([X,y],axis = 1)\n",
    "df1 = df.query(\"Species != 0\").drop([\"sepal_width\",\"petal_width\"], axis = 1)\n",
    "df1"
   ]
  },
  {
   "cell_type": "markdown",
   "metadata": {},
   "source": [
    "## 【問題2】データの分析"
   ]
  },
  {
   "cell_type": "code",
   "execution_count": 5,
   "metadata": {},
   "outputs": [
    {
     "data": {
      "image/png": "[encoded data removed]",
      "text/plain": [
       "<Figure size 1080x720 with 5 Axes>"
      ]
     },
     "metadata": {
      "needs_background": "light"
     },
     "output_type": "display_data"
    }
   ],
   "source": [
    "samp1_s = df.query(\"Species == 1\")['sepal_length']\n",
    "samp1_p = df.query(\"Species == 1\")['petal_length']\n",
    "samp2_s = df.query(\"Species == 2\")['sepal_length']\n",
    "samp2_p = df.query(\"Species == 2\")['petal_length']\n",
    "\n",
    "#plt.subplot(2,2,4)\n",
    "#plt.title(\"petal width (cm)\")\n",
    "samp_label = ['virgiclor', 'virginca']\n",
    "\n",
    "plt.figure(figsize=(15,10))\n",
    "plt.subplot(3,2,1)\n",
    "plt.title(\"difference of sepal_length\")\n",
    "plt.boxplot([samp1_s, samp2_s], labels = samp_label)\n",
    "plt.ylim(4.0,10.0)\n",
    "\n",
    "plt.subplot(3,2,2)\n",
    "plt.title(\"difference of petal_length\")\n",
    "plt.boxplot([samp1_p, samp2_p], labels = samp_label)\n",
    "plt.ylim(2.0,8.0)\n",
    "\n",
    "plt.subplot(3,2,3)\n",
    "plt.title(\"difference of sepal_length\")\n",
    "plt.violinplot([samp1_s, samp2_s])\n",
    "plt.ylim(4.0, 10.0)\n",
    "\n",
    "plt.subplot(3,2,4)\n",
    "plt.title(\"difference of petal_length\")\n",
    "plt.violinplot([samp1_p, samp2_p])\n",
    "plt.ylim(2.0, 8.0)\n",
    "\n",
    "plt.subplot(3,2,5)\n",
    "plt.title(\"difference of petal_length\")\n",
    "plt.scatter(samp1_s, samp1_p, color = 'b',label = samp_label[0])\n",
    "plt.scatter(samp2_s, samp2_p, color = 'orange', label = samp_label[1])\n",
    "plt.xlim(0.0, 10.0)\n",
    "plt.ylim(0.0, 10.0)\n",
    "plt.xlabel(\"sepal_length\")\n",
    "plt.ylabel(\"petal_length\")\n",
    "plt.legend()\n",
    "plt.show()"
   ]
  },
  {
   "cell_type": "markdown",
   "metadata": {},
   "source": [
    "# 問題３　前処理・訓練用データと検証用データの分割"
   ]
  },
  {
   "cell_type": "code",
   "execution_count": 24,
   "metadata": {},
   "outputs": [],
   "source": [
    "from sklearn.model_selection import train_test_split\n",
    "\n",
    "X1 = df1.iloc[:,0:2].values\n",
    "y1 = df1.iloc[:,2].values\n",
    "\n",
    "X_train, X_test, y_train, y_test = train_test_split(X1,y1, test_size=0.25)\n",
    "#print(X_train)"
   ]
  },
  {
   "cell_type": "markdown",
   "metadata": {},
   "source": [
    "# 問題４　前処理・標準化"
   ]
  },
  {
   "cell_type": "code",
   "execution_count": 25,
   "metadata": {},
   "outputs": [],
   "source": [
    "from sklearn.preprocessing import StandardScaler\n",
    "scaler = StandardScaler()\n",
    "\n",
    "# X_trainのみでfit。そしてX_trainとX_testでtransformする。\n",
    "scaler.fit(X_train,y_train)\n",
    "norml_X_train = scaler.transform(X_train)\n",
    "norml_X_test = scaler.transform(X_test)"
   ]
  },
  {
   "cell_type": "markdown",
   "metadata": {},
   "source": [
    "# 問題５　学習と推定  \n",
    "　上から順に、５＿ｎｎ、３＿ｎｎ、１＿ｎｎ"
   ]
  },
  {
   "cell_type": "code",
   "execution_count": 26,
   "metadata": {},
   "outputs": [
    {
     "name": "stdout",
     "output_type": "stream",
     "text": [
      "推定結果５_ｎｎ：[1 2 1 2 1 2 2 1 1 1 2 2 1 1 1 1 2 1 1 2 2 1 2 1 2]\n"
     ]
    }
   ],
   "source": [
    "from sklearn.neighbors import KNeighborsClassifier\n",
    "\n",
    "#標準化されたデータ（norml_X_train)で学習モデル作成\n",
    "neigh5 = KNeighborsClassifier(n_neighbors=5)\n",
    "kn_5_nn = neigh5.fit(norml_X_train, y_train)\n",
    "\n",
    "#学習済みモデルに、テストデータ（norml_X_test）を入力\n",
    "print(\"推定結果５_ｎｎ：{}\".format(neigh5.predict(norml_X_test)))\n",
    "#print(\"推定結果：{}\".format(kn_5_nn.predict(norml_X_test)))\n",
    "\n",
    "estimate_result5 = neigh5.predict(norml_X_test)"
   ]
  },
  {
   "cell_type": "code",
   "execution_count": 27,
   "metadata": {},
   "outputs": [
    {
     "name": "stdout",
     "output_type": "stream",
     "text": [
      "推定結果３_ｎｎ：[1 2 1 2 1 2 2 1 1 1 2 2 1 1 2 1 2 1 1 2 2 1 2 1 2]\n"
     ]
    }
   ],
   "source": [
    "#標準化されたデータ（norml_X_train)で学習モデル作成\n",
    "neigh3 = KNeighborsClassifier(n_neighbors=3)\n",
    "kn_3_nn = neigh3.fit(norml_X_train, y_train)\n",
    "\n",
    "#学習済みモデルに、テストデータ（norml_X_test）を入力\n",
    "print(\"推定結果３_ｎｎ：{}\".format(neigh3.predict(norml_X_test)))\n",
    "#print(\"推定結果：{}\".format(kn_3_nn.predict(norml_X_test))\n",
    "\n",
    "estimate_result3 = neigh3.predict(norml_X_test)"
   ]
  },
  {
   "cell_type": "code",
   "execution_count": 28,
   "metadata": {},
   "outputs": [
    {
     "name": "stdout",
     "output_type": "stream",
     "text": [
      "推定結果１_ｎｎ：[1 2 1 2 1 2 2 1 1 1 2 2 1 1 2 1 2 1 1 2 2 1 1 1 2]\n"
     ]
    }
   ],
   "source": [
    "#標準化されたデータ（norml_X_train)で学習モデル作成\n",
    "neigh1 = KNeighborsClassifier(n_neighbors=1)\n",
    "kn_1_nn = neigh1.fit(norml_X_train, y_train)\n",
    "\n",
    "#学習済みモデルに、テストデータ（norml_X_test）を入力\n",
    "print(\"推定結果１_ｎｎ：{}\".format(neigh1.predict(norml_X_test)))\n",
    "#print(\"推定結果：{}\".format(kn_1_nn.predict(norml_X_test)))\n",
    "\n",
    "estimate_result1 = neigh1.predict(norml_X_test)"
   ]
  },
  {
   "cell_type": "markdown",
   "metadata": {},
   "source": [
    "# 問題６  評価  \n",
    "\n",
    "　・Accuracy（正解率）：　学習モデルによる予測と、テストデータの結果とが一致している確率。  \n",
    "  すなわち（Ａ＋Ｄ）／（Ａ＋Ｂ＋Ｃ＋Ｄ）となる。 \n",
    "    \n",
    "  ・Precision（適合率）：　学習モデルによる予測が「virgiclor」である場合に、テストデータとの結果が一致している確率。  \n",
    "  すなわちＡ／（Ａ＋Ｂ）となる。  \n",
    "    \n",
    "   Recall（再現率）：テストデータの結果が「virgiclor」である場合に、学習モデルによる予測と一致している確率。  \n",
    "  すなわちＡ／（Ａ＋Ｃ）となる。  \n",
    "    \n",
    "  Ｆ値 ：適合率と再現率の調和平均。（２×適合率×再現率）／（適合率＋再現率）\n",
    "   \n",
    "   　　結果　　１　　２  \n",
    "   予測  \n",
    "   １　　　　　Ａ　　Ｂ  \n",
    "     ２　　　　　Ｃ　　Ｄ  \n",
    "     \n",
    "     \n",
    "   "
   ]
  },
  {
   "cell_type": "code",
   "execution_count": 29,
   "metadata": {},
   "outputs": [
    {
     "data": {
      "text/plain": [
       "0.96"
      ]
     },
     "execution_count": 29,
     "metadata": {},
     "output_type": "execute_result"
    }
   ],
   "source": [
    "# Accuracy\n",
    "from sklearn.metrics import accuracy_score\n",
    "accuracy_score(y_test, estimate_result5)"
   ]
  },
  {
   "cell_type": "code",
   "execution_count": 30,
   "metadata": {},
   "outputs": [
    {
     "data": {
      "text/plain": [
       "array([0.92857143, 1.        ])"
      ]
     },
     "execution_count": 30,
     "metadata": {},
     "output_type": "execute_result"
    }
   ],
   "source": [
    "# Precision\n",
    "from sklearn.metrics import precision_score\n",
    "precision_score(y_test, estimate_result5, average=None)"
   ]
  },
  {
   "cell_type": "code",
   "execution_count": 31,
   "metadata": {},
   "outputs": [
    {
     "data": {
      "text/plain": [
       "array([1.        , 0.91666667])"
      ]
     },
     "execution_count": 31,
     "metadata": {},
     "output_type": "execute_result"
    }
   ],
   "source": [
    "# Recall\n",
    "from sklearn.metrics import recall_score\n",
    "recall_score(y_test, estimate_result5, average=None)"
   ]
  },
  {
   "cell_type": "code",
   "execution_count": 32,
   "metadata": {},
   "outputs": [
    {
     "data": {
      "text/plain": [
       "array([0.96296296, 0.95652174])"
      ]
     },
     "execution_count": 32,
     "metadata": {},
     "output_type": "execute_result"
    }
   ],
   "source": [
    "# f1\n",
    "from sklearn.metrics import f1_score\n",
    "f1_score(y_test, estimate_result5, average=None)"
   ]
  },
  {
   "cell_type": "code",
   "execution_count": 33,
   "metadata": {},
   "outputs": [
    {
     "data": {
      "text/plain": [
       "array([[13,  0],\n",
       "       [ 1, 11]], dtype=int64)"
      ]
     },
     "execution_count": 33,
     "metadata": {},
     "output_type": "execute_result"
    }
   ],
   "source": [
    "# 混合行列\n",
    "from sklearn.metrics import confusion_matrix\n",
    "confusion_matrix(y_test, estimate_result5)"
   ]
  },
  {
   "cell_type": "markdown",
   "metadata": {},
   "source": [
    "# 【問題７】　可視化  "
   ]
  },
  {
   "cell_type": "code",
   "execution_count": 34,
   "metadata": {},
   "outputs": [
    {
     "data": {
      "image/png": "[encoded data removed]",
      "text/plain": [
       "<Figure size 432x288 with 1 Axes>"
      ]
     },
     "metadata": {
      "needs_background": "light"
     },
     "output_type": "display_data"
    }
   ],
   "source": [
    "import matplotlib.pyplot as plt\n",
    "from matplotlib.colors import ListedColormap\n",
    "import matplotlib.patches as mpatches\n",
    "\n",
    "def decision_region(X, y, model, step=0.01, title='decision region', xlabel='xlabel', ylabel='ylabel',\n",
    "                    target_names=['versicolor', 'virginica']):\n",
    "    # setting\n",
    "    scatter_color = ['red', 'blue']\n",
    "    contourf_color = ['pink', 'skyblue']\n",
    "    n_class = 2\n",
    "\n",
    "    # pred\n",
    "    mesh_f0, mesh_f1  = np.meshgrid(np.arange(np.min(X[:,0])-0.5, np.max(X[:,0])+0.5, step), np.arange(np.min(X[:,1])-0.5, np.max(X[:,1])+0.5, step))\n",
    "    mesh = np.c_[np.ravel(mesh_f0),np.ravel(mesh_f1)]\n",
    "    y_pred = model.predict(mesh).reshape(mesh_f0.shape)\n",
    "\n",
    "    # plot\n",
    "    plt.title(title)\n",
    "    plt.xlabel(xlabel)\n",
    "    plt.ylabel(ylabel)\n",
    "    plt.contourf(mesh_f0, mesh_f1, y_pred, n_class-1, cmap=ListedColormap(contourf_color))\n",
    "    plt.contour(mesh_f0, mesh_f1, y_pred, n_class-1, colors='y', linewidths=3, alpha=0.5)\n",
    "    for i, target in enumerate(set(y)):\n",
    "        plt.scatter(X[y==target][:, 0], X[y==target][:, 1], s=80, color=scatter_color[i], label=target_names[i], marker='o')\n",
    "    patches = [mpatches.Patch(color=scatter_color[i], label=target_names[i]) for i in range(n_class)]\n",
    "    plt.legend(handles=patches)\n",
    "    plt.legend()\n",
    "    plt.show()\n",
    "\n",
    "# 標準化されたＸテストデータ、学習モデルの推定結果、学習済みモデル（フィッティングされたモデル）を入力する。\n",
    "decision_region(norml_X_test, estimate_result5, kn_5_nn)\n",
    "#decision_region(norml_X_test, estimate_result5, neigh5)\n",
    "#学習前のモデルを入れても同じ結果になる？"
   ]
  },
  {
   "cell_type": "markdown",
   "metadata": {},
   "source": [
    "# 【問題８】他の手法の学習"
   ]
  },
  {
   "cell_type": "markdown",
   "metadata": {},
   "source": [
    "### ロジスティック回帰"
   ]
  },
  {
   "cell_type": "code",
   "execution_count": 37,
   "metadata": {},
   "outputs": [
    {
     "name": "stdout",
     "output_type": "stream",
     "text": [
      "推定結果ＳＶＭ：[1 2 1 2 1 2 2 1 1 2 2 2 1 1 1 1 2 1 1 2 2 1 2 1 2]\n"
     ]
    },
    {
     "name": "stderr",
     "output_type": "stream",
     "text": [
      "C:\\Users\\hirot\\Anaconda3\\lib\\site-packages\\sklearn\\linear_model\\logistic.py:432: FutureWarning: Default solver will be changed to 'lbfgs' in 0.22. Specify a solver to silence this warning.\n",
      "  FutureWarning)\n"
     ]
    }
   ],
   "source": [
    "from sklearn.linear_model import LogisticRegression\n",
    "clf1 = LogisticRegression()\n",
    "lg_regg = clf1.fit(norml_X_train, y_train)\n",
    "\n",
    "print(\"推定結果ＳＶＭ：{}\".format(lg_regg.predict(norml_X_test)))\n",
    "estimate_lg_regg = lg_regg.predict(norml_X_test)"
   ]
  },
  {
   "cell_type": "code",
   "execution_count": 38,
   "metadata": {},
   "outputs": [
    {
     "name": "stdout",
     "output_type": "stream",
     "text": [
      "正解率：0.92\n",
      "適合率：[0.92307692 0.91666667]\n",
      "再現率：[0.92307692 0.91666667]\n",
      "Ｆ値：[0.92307692 0.91666667]\n",
      "混合行列：\n",
      "[[12  1]\n",
      " [ 1 11]]\n"
     ]
    }
   ],
   "source": [
    "ac_score1 = accuracy_score(y_test, estimate_lg_regg)\n",
    "print(\"正解率：{}\".format(ac_score1))\n",
    "\n",
    "pre_score1 = precision_score(y_test, estimate_lg_regg, average=None)\n",
    "print(\"適合率：{}\".format(pre_score1))\n",
    "\n",
    "rcl_score1 = recall_score(y_test, estimate_lg_regg, average=None)\n",
    "print(\"再現率：{}\".format(rcl_score1))\n",
    "\n",
    "fone_score1 = f1_score(y_test, estimate_lg_regg, average=None)\n",
    "print(\"Ｆ値：{}\".format(fone_score1))\n",
    "\n",
    "print(\"混合行列：\\n{}\".format(confusion_matrix(y_test, estimate_lg_regg)))"
   ]
  },
  {
   "cell_type": "code",
   "execution_count": 39,
   "metadata": {},
   "outputs": [
    {
     "data": {
      "image/png": "[encoded data removed]",
      "text/plain": [
       "<Figure size 432x288 with 1 Axes>"
      ]
     },
     "metadata": {
      "needs_background": "light"
     },
     "output_type": "display_data"
    }
   ],
   "source": [
    "decision_region(norml_X_test, estimate_lg_regg, lg_regg)"
   ]
  },
  {
   "cell_type": "markdown",
   "metadata": {
    "collapsed": true
   },
   "source": [
    "## サポートベクタ―マシン"
   ]
  },
  {
   "cell_type": "code",
   "execution_count": 40,
   "metadata": {},
   "outputs": [
    {
     "name": "stdout",
     "output_type": "stream",
     "text": [
      "推定結果ＳＶＭ：[1 2 1 2 1 2 2 1 1 1 2 2 1 1 1 1 2 1 1 2 2 1 2 1 2]\n",
      "正解率：0.96\n",
      "適合率：[0.92857143 1.        ]\n",
      "再現率：[1.         0.91666667]\n",
      "Ｆ値：[0.96296296 0.95652174]\n",
      "混合行列：\n",
      "[[13  0]\n",
      " [ 1 11]]\n"
     ]
    }
   ],
   "source": [
    "from sklearn.svm import SVC\n",
    "clf2 = SVC(gamma='auto')\n",
    "svm_iris = clf2.fit(norml_X_train, y_train)\n",
    "\n",
    "print(\"推定結果ＳＶＭ：{}\".format(svm_iris.predict(norml_X_test)))\n",
    "estimate_svm = svm_iris.predict(norml_X_test)\n",
    "\n",
    "ac_score2 = accuracy_score(y_test, estimate_svm)\n",
    "print(\"正解率：{}\".format(ac_score2))\n",
    "pre_score2 = precision_score(y_test, estimate_svm, average=None)\n",
    "print(\"適合率：{}\".format(pre_score2))\n",
    "rcl_score2 = recall_score(y_test, estimate_svm, average=None)\n",
    "print(\"再現率：{}\".format(rcl_score2))\n",
    "fone_score2 = f1_score(y_test, estimate_svm, average=None)\n",
    "print(\"Ｆ値：{}\".format(fone_score2))\n",
    "print(\"混合行列：\\n{}\".format(confusion_matrix(y_test, estimate_svm)))"
   ]
  },
  {
   "cell_type": "code",
   "execution_count": 41,
   "metadata": {},
   "outputs": [
    {
     "data": {
      "image/png": "[encoded data removed]",
      "text/plain": [
       "<Figure size 432x288 with 1 Axes>"
      ]
     },
     "metadata": {
      "needs_background": "light"
     },
     "output_type": "display_data"
    }
   ],
   "source": [
    "decision_region(norml_X_test, estimate_svm, svm_iris)"
   ]
  },
  {
   "cell_type": "markdown",
   "metadata": {},
   "source": [
    "## 決定木 "
   ]
  },
  {
   "cell_type": "code",
   "execution_count": 42,
   "metadata": {},
   "outputs": [
    {
     "name": "stdout",
     "output_type": "stream",
     "text": [
      "推定結果ＤＴＣ：[1 2 1 2 1 2 2 1 1 1 2 2 1 1 1 1 2 1 1 2 2 1 2 1 2]\n",
      "正解率：0.96\n",
      "適合率：[0.92857143 1.        ]\n",
      "再現率：[1.         0.91666667]\n",
      "Ｆ値：[0.96296296 0.95652174]\n",
      "混合行列：\n",
      "[[13  0]\n",
      " [ 1 11]]\n"
     ]
    }
   ],
   "source": [
    "from sklearn.tree import DecisionTreeClassifier\n",
    "clf3 = DecisionTreeClassifier()\n",
    "DTC_iris = clf3.fit(norml_X_train, y_train)\n",
    "\n",
    "print(\"推定結果ＤＴＣ：{}\".format(DTC_iris.predict(norml_X_test)))\n",
    "estimate_DTC = DTC_iris.predict(norml_X_test)\n",
    "\n",
    "ac_score3 = accuracy_score(y_test, estimate_DTC)\n",
    "print(\"正解率：{}\".format(ac_score3))\n",
    "pre_score3 = precision_score(y_test, estimate_DTC, average=None)\n",
    "print(\"適合率：{}\".format(pre_score3))\n",
    "rcl_score3 = recall_score(y_test, estimate_DTC, average=None)\n",
    "print(\"再現率：{}\".format(rcl_score3))\n",
    "fone_score3 = f1_score(y_test, estimate_DTC, average=None)\n",
    "print(\"Ｆ値：{}\".format(fone_score3))\n",
    "print(\"混合行列：\\n{}\".format(confusion_matrix(y_test, estimate_DTC)))"
   ]
  },
  {
   "cell_type": "code",
   "execution_count": 43,
   "metadata": {},
   "outputs": [
    {
     "data": {
      "image/png": "[encoded data removed]",
      "text/plain": [
       "<Figure size 432x288 with 1 Axes>"
      ]
     },
     "metadata": {
      "needs_background": "light"
     },
     "output_type": "display_data"
    }
   ],
   "source": [
    "decision_region(norml_X_test, estimate_DTC, DTC_iris)"
   ]
  },
  {
   "cell_type": "markdown",
   "metadata": {},
   "source": [
    "## ランダムフォレスト"
   ]
  },
  {
   "cell_type": "code",
   "execution_count": 44,
   "metadata": {},
   "outputs": [
    {
     "name": "stdout",
     "output_type": "stream",
     "text": [
      "推定結果ＲＦＣ：[1 2 1 2 1 2 2 1 1 1 2 2 1 1 1 1 2 1 1 2 2 1 2 1 2]\n",
      "正解率：0.96\n",
      "適合率：[0.92857143 1.        ]\n",
      "再現率：[1.         0.91666667]\n",
      "Ｆ値：[0.96296296 0.95652174]\n",
      "混合行列：\n",
      "[[13  0]\n",
      " [ 1 11]]\n"
     ]
    },
    {
     "name": "stderr",
     "output_type": "stream",
     "text": [
      "C:\\Users\\hirot\\Anaconda3\\lib\\site-packages\\sklearn\\ensemble\\forest.py:245: FutureWarning: The default value of n_estimators will change from 10 in version 0.20 to 100 in 0.22.\n",
      "  \"10 in version 0.20 to 100 in 0.22.\", FutureWarning)\n"
     ]
    }
   ],
   "source": [
    "from sklearn.ensemble import RandomForestClassifier\n",
    "clf4 = RandomForestClassifier(max_depth=None, random_state=None)\n",
    "RFC_iris = clf4.fit(norml_X_train, y_train)\n",
    "\n",
    "print(\"推定結果ＲＦＣ：{}\".format(RFC_iris.predict(norml_X_test)))\n",
    "estimate_RFC = RFC_iris.predict(norml_X_test)\n",
    "\n",
    "ac_score4 = accuracy_score(y_test, estimate_RFC)\n",
    "print(\"正解率：{}\".format(ac_score4))\n",
    "pre_score4 = precision_score(y_test, estimate_RFC, average=None)\n",
    "print(\"適合率：{}\".format(pre_score4))\n",
    "rcl_score4 = recall_score(y_test, estimate_RFC, average=None)\n",
    "print(\"再現率：{}\".format(rcl_score4))\n",
    "fone_score4 = f1_score(y_test, estimate_RFC, average=None)\n",
    "print(\"Ｆ値：{}\".format(fone_score4))\n",
    "print(\"混合行列：\\n{}\".format(confusion_matrix(y_test, estimate_RFC)))"
   ]
  },
  {
   "cell_type": "code",
   "execution_count": 45,
   "metadata": {},
   "outputs": [
    {
     "data": {
      "image/png": "[encoded data removed]",
      "text/plain": [
       "<Figure size 432x288 with 1 Axes>"
      ]
     },
     "metadata": {
      "needs_background": "light"
     },
     "output_type": "display_data"
    }
   ],
   "source": [
    "decision_region(norml_X_test, estimate_RFC, RFC_iris)"
   ]
  },
  {
   "cell_type": "markdown",
   "metadata": {},
   "source": [
    "##  考察  \n",
    "各モデルと指標値について\n",
    "\n",
    "| 　         | 最近傍法 | ロジスティック | SVM  | 決定木 | ランダムF |\n",
    "|------------|----------|----------------|------|--------|-----------|\n",
    "| 正答率     | 0.96     | 0.92           | 0.96 | 0.96   | 0.96      |\n",
    "| ２の適合率 | 0.93     | 0.923          | 0.93 | 0.93   | 0.93      |\n",
    "| １の適合率 | 1        | 0.916          | 1    | 1      | 1         |\n",
    "| ２の再現率 | 1        | 0.923          | 1    | 1      | 1         |\n",
    "| １の再現率 | 0.92     | 0.916          | 0.92 | 0.92   | 0.92      |\n",
    "| ２のF値    | 0.96     | 0.923          | 0.96 | 0.96   | 0.96      |\n",
    "| １のF値    | 0.96     | 0.916          | 0.96 | 0.96   | 0.96      |\n",
    "\n",
    "  \n",
    "  \n",
    "今回の結果では、ロジスティック以外はほぼ同じ結果となり比較が難しいこととなった。  \n",
    "最近傍法、ＳＶＭ、決定木、ランダムＦの混合行列は［［13，0］，［1，11］］であって、1行2列目の成分がゼロである。  \n",
    "したがって、「１の適合率」と「２の再現率」が１となっており、この４つのモデルでは「ラベル２ではない」ということを１００％で判断しているものと考える。  \n",
    "\n",
    "なお訓練用データと検証用データの分割で、各モデルの指標値の結果が全く変わってくる。  \n",
    "決定木やランダムＦでは、Ｖｅｒｓｉｃｏｌｏｒの領域が飛び地のように離れて形成されている部分があり、データ分割の結果によってはこの飛び地内に検証用データが存在することがある。  \n",
    "このため現状の条件下では、決定木やランダムＦは過学習となりやすい状態であると考える。"
   ]
  },
  {
   "cell_type": "code",
   "execution_count": null,
   "metadata": {},
   "outputs": [],
   "source": []
  }
 ],
 "metadata": {
  "kernelspec": {
   "display_name": "Python 3",
   "language": "python",
   "name": "python3"
  },
  "language_info": {
   "codemirror_mode": {
    "name": "ipython",
    "version": 3
   },
   "file_extension": ".py",
   "mimetype": "text/x-python",
   "name": "python",
   "nbconvert_exporter": "python",
   "pygments_lexer": "ipython3",
   "version": "3.7.4"
  }
 },
 "nbformat": 4,
 "nbformat_minor": 2
}
