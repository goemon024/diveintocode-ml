{
 "cells": [
  {
   "cell_type": "markdown",
   "metadata": {},
   "source": [
    "## sprint08 ニューラルネットワーク  \n",
    "  \n",
    "問題６で、class ScratchSimpleNeuralNetrowkClassifier2()を作成。"
   ]
  },
  {
   "cell_type": "code",
   "execution_count": 36,
   "metadata": {},
   "outputs": [],
   "source": [
    "import matplotlib.pyplot as plt\n",
    "%matplotlib inline\n",
    "import numpy as np\n",
    "import pandas as pd\n",
    "import seaborn as sns\n",
    "import matplotlib.patches as patches\n",
    "from sklearn.model_selection import train_test_split\n",
    "\n",
    "pd.set_option('display.max_columns', 250)\n",
    "np.set_printoptions(threshold=np.inf)\n",
    "import tensorflow as tf"
   ]
  },
  {
   "cell_type": "code",
   "execution_count": 37,
   "metadata": {},
   "outputs": [],
   "source": [
    "from keras.datasets import mnist\n",
    "(X_train, y_train), (X_test, y_test) = mnist.load_data()"
   ]
  },
  {
   "cell_type": "code",
   "execution_count": 38,
   "metadata": {},
   "outputs": [],
   "source": [
    "### X_test y_testは使用しない？　###\n",
    "\n",
    "X_train = X_train.reshape(-1, 784)\n",
    "X_test = X_test.reshape(-1, 784)\n",
    "\n",
    "X_train = X_train.astype(np.float)\n",
    "X_test = X_test.astype(np.float)\n",
    "X_train /= 255\n",
    "X_test /= 255\n"
   ]
  },
  {
   "cell_type": "code",
   "execution_count": 39,
   "metadata": {},
   "outputs": [
    {
     "data": {
      "image/png": "[encoded data removed]",
      "text/plain": [
       "<Figure size 432x288 with 1 Axes>"
      ]
     },
     "metadata": {
      "needs_background": "light"
     },
     "output_type": "display_data"
    }
   ],
   "source": [
    "index = 0\n",
    "image = X_train[index].reshape(28,28)\n",
    "image = image.astype(np.float) # float型に変換\n",
    "image = image\n",
    "plt.imshow(image, 'gray')\n",
    "# plt.imshow(image, 'gray' ,vmin = 0, vmax = 255)\n",
    "plt.title('label : {}'.format(y_train[index]))\n",
    "plt.show()\n",
    "# print(image) # 値を確認"
   ]
  },
  {
   "cell_type": "code",
   "execution_count": 40,
   "metadata": {},
   "outputs": [],
   "source": [
    "from sklearn.preprocessing import OneHotEncoder\n",
    "enc = OneHotEncoder(handle_unknown='ignore', sparse=False)\n",
    "y_train_one_hot = enc.fit_transform(y_train[:, np.newaxis])\n",
    "y_test_one_hot = enc.transform(y_test[:, np.newaxis])\n",
    "#print(y_train.shape) # (60000,)\n",
    "#print(y_train_one_hot.shape) # (60000, 10)\n",
    "#print(y_train_one_hot.dtype) # float64"
   ]
  },
  {
   "cell_type": "code",
   "execution_count": 41,
   "metadata": {},
   "outputs": [],
   "source": [
    "from sklearn.model_selection import train_test_split\n",
    "X_train, X_val, y_train, y_val = train_test_split(X_train, y_train_one_hot, test_size=0.2)"
   ]
  },
  {
   "cell_type": "code",
   "execution_count": 51,
   "metadata": {},
   "outputs": [],
   "source": [
    "class GetMiniBatch:\n",
    "    \"\"\"\n",
    "    ミニバッチを取得するイテレータ\n",
    "\n",
    "    Parameters\n",
    "    ----------\n",
    "    X : 次の形のndarray, shape (n_samples, n_features)\n",
    "      訓練データ\n",
    "    y : 次の形のndarray, shape (n_samples, 1)\n",
    "      正解値\n",
    "    batch_size : int\n",
    "      バッチサイズ\n",
    "    seed : int\n",
    "      NumPyの乱数のシード\n",
    "    \"\"\"\n",
    "    def __init__(self, X, y, batch_size = 20, seed=0):\n",
    "        self.batch_size = batch_size\n",
    "        np.random.seed(seed)\n",
    "        shuffle_index = np.random.permutation(np.arange(X.shape[0]))\n",
    "        self._X = X[shuffle_index]\n",
    "        self._y = y[shuffle_index]\n",
    "        self._stop = np.ceil(X.shape[0]/self.batch_size).astype(np.int)\n",
    "    def __len__(self):\n",
    "        return self._stop\n",
    "    def __getitem__(self,item):\n",
    "        p0 = item*self.batch_size\n",
    "        p1 = item*self.batch_size + self.batch_size\n",
    "        return self._X[p0:p1], self._y[p0:p1]        \n",
    "    def __iter__(self):\n",
    "        self._counter = 0\n",
    "        return self\n",
    "    def __next__(self):\n",
    "        if self._counter >= self._stop:\n",
    "            raise StopIteration()\n",
    "        p0 = self._counter*self.batch_size\n",
    "        p1 = self._counter*self.batch_size + self.batch_size\n",
    "        self._counter += 1\n",
    "        return self._X[p0:p1], self._y[p0:p1]"
   ]
  },
  {
   "cell_type": "markdown",
   "metadata": {},
   "source": [
    "## 【問題1】重みの初期値を決めるコードの作成  \n",
    "ニューラルネットワークの各層の重みの初期値を決めるコードを作成してください。"
   ]
  },
  {
   "cell_type": "code",
   "execution_count": 145,
   "metadata": {},
   "outputs": [
    {
     "name": "stdout",
     "output_type": "stream",
     "text": [
      "(400,) (200,) (10,)\n"
     ]
    }
   ],
   "source": [
    "n_nodes = [400,200]\n",
    "n_features = 784\n",
    "target_num = 10\n",
    "sigma = 0.01\n",
    "\n",
    "w1 = np.random.randn(n_features, n_nodes[0])*sigma\n",
    "w2 = np.random.randn(n_nodes[0],n_nodes[1])*sigma\n",
    "w3 = np.random.randn(n_nodes[1],target_num)*sigma\n",
    "\n",
    "b1 = np.random.randn(n_nodes[0])*sigma\n",
    "b2 = np.random.randn(n_nodes[1])*sigma\n",
    "b3 = np.random.randn(target_num)*sigma\n",
    "\n",
    "print(b1.shape,b2.shape,b3.shape)"
   ]
  },
  {
   "cell_type": "markdown",
   "metadata": {},
   "source": [
    "## 【問題2】フォワードプロパゲーションの実装"
   ]
  },
  {
   "cell_type": "code",
   "execution_count": 146,
   "metadata": {},
   "outputs": [],
   "source": [
    "def f_propagation(x,w,b, activation=\"sigmoid\"):\n",
    "    A = np.dot(x,w) + b\n",
    "    if activation == \"sigmoid\":\n",
    "        Z = 1/(1 + np.exp(-A))\n",
    "    elif activation == \"htan\":  \n",
    "        Z = (exp(A)-exp(-A))/(exp(A)+exp(-A))\n",
    "    elif activation == \"softmax\":\n",
    "        Z = (np.exp(A))/(np.sum(np.exp(A),axis=1)).reshape(-1,1)\n",
    "    return Z,A"
   ]
  },
  {
   "cell_type": "code",
   "execution_count": 147,
   "metadata": {},
   "outputs": [
    {
     "data": {
      "text/plain": [
       "(20, 10)"
      ]
     },
     "execution_count": 147,
     "metadata": {},
     "output_type": "execute_result"
    }
   ],
   "source": [
    "Z1,A1 = f_propagation(X_train[0:20,:],w1,b1,\"sigmoid\")\n",
    "Z2,A2 = f_propagation(Z1,w2,b2,\"sigmoid\")\n",
    "Z3,A3 = f_propagation(Z2,w3,b3,\"softmax\")\n",
    "Z3.shape"
   ]
  },
  {
   "cell_type": "markdown",
   "metadata": {},
   "source": [
    "## 【問題3】交差エントロピー誤差の実装"
   ]
  },
  {
   "cell_type": "code",
   "execution_count": 148,
   "metadata": {},
   "outputs": [],
   "source": [
    "def object_func(label_array,ff_output):\n",
    "    ## label_arrayはバッチ内の１Ｈエンコードのターゲットデータ。ff_outputはフィードフォワードの結果。（行：サンプル数、列：ラベル数）\n",
    "    c_entropy = -1/len(label_array)*np.sum(label_array*np.log(ff_output))\n",
    "    return c_entropy"
   ]
  },
  {
   "cell_type": "code",
   "execution_count": 149,
   "metadata": {},
   "outputs": [
    {
     "name": "stdout",
     "output_type": "stream",
     "text": [
      "2.307997953734747\n"
     ]
    }
   ],
   "source": [
    "ff_output = Z3\n",
    "label_array = y_train_one_hot[0:20,:]\n",
    "\n",
    "print(object_func(label_array,ff_output))"
   ]
  },
  {
   "cell_type": "markdown",
   "metadata": {},
   "source": [
    "## 【問題4】バックプロパゲーションの実装  "
   ]
  },
  {
   "cell_type": "code",
   "execution_count": 150,
   "metadata": {},
   "outputs": [
    {
     "name": "stdout",
     "output_type": "stream",
     "text": [
      "(20, 10) (20, 200) (20, 400)\n",
      "(400,) (200,) (10,)\n",
      "(784, 400) (400, 200) (200, 10)\n"
     ]
    }
   ],
   "source": [
    "target = y_train_one_hot[0:20,:]\n",
    "ff_output = Z3\n",
    "lr = 0.02\n",
    "\n",
    "def sigmoid(x):\n",
    "    return 1 / (1 + np.exp(-x))\n",
    "\n",
    "delta1 = ff_output - target\n",
    "delta2 = ((1-sigmoid(A2))*sigmoid(A2))*(np.dot(delta1,w3.T))\n",
    "delta3 = ((1-sigmoid(A1))*sigmoid(A1))*(np.dot(delta2,w2.T))\n",
    "\n",
    "def backpro_bias(b,lr,delta):\n",
    "    b_new = b - lr * np.mean(delta,axis=0)\n",
    "    return b_new\n",
    "\n",
    "def backpro_coef(w,lr,under_output,delta):    \n",
    "    w_new = w - lr * np.dot(under_output.T,delta)\n",
    "    return  w_new\n",
    "\n",
    "b3_new = backpro_bias(b3,lr,delta1)\n",
    "b2_new = backpro_bias(b2,lr,delta2)\n",
    "b1_new = backpro_bias(b1,lr,delta3)\n",
    "w3_new = backpro_coef(w3, lr, Z2, delta1)\n",
    "w2_new = backpro_coef(w2, lr, Z1, delta2)\n",
    "w1_new = backpro_coef(w1, lr, X_train[0:20], delta3)\n",
    "\n",
    "print(delta1.shape,delta2.shape,delta3.shape)\n",
    "print(b1_new.shape,b2_new.shape,b3_new.shape)\n",
    "print(w1_new.shape,w2_new.shape,w3_new.shape)"
   ]
  },
  {
   "cell_type": "markdown",
   "metadata": {},
   "source": [
    "## 【問題5】推定"
   ]
  },
  {
   "cell_type": "markdown",
   "metadata": {},
   "source": [
    "## 【問題6】学習と推定 （イタレーション数はfit関数内で入力）"
   ]
  },
  {
   "cell_type": "code",
   "execution_count": 153,
   "metadata": {},
   "outputs": [],
   "source": [
    "class ScratchSimpleNeuralNetrowkClassifier2():\n",
    "\n",
    "    def __init__(self, verbose = True):\n",
    "        self.verbose = verbose    \n",
    "    \n",
    "    def sigmoid(self, x):\n",
    "        return 1 / (1 + np.exp(-x))\n",
    "\n",
    "    def f_propagation(self,x,w,b, activation=\"sigmoid\"):\n",
    "        A = np.dot(x,w) + b\n",
    "        if activation == \"sigmoid\":\n",
    "            Z = 1/(1 + np.exp(-A))        \n",
    "        elif activation == \"tanh\":  \n",
    "            Z = (np.exp(A)-np.exp(-A))/(np.exp(A)+np.exp(-A))\n",
    "        elif activation == \"softmax\":\n",
    "            Z = (np.exp(A.T))/np.sum(np.exp(A),axis=1)\n",
    "            Z = Z.T\n",
    "        return Z,A\n",
    "\n",
    "    def backpro_bias(self,b,lr,delta):\n",
    "        b_new = b - lr * np.sum(delta,axis=0)   ### mean\n",
    "        return b_new\n",
    "    def backpro_coef(self,w,lr,under_output,delta): \n",
    "        w_new = w - lr * np.dot(under_output.T, delta)\n",
    "        return  w_new\n",
    "    \n",
    "    def object_func(self,y,z):\n",
    "        c_entropy = -1/len(y)*np.sum(y*np.log(z))\n",
    "        return c_entropy\n",
    "    \n",
    "    def fit(self,X, y):\n",
    "        \n",
    "        n_nodes = [400,200]\n",
    "        n_features = 784\n",
    "        target_num = 10\n",
    "        sigma = 0.01\n",
    "        \n",
    "        self.w1 = np.random.randn(n_features, n_nodes[0])*sigma\n",
    "        self.w2 = np.random.randn(n_nodes[0],n_nodes[1])*sigma\n",
    "        self.w3 = np.random.randn(n_nodes[1],target_num)*sigma        \n",
    "        self.b1 = np.random.randn((n_nodes[0]))*sigma\n",
    "        self.b2 = np.random.randn((n_nodes[1]))*sigma\n",
    "        self.b3 = np.random.randn((target_num))*sigma\n",
    "        \n",
    "        get_mini_batch = GetMiniBatch(X, y)\n",
    "        lr = 0.02\n",
    "        \n",
    "        #### イタレーション数の入力 ###\n",
    "        iter_num = 2\n",
    "        self.c_entropy = np.zeros(iter_num)\n",
    "        \n",
    "        for i in range(iter_num):\n",
    "            for mini_X_train, mini_y_train in get_mini_batch:\n",
    "                Z1,A1 = self.f_propagation(mini_X_train, self.w1, self.b1,\"sigmoid\")\n",
    "                Z2,A2 = self.f_propagation(Z1, self.w2, self.b2, \"sigmoid\")\n",
    "                Z3,A3 = self.f_propagation(Z2, self.w3, self.b3,\"softmax\")\n",
    "\n",
    "                delta1 =  Z3 - mini_y_train\n",
    "                delta2 = ((1-self.sigmoid(A2))*self.sigmoid(A2))*(np.dot(delta1, self.w3.T))\n",
    "                delta3 = ((1-self.sigmoid(A1))*self.sigmoid(A1))*(np.dot(delta2, self.w2.T))\n",
    "                \n",
    "                self.b3 = self.backpro_bias(self.b3,lr,delta1)\n",
    "                self.b2 = self.backpro_bias(self.b2,lr,delta2)\n",
    "                self.b1 = self.backpro_bias(self.b1,lr,delta3)\n",
    "                self.w3 = self.backpro_coef(self.w3, lr, Z2, delta1)\n",
    "                self.w2 = self.backpro_coef(self.w2, lr, Z1, delta2)\n",
    "                self.w1 = self.backpro_coef(self.w1, lr, mini_X_train, delta3)\n",
    "                      \n",
    "            Z1,A1 = self.f_propagation(X, self.w1, self.b1, \"sigmoid\")\n",
    "            Z2,A2 = self.f_propagation(Z1, self.w2, self.b2,\"sigmoid\")\n",
    "            Z3,A3 = self.f_propagation(Z2, self.w3, self.b3,\"softmax\")\n",
    "        \n",
    "            self.c_entropy[i] = self.object_func(y,Z3)\n",
    "\n",
    "        print(self.c_entropy)\n",
    "\n",
    "    def predict(self, X):\n",
    "        Z1,A1 = self.f_propagation(X, self.w1, self.b1, \"sigmoid\")\n",
    "        Z2,A2 = self.f_propagation(Z1, self.w2, self.b2,\"sigmoid\")\n",
    "        Z3,A3 = self.f_propagation(Z2, self.w3, self.b3,\"softmax\")\n",
    "        pred = np.argmax(Z3,axis=1)\n",
    "        return pred"
   ]
  },
  {
   "cell_type": "code",
   "execution_count": 128,
   "metadata": {},
   "outputs": [
    {
     "name": "stdout",
     "output_type": "stream",
     "text": [
      "[0.82757798 0.29105773 0.19208006 0.14245117 0.11711574]\n"
     ]
    }
   ],
   "source": [
    "## 5回のイタレーションでの学習モデルフィッティング ##\n",
    "clf2 = ScratchSimpleNeuralNetrowkClassifier2()\n",
    "clf2.fit(X_train, y_train)"
   ]
  },
  {
   "cell_type": "code",
   "execution_count": 129,
   "metadata": {},
   "outputs": [
    {
     "data": {
      "text/plain": [
       "array([0.82757798, 0.29105773, 0.19208006, 0.14245117, 0.11711574])"
      ]
     },
     "execution_count": 129,
     "metadata": {},
     "output_type": "execute_result"
    }
   ],
   "source": [
    "## 5回のイタレーションでのクロスエントロピー ##\n",
    "clf2.c_entropy"
   ]
  },
  {
   "cell_type": "code",
   "execution_count": 131,
   "metadata": {},
   "outputs": [
    {
     "data": {
      "text/plain": [
       "array([7, 2, 1, 0, 4, 1, 4, 9, 6, 9, 0, 6, 9, 0, 1, 5, 9, 7, 3, 4, 9, 6,\n",
       "       6, 5, 4, 0, 7, 4, 0, 1, 3, 1, 3, 4, 7, 2, 7, 1, 2, 1, 1, 7, 4, 2,\n",
       "       3, 5, 1, 2, 4, 4, 6, 3, 5, 5, 6, 0, 4, 1, 9, 5, 7, 8, 9, 3, 7, 4,\n",
       "       6, 4, 3, 0, 7, 0, 2, 9, 1, 7, 3, 2, 9, 7, 7, 6, 2, 7, 8, 4, 7, 3,\n",
       "       6, 1, 3, 6, 9, 3, 1, 4, 1, 7, 6, 9], dtype=int64)"
      ]
     },
     "execution_count": 131,
     "metadata": {},
     "output_type": "execute_result"
    }
   ],
   "source": [
    "## 推定結果の出力 ##\n",
    "clf2.predict(X_test[0:100])"
   ]
  },
  {
   "cell_type": "code",
   "execution_count": 130,
   "metadata": {},
   "outputs": [
    {
     "data": {
      "text/plain": [
       "0.9572"
      ]
     },
     "execution_count": 130,
     "metadata": {},
     "output_type": "execute_result"
    }
   ],
   "source": [
    "##　accuracyの計算　##\n",
    "from sklearn.metrics import accuracy_score\n",
    "accuracy_score(y_test, clf2.predict(X_test))"
   ]
  },
  {
   "cell_type": "markdown",
   "metadata": {},
   "source": [
    "## 【問題7】学習曲線のプロット"
   ]
  },
  {
   "cell_type": "code",
   "execution_count": 133,
   "metadata": {},
   "outputs": [
    {
     "name": "stdout",
     "output_type": "stream",
     "text": [
      "[0.82757798 0.29105773 0.19208006 0.14245117 0.11711574 0.10198044\n",
      " 0.09339294 0.08611677 0.07563769 0.06391929 0.05372948 0.04555398\n",
      " 0.03856558 0.03419757 0.03021526]\n"
     ]
    }
   ],
   "source": [
    "##　15回のイタレーション回数での学習曲線プロット ##\n",
    "clf2 = ScratchSimpleNeuralNetrowkClassifier2()\n",
    "clf2.fit(X_train, y_train)"
   ]
  },
  {
   "cell_type": "code",
   "execution_count": 144,
   "metadata": {},
   "outputs": [
    {
     "data": {
      "text/plain": [
       "Text(0, 0.5, 'cross_entropy')"
      ]
     },
     "execution_count": 144,
     "metadata": {},
     "output_type": "execute_result"
    },
    {
     "data": {
      "image/png": "[encoded data removed]",
      "text/plain": [
       "<Figure size 432x288 with 1 Axes>"
      ]
     },
     "metadata": {
      "needs_background": "light"
     },
     "output_type": "display_data"
    }
   ],
   "source": [
    "X_axis = range(1,16)\n",
    "Y_axis = clf2.c_entropy\n",
    "plt.plot(X_axis, Y_axis)\n",
    "plt.xlabel(\"epoc_number\")\n",
    "plt.ylabel(\"cross_entropy\")"
   ]
  }
 ],
 "metadata": {
  "kernelspec": {
   "display_name": "keras231_tf",
   "language": "python",
   "name": "keras231_tf"
  },
  "language_info": {
   "codemirror_mode": {
    "name": "ipython",
    "version": 3
   },
   "file_extension": ".py",
   "mimetype": "text/x-python",
   "name": "python",
   "nbconvert_exporter": "python",
   "pygments_lexer": "ipython3",
   "version": "3.7.4"
  }
 },
 "nbformat": 4,
 "nbformat_minor": 2
}
