{
 "cells": [
  {
   "cell_type": "markdown",
   "metadata": {},
   "source": [
    "【問題1】行列積を手計算する"
   ]
  },
  {
   "cell_type": "markdown",
   "metadata": {},
   "source": [
    "$$\n",
    "    \\boldsymbol{A} =\n",
    "        \\left[\\begin{array}{ccc}\n",
    "            -1 &  2  &  3 \\\\\n",
    "            4  & -5  &  6 \\\\\n",
    "            7  &  8  & -9 \\\\\n",
    "        \\end{array}\\right] \\quad\n",
    "$$\n",
    "\n",
    "\n",
    "$$\n",
    "    \\boldsymbol{B} =\n",
    "        \\left[\\begin{array}{ccc}\n",
    "            0  &  2  &  1 \\\\\n",
    "            0  &  2  & -8 \\\\\n",
    "            2  &  9  & -1 \\\\\n",
    "        \\end{array}\\right] \\quad\n",
    "$$\n",
    "\n",
    "(AB)<sub/>11</sub> = A<sub/>11</sub>B<sub/>11</sub> + A<sub/>12</sub>B<sub/>21</sub> + A<sub/>13</sub>B<sub/>31</sub>\n",
    "\n",
    "$$\n",
    "    \\boldsymbol{A}{B} =\n",
    "        \\left[\\begin{array}{ccc}\n",
    "            (-1)*(0)+(2)*(0)+(3)*(2)  &  (-1)*(2)+(2)*(2)+(3)*(9)  &  (-1)*(1)+(2)*(-8)+(3)*(-1) \\\\\n",
    "            (4)*(0)+(-5)*(0)+(6)*(2)  &  (4)*(2)+(-5)*(2)+(6)*(9)  &  (4)*(1)+(-5)*(-8)+(6)*(-1) \\\\\n",
    "            (7)*(0)+(8)*(0)+(-9)*(2)  &  (7)*(2)+(8)*(2)+(-9)*(9)  &  (7)*(1)+(8)*(-8)+(-9)*(-1) \\\\\n",
    "        \\end{array}\\right] \\quad\n",
    "$$\n",
    "  \n",
    "$$\n",
    "    \\boldsymbol{A}{B} =\n",
    "        \\left[\\begin{array}{ccc}\n",
    "             6  &   29  &  -20 \\\\\n",
    "            12  &   52  &   38 \\\\\n",
    "           -18  &  -51  &  -48 \\\\\n",
    "        \\end{array}\\right] \\quad\n",
    "$$\n",
    "\n"
   ]
  },
  {
   "cell_type": "markdown",
   "metadata": {},
   "source": [
    "【問題2】NumPyの関数による計算"
   ]
  },
  {
   "cell_type": "code",
   "execution_count": 8,
   "metadata": {},
   "outputs": [
    {
     "name": "stdout",
     "output_type": "stream",
     "text": [
      "[[  6  29 -20]\n",
      " [ 12  52  38]\n",
      " [-18 -51 -48]]\n"
     ]
    }
   ],
   "source": [
    "import numpy as np\n",
    "a = np.array([[-1, 2, 3],\n",
    "              [ 4,-5, 6],\n",
    "              [ 7, 8,-9]])\n",
    "b = np.array([[ 0, 2, 1],\n",
    "             [ 0, 2,-8],\n",
    "             [ 2, 9,-1]])\n",
    "ab1 = np.matmul(a,b)\n",
    "print(ab1)\n",
    "#ab2 = np.dot(a,b)\n",
    "#print(ab2)"
   ]
  },
  {
   "cell_type": "markdown",
   "metadata": {},
   "source": [
    "【問題3】ある要素の計算を実装"
   ]
  },
  {
   "cell_type": "code",
   "execution_count": 38,
   "metadata": {},
   "outputs": [
    {
     "name": "stdout",
     "output_type": "stream",
     "text": [
      "6\n"
     ]
    }
   ],
   "source": [
    "#関数内のfor文では、Ａの行とＢの列を固定、Ａの列とＢの行を変化させる。ループさせて合計する。\n",
    "\n",
    "def obtain_element(column,row,a_y,b_y,ab_size):\n",
    "    sum = 0\n",
    "    for i in range(ab_size):\n",
    "        sum += a_y[column][i]*b_y[i][row]\n",
    "    return sum\n",
    "\n",
    "# print(a.shape[0])\n",
    "print(obtain_element(0,0,a,b,3))"
   ]
  },
  {
   "cell_type": "markdown",
   "metadata": {},
   "source": [
    "【問題4】行列積を行う関数の作成"
   ]
  },
  {
   "cell_type": "markdown",
   "metadata": {},
   "source": [
    "＜ＭＥＭＯ＞\n",
    "  引き数を２つの行列とする関数「obtain_matrix_prodact」。 \n",
    "  その内部で問題３での関数「obtain_element」を呼び出している。  \n",
    "　obtain_elementの引数は、columnとrowに対応するループ変数ⅰとｊ、さらに「obtain_matrix_prodact」の引き数である２つの行列、Ａの次元としている。  \n",
    "　obtain_matrix_productは、行列積を返す。  \n",
    "  obtain_elementは、 行列積の各要素を返している。\n"
   ]
  },
  {
   "cell_type": "code",
   "execution_count": 46,
   "metadata": {},
   "outputs": [
    {
     "name": "stdout",
     "output_type": "stream",
     "text": [
      "[[  6  29 -20]\n",
      " [ 12  52  38]\n",
      " [-18 -51 -48]]\n"
     ]
    }
   ],
   "source": [
    "def obtain_matrix_product(a_x,b_x):\n",
    "#返り値とする行列積を定義している。\n",
    "    matrix_product = np.array(range(a_x.shape[0]*b_x.shape[1]))\n",
    "    matrix_product = matrix_product.reshape(a_x.shape[0], b_x.shape[1])\n",
    "#２重ループでobtain_elementを呼び出し、各要素を演算。\n",
    "    for i in range(a_x.shape[0]):\n",
    "        for j in range(b_x.shape[1]):\n",
    "            matrix_product[i][j] = obtain_element(i, j, a_x, b_x, a_x.shape[1])\n",
    "    return matrix_product\n",
    "\n",
    "a5 = np.array([[-1, 2, 3],\n",
    "              [ 4,-5, 6],\n",
    "              [ 7, 8,-9]])\n",
    "b5 = np.array([[ 0, 2, 1],\n",
    "             [ 0, 2,-8],\n",
    "             [ 2, 9,-1]])\n",
    "\n",
    "print(obtain_matrix_product(a5, b5))"
   ]
  },
  {
   "cell_type": "markdown",
   "metadata": {},
   "source": [
    "【問題5】計算が定義されない入力を判定する。"
   ]
  },
  {
   "cell_type": "code",
   "execution_count": null,
   "metadata": {},
   "outputs": [],
   "source": [
    "２行目から４行目を加筆。"
   ]
  },
  {
   "cell_type": "code",
   "execution_count": 61,
   "metadata": {},
   "outputs": [
    {
     "data": {
      "text/plain": [
       "array([[  6,  29, -20],\n",
       "       [ 12,  52,  38],\n",
       "       [-18, -51, -48]])"
      ]
     },
     "execution_count": 61,
     "metadata": {},
     "output_type": "execute_result"
    }
   ],
   "source": [
    "def obtain_matrix_product(a_x,b_x):\n",
    "# Ａの列成分とＢの行成分の要素数が等しくなければ行列積は求められない。\n",
    "    if a_x.shape[1] != b_x.shape[0]:\n",
    "        return print(\"行列積を求められません\")\n",
    "#返り値とする行列積を定義している。行列積はＡの行数とＢの列数となる。\n",
    "    matrix_product = np.array(range(a_x.shape[0]*b_x.shape[1]))\n",
    "    matrix_product = matrix_product.reshape(a_x.shape[0], b_x.shape[1])\n",
    "#２重ループでobtain_elementを呼び出し、各要素を演算。\n",
    "    for i in range(a_x.shape[0]):\n",
    "        for j in range(b_x.shape[1]):\n",
    "            matrix_product[i][j] = obtain_element(i, j, a_x, b_x, a_x.shape[1])\n",
    "    return matrix_product\n",
    "\n",
    "a5 = np.array([[-1, 2, 3],\n",
    "              [ 4,-5, 6],\n",
    "              [ 7, 8,-9]])\n",
    "b5 = np.array([[ 0, 2, 1],\n",
    "             [ 0, 2,-8],\n",
    "             [ 2, 9,-1]])\n",
    "\n",
    "obtain_matrix_product(a5, b5)"
   ]
  },
  {
   "cell_type": "markdown",
   "metadata": {},
   "source": [
    "【問題6】転置"
   ]
  },
  {
   "cell_type": "markdown",
   "metadata": {},
   "source": [
    "＜ＭＥＭＯ＞転置をする意義がよくわからなかった。行列積ではなく行列式を求める？"
   ]
  },
  {
   "cell_type": "code",
   "execution_count": 111,
   "metadata": {},
   "outputs": [
    {
     "data": {
      "text/plain": [
       "array([[  6,  29, -20],\n",
       "       [ 12,  52,  38],\n",
       "       [-18, -51, -48]])"
      ]
     },
     "execution_count": 111,
     "metadata": {},
     "output_type": "execute_result"
    }
   ],
   "source": [
    "import numpy as np\n",
    "a10 = np.array([[-1, 2, 3],\n",
    "              [ 4,-5, 6],\n",
    "              [ 7, 8,-9]])\n",
    "b10 = np.array([[ 0, 2, 1],\n",
    "             [ 0, 2,-8],\n",
    "             [ 2, 9,-1]])\n",
    "\n",
    "#b10を転置\n",
    "b10 = np.transpose(b10)\n",
    "\n",
    "#解となる行列積の定義\n",
    "ab = np.array(range(9))\n",
    "ab = ab.reshape(3,3)\n",
    "\n",
    "for i in range(3):\n",
    "    for j in range(3):\n",
    "        #転置をしているので、ＡのＩ行目とＢのＪ行目の内積を取る。\n",
    "        ab[i][j] = np.dot(a10[i,:],b10[j,:])\n",
    "ab"
   ]
  },
  {
   "cell_type": "code",
   "execution_count": null,
   "metadata": {},
   "outputs": [],
   "source": []
  }
 ],
 "metadata": {
  "kernelspec": {
   "display_name": "Python 3",
   "language": "python",
   "name": "python3"
  },
  "language_info": {
   "codemirror_mode": {
    "name": "ipython",
    "version": 3
   },
   "file_extension": ".py",
   "mimetype": "text/x-python",
   "name": "python",
   "nbconvert_exporter": "python",
   "pygments_lexer": "ipython3",
   "version": "3.7.4"
  }
 },
 "nbformat": 4,
 "nbformat_minor": 2
}
