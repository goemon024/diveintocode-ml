{
 "cells": [
  {
   "cell_type": "markdown",
   "metadata": {},
   "source": [
    "# Sprint07 ensemble"
   ]
  },
  {
   "cell_type": "code",
   "execution_count": 1,
   "metadata": {},
   "outputs": [],
   "source": [
    "import pandas as pd\n",
    "import numpy as np\n",
    "import matplotlib.pyplot as plt\n",
    "%matplotlib inline\n",
    "from sklearn.preprocessing import StandardScaler\n",
    "from sklearn.metrics import mean_squared_error\n",
    "\n",
    "aims_data = pd.read_csv(\"train.csv\")\n",
    "aims_data4 = aims_data.loc[:,['GrLivArea','YearBuilt','SalePrice']]"
   ]
  },
  {
   "cell_type": "code",
   "execution_count": 2,
   "metadata": {},
   "outputs": [],
   "source": [
    "from sklearn.model_selection import train_test_split\n",
    "X = aims_data4.iloc[:,0:2].values\n",
    "y = np.log(aims_data4.iloc[:,2].values)\n",
    "X_train, X_test, y_train, y_test = train_test_split(X,y, test_size=0.2, random_state = 1)"
   ]
  },
  {
   "cell_type": "markdown",
   "metadata": {},
   "source": [
    "# 【問題１】ブレンディングのスクラッチ実装  \n",
    "## 線形回帰、ＳＶＭ、決定木によるＭＳＥ"
   ]
  },
  {
   "cell_type": "code",
   "execution_count": 3,
   "metadata": {},
   "outputs": [
    {
     "name": "stdout",
     "output_type": "stream",
     "text": [
      "線形回帰のＭＳＥ：0.045273693264553674\n"
     ]
    }
   ],
   "source": [
    "##　線形回帰　##\n",
    "from sklearn.linear_model import LinearRegression\n",
    "linear_reg = LinearRegression()\n",
    "linear_reg.fit(X_train,y_train)\n",
    "y_pred_lin = linear_reg.predict(X_test)\n",
    "print(\"線形回帰のＭＳＥ：{}\".format(mean_squared_error(y_test, y_pred_lin)))"
   ]
  },
  {
   "cell_type": "code",
   "execution_count": 4,
   "metadata": {},
   "outputs": [
    {
     "name": "stdout",
     "output_type": "stream",
     "text": [
      "ＳＶＭのＭＳＥ：0.1590226888735829\n"
     ]
    }
   ],
   "source": [
    "##　SVM ##\n",
    "from sklearn.svm import SVR\n",
    "svm_reg = SVR(gamma=\"auto\")\n",
    "svm_reg.fit(X_train,y_train)\n",
    "y_pred_svm = svm_reg.predict(X_test)\n",
    "print(\"ＳＶＭのＭＳＥ：{}\".format(mean_squared_error(y_test, y_pred_svm)))"
   ]
  },
  {
   "cell_type": "code",
   "execution_count": 5,
   "metadata": {},
   "outputs": [
    {
     "name": "stdout",
     "output_type": "stream",
     "text": [
      "決定木のＭＳＥ：0.06990153855404337\n"
     ]
    }
   ],
   "source": [
    "## 決定木　##\n",
    "from sklearn.tree import DecisionTreeRegressor\n",
    "DTC_reg = DecisionTreeRegressor(random_state=3)\n",
    "DTC_reg.fit(X_train,y_train)\n",
    "y_pred_DTC = DTC_reg.predict(X_test)\n",
    "print(\"決定木のＭＳＥ：{}\".format(mean_squared_error(y_test, y_pred_DTC)))"
   ]
  },
  {
   "cell_type": "markdown",
   "metadata": {},
   "source": [
    "### ＜１＞決定木と線形回帰の重み付けを変化させた例でＭＳＥが改善（0.8：線形回帰、0.2：ＤＴＣにて改善）"
   ]
  },
  {
   "cell_type": "code",
   "execution_count": 6,
   "metadata": {},
   "outputs": [
    {
     "data": {
      "text/plain": [
       "array([0.06990154, 0.06386848, 0.05862881, 0.05418254, 0.05052966,\n",
       "       0.04767018, 0.04560409, 0.0443314 , 0.0438521 , 0.0441662 ])"
      ]
     },
     "execution_count": 6,
     "metadata": {},
     "output_type": "execute_result"
    }
   ],
   "source": [
    "ens_list = np.zeros(10)\n",
    "for i in range(10):\n",
    "    ens1 = y_pred_DTC*(1-0.1*i)+y_pred_lin*0.1*i\n",
    "    ens1_mse = mean_squared_error(y_test,ens1)\n",
    "    ens_list[i] = ens1_mse\n",
    "ens_list"
   ]
  },
  {
   "cell_type": "markdown",
   "metadata": {},
   "source": [
    "### ＜２＞　特徴量の標準化と対数化の組み合わせ（あまりＭＳＥが改善しなかった）。"
   ]
  },
  {
   "cell_type": "code",
   "execution_count": 12,
   "metadata": {},
   "outputs": [],
   "source": [
    "#パターン２　標準化と対数化を組み合わせる。\n",
    "from sklearn.model_selection import train_test_split\n",
    "X = aims_data4.iloc[:,0:2].values\n",
    "y = np.log(aims_data4.iloc[:,2].values)\n",
    "X_train, X_test, y_train, y_test = train_test_split(X,y, test_size=0.2, random_state = 1)\n",
    "# Xの正規化\n",
    "scaler_X = StandardScaler()\n",
    "X_train_std = scaler_X.fit_transform(X_train)\n",
    "X_test_std = scaler_X.transform(X_test)\n",
    "# Xの対数化\n",
    "X_train_log = np.log(X_train)\n",
    "X_test_log = np.log(X_test)"
   ]
  },
  {
   "cell_type": "code",
   "execution_count": 23,
   "metadata": {},
   "outputs": [
    {
     "name": "stdout",
     "output_type": "stream",
     "text": [
      "線形回帰の特徴量正規化の場合：0.0452736932645537\n"
     ]
    }
   ],
   "source": [
    "linear_reg.fit(X_train_std,y_train)\n",
    "y_pred_stdlin = linear_reg.predict(X_test_std)\n",
    "print(\"線形回帰の特徴量正規化の場合：{}\".format(mean_squared_error(y_test, y_pred_stdlin)))"
   ]
  },
  {
   "cell_type": "code",
   "execution_count": 24,
   "metadata": {},
   "outputs": [
    {
     "name": "stdout",
     "output_type": "stream",
     "text": [
      "線形回帰の特徴量対数化の場合：0.04739709490714278\n"
     ]
    }
   ],
   "source": [
    "linear_reg.fit(X_train_log,y_train)\n",
    "y_pred_loglin = linear_reg.predict(X_test_log)\n",
    "print(\"線形回帰の特徴量対数化の場合：{}\".format(mean_squared_error(y_test, y_pred_loglin)))"
   ]
  },
  {
   "cell_type": "code",
   "execution_count": 25,
   "metadata": {},
   "outputs": [
    {
     "data": {
      "text/plain": [
       "array([0.04527369, 0.04514735, 0.04509627, 0.04512045, 0.0452199 ,\n",
       "       0.04539461, 0.04564458, 0.04596981, 0.04637031, 0.04684607])"
      ]
     },
     "execution_count": 25,
     "metadata": {},
     "output_type": "execute_result"
    }
   ],
   "source": [
    "# 線形回帰の正規化と対数化の組み合わせ(重み付け)\n",
    "ens_list = np.zeros(10)\n",
    "for i in range(10):\n",
    "    ens1 = y_pred_stdlin*(1-0.1*i)+y_pred_loglin*0.1*i\n",
    "    ens1_mse = mean_squared_error(y_test,ens1)\n",
    "    ens_list[i] = ens1_mse\n",
    "ens_list\n",
    "# アンサンブルしてもあまり改善されない。"
   ]
  },
  {
   "cell_type": "code",
   "execution_count": 26,
   "metadata": {},
   "outputs": [
    {
     "name": "stdout",
     "output_type": "stream",
     "text": [
      "ＤＴＣの特徴量正規化の場合：0.06985811321961863\n"
     ]
    }
   ],
   "source": [
    "DTC_reg.fit(X_train_std,y_train)\n",
    "y_pred_stdDTC = DTC_reg.predict(X_test_std)\n",
    "print(\"ＤＴＣの特徴量正規化の場合：{}\".format(mean_squared_error(y_test, y_pred_stdDTC)))"
   ]
  },
  {
   "cell_type": "code",
   "execution_count": 27,
   "metadata": {},
   "outputs": [
    {
     "name": "stdout",
     "output_type": "stream",
     "text": [
      "ＤＴＣの特徴量対数化の場合：0.07023579732458154\n"
     ]
    }
   ],
   "source": [
    "DTC_reg.fit(X_train_log,y_train)\n",
    "y_pred_logDTC = DTC_reg.predict(X_test_log)\n",
    "print(\"ＤＴＣの特徴量対数化の場合：{}\".format(mean_squared_error(y_test, y_pred_logDTC)))"
   ]
  },
  {
   "cell_type": "code",
   "execution_count": 28,
   "metadata": {},
   "outputs": [
    {
     "name": "stdout",
     "output_type": "stream",
     "text": [
      "ＤＴＣのＭＳＥ：0.06990153855404337\n"
     ]
    }
   ],
   "source": [
    "DTC_reg.fit(X_train,y_train)\n",
    "y_pred_DTC = DTC_reg.predict(X_test)\n",
    "print(\"ＤＴＣのＭＳＥ：{}\".format(mean_squared_error(y_test, y_pred_DTC)))"
   ]
  },
  {
   "cell_type": "markdown",
   "metadata": {},
   "source": [
    "### ＜３＞決定木の特徴量標準化と特徴量対数化の組み合わせ(重み付け)で、わずかにＭＳＥが改善した。"
   ]
  },
  {
   "cell_type": "code",
   "execution_count": 29,
   "metadata": {},
   "outputs": [
    {
     "data": {
      "text/plain": [
       "array([0.06985811, 0.0696555 , 0.06950631, 0.06941054, 0.06936818,\n",
       "       0.06937924, 0.06944372, 0.06956161, 0.06973292, 0.06995765])"
      ]
     },
     "execution_count": 29,
     "metadata": {},
     "output_type": "execute_result"
    }
   ],
   "source": [
    "# 決定木の標準化と対数化の組み合わせ(重み付け)\n",
    "ens_list = np.zeros(10)\n",
    "for i in range(10):\n",
    "    ens1 = y_pred_stdDTC*(1-0.1*i)+y_pred_logDTC*0.1*i\n",
    "    ens1_mse = mean_squared_error(y_test,ens1)\n",
    "    ens_list[i] = ens1_mse\n",
    "ens_list\n",
    "# 標準化と対数化の半々ぐらいでわずかに改善する。"
   ]
  },
  {
   "cell_type": "markdown",
   "metadata": {},
   "source": [
    "### ＜４＞ランダムフォレストと線形回帰の組み合わせ（重み付け）。ＲＦＣの重み０．３、線形回帰の重み０．７ぐらいで改善する。"
   ]
  },
  {
   "cell_type": "code",
   "execution_count": 11,
   "metadata": {},
   "outputs": [
    {
     "name": "stdout",
     "output_type": "stream",
     "text": [
      "評価値：0.04922923371678879\n"
     ]
    }
   ],
   "source": [
    "#　RFCと線形回帰の組み合わせ（重み付け）\n",
    "from sklearn.ensemble import RandomForestRegressor\n",
    "rfc_reg = RandomForestRegressor(n_estimators=100, random_state=7)\n",
    "rfc_reg.fit(X_train, y_train)\n",
    "y_pred_rfc = rfc_reg.predict(X_test)\n",
    "print(\"評価値：{}\".format(mean_squared_error(y_test, y_pred_rfc)))"
   ]
  },
  {
   "cell_type": "code",
   "execution_count": 12,
   "metadata": {},
   "outputs": [
    {
     "name": "stdout",
     "output_type": "stream",
     "text": [
      "評価値：0.045273693264553674\n"
     ]
    }
   ],
   "source": [
    "linear_reg.fit(X_train,y_train)\n",
    "y_pred_lin = linear_reg.predict(X_test)\n",
    "print(\"評価値：{}\".format(mean_squared_error(y_test, y_pred_lin)))"
   ]
  },
  {
   "cell_type": "code",
   "execution_count": 13,
   "metadata": {},
   "outputs": [
    {
     "data": {
      "text/plain": [
       "array([0.04922923, 0.04736676, 0.04583027, 0.04461976, 0.04373524,\n",
       "       0.04317669, 0.04294413, 0.04303755, 0.04345695, 0.04420233])"
      ]
     },
     "execution_count": 13,
     "metadata": {},
     "output_type": "execute_result"
    }
   ],
   "source": [
    "# RFCと線形回帰の組み合わせ(重み付け)\n",
    "ens_list = np.zeros(10)\n",
    "for i in range(10):\n",
    "    ens1 = y_pred_rfc*(1-0.1*i)+y_pred_lin*0.1*i\n",
    "    ens1_mse = mean_squared_error(y_test,ens1)\n",
    "    ens_list[i] = ens1_mse\n",
    "ens_list\n",
    "# ＲＦＣの重み0.7、線形回帰の重み0.3ぐらいで改善する。"
   ]
  },
  {
   "cell_type": "markdown",
   "metadata": {},
   "source": [
    "## 【問題2】バギングのスクラッチ実装 （→　ＤＴＣの評価値が改善した）"
   ]
  },
  {
   "cell_type": "code",
   "execution_count": 35,
   "metadata": {},
   "outputs": [],
   "source": [
    "from sklearn.model_selection import train_test_split\n",
    "X = aims_data4.iloc[:,0:2].values\n",
    "y = np.log(aims_data4.iloc[:,2].values)\n",
    "X_train, X_test, y_train, y_test = train_test_split(X,y, test_size=0.2, random_state = 1)\n",
    "\n",
    "# samples = len(X_train)\n",
    "# index = np.random.choice(samples,int(samples*0.8))\n",
    "# y_train[index].shape"
   ]
  },
  {
   "cell_type": "code",
   "execution_count": 40,
   "metadata": {},
   "outputs": [
    {
     "name": "stdout",
     "output_type": "stream",
     "text": [
      "linear_reg評価値：0.04554747202492565\n",
      "ＤＴＣ評価値：0.045733102775805716\n",
      "ＲＦＣ評価値：0.04633056954627312\n",
      "ＲＦＣ評価値：0.16352211258993687\n"
     ]
    }
   ],
   "source": [
    "def bagging(X_train,X_test,y_train,y_test,model,iter_num,):\n",
    "    samples = len(X_train)\n",
    "    bagging = np.array([])\n",
    "    for i in range(iter_num):\n",
    "        index = np.random.choice(samples,int(samples*0.8))\n",
    "        model.fit(X_train[index,:], y_train[index])\n",
    "        y_pred = model.predict(X_test)\n",
    "        if i == 0:\n",
    "            bagging = np.append(bagging,y_pred)\n",
    "        else:\n",
    "            bagging = np.vstack((bagging,y_pred))\n",
    "            # （1、292）のデータが行方向にスタックされていく。\n",
    "    bagging = np.mean(bagging, axis = 0)\n",
    "    return bagging\n",
    "\n",
    "bagging_pred1 = bagging(X_train,X_test,y_train,y_test,linear_reg,10)\n",
    "print(\"linear_reg評価値：{}\".format(mean_squared_error(y_test, bagging_pred1)))\n",
    "\n",
    "bagging_pred2 = bagging(X_train,X_test,y_train,y_test,DTC_reg,10)\n",
    "print(\"ＤＴＣ評価値：{}\".format(mean_squared_error(y_test, bagging_pred2)))\n",
    "\n",
    "bagging_pred3 = bagging(X_train,X_test,y_train,y_test,rfc_reg,10)\n",
    "print(\"ＲＦＣ評価値：{}\".format(mean_squared_error(y_test, bagging_pred3)))\n",
    "\n",
    "bagging_pred4 = bagging(X_train,X_test,y_train,y_test,svm_reg,10)\n",
    "print(\"ＲＦＣ評価値：{}\".format(mean_squared_error(y_test, bagging_pred4)))    "
   ]
  },
  {
   "cell_type": "markdown",
   "metadata": {},
   "source": [
    "## 【問題３】スタッキングのスクラッチ実装"
   ]
  },
  {
   "cell_type": "code",
   "execution_count": 14,
   "metadata": {},
   "outputs": [],
   "source": [
    "from sklearn.model_selection import train_test_split\n",
    "X = aims_data4.iloc[:,0:2].values\n",
    "y = np.log(aims_data4.iloc[:,2].values)\n",
    "X_train, X_test, y_train, y_test = train_test_split(X,y, test_size=0.2, random_state = 1)"
   ]
  },
  {
   "cell_type": "code",
   "execution_count": 15,
   "metadata": {},
   "outputs": [
    {
     "name": "stdout",
     "output_type": "stream",
     "text": [
      "評価値：0.04922923371678879\n"
     ]
    }
   ],
   "source": [
    "rfc_reg.fit(X_train,y_train)\n",
    "y_pred = rfc_reg.predict(X_test)\n",
    "print(\"評価値：{}\".format(mean_squared_error(y_test, y_pred)))"
   ]
  },
  {
   "cell_type": "code",
   "execution_count": 16,
   "metadata": {},
   "outputs": [
    {
     "name": "stdout",
     "output_type": "stream",
     "text": [
      "評価値：0.045273693264553674\n"
     ]
    }
   ],
   "source": [
    "linear_reg.fit(X_train,y_train)\n",
    "y_pred = linear_reg.predict(X_test)\n",
    "print(\"評価値：{}\".format(mean_squared_error(y_test, y_pred)))"
   ]
  },
  {
   "cell_type": "markdown",
   "metadata": {},
   "source": [
    "### ３つのモデルでそれぞれ４回のＣＶによりブレンドデータを作成。  \n",
    "### ラストモデルは、線形回帰を使用した→評価値が改善した。"
   ]
  },
  {
   "cell_type": "code",
   "execution_count": 17,
   "metadata": {},
   "outputs": [
    {
     "data": {
      "text/plain": [
       "0.042148402049494375"
      ]
     },
     "execution_count": 17,
     "metadata": {},
     "output_type": "execute_result"
    }
   ],
   "source": [
    "models = [DecisionTreeRegressor(), LinearRegression(), RandomForestRegressor(n_estimators=100, random_state=7)]\n",
    "from sklearn.model_selection import KFold\n",
    "kf = KFold(n_splits=4, shuffle =True, random_state=15)\n",
    "\n",
    "### ブレンドデータ（blend_all）、ブレンドテストデータ、ラベルリストの作成 ###\n",
    "###（ラベルリストは4回のループで同一の値が繰り返し出力される）###\n",
    "blend_all = np.zeros((len(X_train),len(models)))\n",
    "blend_test = np.zeros((len(models), len(X_test), 4))\n",
    "model_count = 0\n",
    "for i in range(len(models)):\n",
    "    predict_list = []\n",
    "    label_list = []\n",
    "    count = 0\n",
    "    for t_index,v_index in kf.split(X_train):\n",
    "        models[i].fit(X_train[t_index],y_train[t_index])\n",
    "        blend_data = models[i].predict(X_train[v_index])\n",
    "        test_data = models[i].predict(X_test)\n",
    "        label_data = y_train[v_index]\n",
    "        \n",
    "        predict_list = np.append(predict_list, blend_data)\n",
    "        blend_test[model_count ,:, count] = test_data\n",
    "        label_list = np.append(label_list,label_data)\n",
    "\n",
    "        count += 1\n",
    "    blend_all[:,i] = predict_list \n",
    "    model_count += 1\n",
    "    \n",
    "### ブレンドテストデータの、各モデルのmeanを計算。\n",
    "blend_test = np.mean(blend_test, axis=2).T\n",
    "\n",
    "### ブレンドデータとラベルデータを最終モデルにフィット。平均化されたブレンドテストデータによる予測値を出力する。\n",
    "last_model = models[1]\n",
    "last_model.fit(blend_all, label_list)\n",
    "last_pred = last_model.predict(blend_test)\n",
    "\n",
    "mean_squared_error(y_test, last_pred)"
   ]
  },
  {
   "cell_type": "code",
   "execution_count": null,
   "metadata": {},
   "outputs": [],
   "source": []
  }
 ],
 "metadata": {
  "kernelspec": {
   "display_name": "Python 3",
   "language": "python",
   "name": "python3"
  },
  "language_info": {
   "codemirror_mode": {
    "name": "ipython",
    "version": 3
   },
   "file_extension": ".py",
   "mimetype": "text/x-python",
   "name": "python",
   "nbconvert_exporter": "python",
   "pygments_lexer": "ipython3",
   "version": "3.7.4"
  }
 },
 "nbformat": 4,
 "nbformat_minor": 2
}
