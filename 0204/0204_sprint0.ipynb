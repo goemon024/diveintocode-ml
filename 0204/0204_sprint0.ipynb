{
 "cells": [
  {
   "cell_type": "markdown",
   "metadata": {},
   "source": [
    "## 【問題１】"
   ]
  },
  {
   "cell_type": "code",
   "execution_count": 1,
   "metadata": {},
   "outputs": [],
   "source": [
    "import matplotlib.pyplot as plt\n",
    "%matplotlib inline\n",
    "import numpy as np\n",
    "import pandas as pd\n",
    "import seaborn as sns\n",
    "import matplotlib.patches as patches"
   ]
  },
  {
   "cell_type": "code",
   "execution_count": 2,
   "metadata": {},
   "outputs": [],
   "source": [
    "def scratch_train_test_split(X, y, train_size=0.8,):\n",
    "    \"\"\"\n",
    "    検証用データを分割する。\n",
    "\n",
    "    Parameters\n",
    "    ----------\n",
    "    X : 次の形のndarray, shape (n_samples, n_features)\n",
    "      学習データ\n",
    "    y : 次の形のndarray, shape (n_samples, )\n",
    "      正解値\n",
    "    train_size : float (0<train_size<1)\n",
    "      何割をtrainとするか指定\n",
    "\n",
    "    Returns\n",
    "    ----------\n",
    "    X_train : 次の形のndarray, shape (n_samples, n_features)\n",
    "      学習データ\n",
    "    X_test : 次の形のndarray, shape (n_samples, n_features)\n",
    "      検証データ\n",
    "    y_train : 次の形のndarray, shape (n_samples, )\n",
    "      学習データの正解値\n",
    "    y_test : 次の形のndarray, shape (n_samples, )\n",
    "      検証データの正解値\n",
    "    \"\"\"\n",
    "    #ここにコードを書く\n",
    "\n",
    "    list = random.sample(range(X.shape[0]), k = int(X.shape[0]* train_size))\n",
    "    list.sort()\n",
    "    X_train = np.delete(X, list, axis=0)\n",
    "    X_test = X[list]\n",
    "    y_train = np.delete(y, list, axis=0)\n",
    "    y_test = y[list]\n",
    "\n",
    "    return X_train, X_test, y_train, y_test"
   ]
  },
  {
   "cell_type": "markdown",
   "metadata": {},
   "source": [
    "## 【問題２】"
   ]
  },
  {
   "cell_type": "code",
   "execution_count": 79,
   "metadata": {},
   "outputs": [
    {
     "data": {
      "text/plain": [
       "array([0, 0, 0, 0, 0, 0, 0, 0, 0, 0, 0, 0, 0, 0, 0, 0, 0, 0, 0, 0, 0, 0,\n",
       "       0, 0, 0, 0, 0, 0, 0, 0, 0, 0, 0, 0, 0, 0, 0, 0, 0, 0, 0, 0, 0, 0,\n",
       "       0, 0, 0, 0, 0, 0, 1, 1, 1, 1, 1, 1, 1, 1, 1, 1, 1, 1, 1, 1, 1, 1,\n",
       "       1, 1, 1, 1, 1, 1, 1, 1, 1, 1, 1, 1, 1, 1, 1, 1, 1, 1, 1, 1, 1, 1,\n",
       "       1, 1, 1, 1, 1, 1, 1, 1, 1, 1, 1, 1])"
      ]
     },
     "execution_count": 79,
     "metadata": {},
     "output_type": "execute_result"
    }
   ],
   "source": [
    "# データセット０\n",
    "from sklearn.datasets import load_iris\n",
    "data = load_iris()\n",
    "data0 = pd.DataFrame(data[\"data\"],columns=data[\"feature_names\"])\n",
    "data_target = pd.DataFrame(data[\"target\"], columns=[\"species\"])\n",
    "data0 = pd.concat([data0,data_target], axis = 1)\n",
    "data0 = data0.query(\"not species==0\")  #1:'versicolor', 2:'virginica'\n",
    "\n",
    "X0 = data0.iloc[:,0:4].values\n",
    "y0 = data0.iloc[:,4].values\n",
    "y0 = y0 - 1                            #0:'versicolor', 1:'virginica'"
   ]
  },
  {
   "cell_type": "code",
   "execution_count": 121,
   "metadata": {},
   "outputs": [],
   "source": [
    "# データセット１\n",
    "np.random.seed(seed=0)\n",
    "n_samples = 500\n",
    "f0 = [-1, 2]\n",
    "f1 = [2, -1]\n",
    "cov = [[1.0,0.8], [0.8, 1.0]]\n",
    "\n",
    "f0 = np.random.multivariate_normal(f0, cov, int(n_samples/2))\n",
    "f1 = np.random.multivariate_normal(f1, cov, int(n_samples/2))\n",
    "\n",
    "X1 = np.concatenate((f0, f1))\n",
    "y1 = np.concatenate((np.ones((int(n_samples/2))), np.ones((int(n_samples/2))) *(-1)))\n",
    "\n",
    "random_index = np.random.permutation(np.arange(n_samples))\n",
    "X1 = X1[random_index]\n",
    "y1 = y1[random_index]\n",
    "\n"
   ]
  },
  {
   "cell_type": "code",
   "execution_count": 82,
   "metadata": {},
   "outputs": [],
   "source": [
    "# データセット２\n",
    "X2 = np.array([[-0.44699 , -2.8073  ],[-1.4621  , -2.4586  ],\n",
    "       [ 0.10645 ,  1.9242  ],[-3.5944  , -4.0112  ],\n",
    "       [-0.9888  ,  4.5718  ],[-3.1625  , -3.9606  ],\n",
    "       [ 0.56421 ,  0.72888 ],[-0.60216 ,  8.4636  ],\n",
    "       [-0.61251 , -0.75345 ],[-0.73535 , -2.2718  ],\n",
    "       [-0.80647 , -2.2135  ],[ 0.86291 ,  2.3946  ],\n",
    "       [-3.1108  ,  0.15394 ],[-2.9362  ,  2.5462  ],\n",
    "       [-0.57242 , -2.9915  ],[ 1.4771  ,  3.4896  ],\n",
    "       [ 0.58619 ,  0.37158 ],[ 0.6017  ,  4.3439  ],\n",
    "       [-2.1086  ,  8.3428  ],[-4.1013  , -4.353   ],\n",
    "       [-1.9948  , -1.3927  ],[ 0.35084 , -0.031994],\n",
    "       [ 0.96765 ,  7.8929  ],[-1.281   , 15.6824  ],\n",
    "       [ 0.96765 , 10.083   ],[ 1.3763  ,  1.3347  ],\n",
    "       [-2.234   , -2.5323  ],[-2.9452  , -1.8219  ],\n",
    "       [ 0.14654 , -0.28733 ],[ 0.5461  ,  5.8245  ],\n",
    "       [-0.65259 ,  9.3444  ],[ 0.59912 ,  5.3524  ],\n",
    "       [ 0.50214 , -0.31818 ],[-3.0603  , -3.6461  ],\n",
    "       [-6.6797  ,  0.67661 ],[-2.353   , -0.72261 ],\n",
    "       [ 1.1319  ,  2.4023  ],[-0.12243 ,  9.0162  ],\n",
    "       [-2.5677  , 13.1779  ],[ 0.057313,  5.4681  ]])\n",
    "y2 = np.array([0, 0, 0, 0, 0, 0, 0, 0, 0, 0, 0, 0, 0, 0, 0, 0, 0, 0, 0, 0, 1, 1,\n",
    "       1, 1, 1, 1, 1, 1, 1, 1, 1, 1, 1, 1, 1, 1, 1, 1, 1, 1])"
   ]
  },
  {
   "cell_type": "code",
   "execution_count": 90,
   "metadata": {},
   "outputs": [],
   "source": [
    "data_set_X = [X0,X1,X2] \n",
    "data_set_y = [y0,y1,y2]"
   ]
  },
  {
   "cell_type": "code",
   "execution_count": 153,
   "metadata": {},
   "outputs": [
    {
     "name": "stdout",
     "output_type": "stream",
     "text": [
      "予測結果：[0 0 0 0 0 0 0 0 0 0 0 1 1 1 1 0 0 0 1 1]\n",
      "正答率：0.85\n",
      "予測結果：[ 1  1 -1 -1 -1 -1  1 -1 -1  1  1  1 -1  1  1  1  1 -1  1  1  1 -1  1  1\n",
      " -1  1  1 -1  1  1 -1  1 -1 -1  1 -1 -1  1  1 -1  1  1 -1  1 -1  1 -1 -1\n",
      " -1  1 -1 -1  1  1 -1  1 -1  1 -1  1  1 -1 -1 -1  1  1  1 -1 -1 -1 -1 -1\n",
      "  1 -1 -1  1 -1  1  1 -1 -1  1  1  1 -1 -1 -1  1 -1 -1 -1 -1 -1 -1 -1 -1\n",
      " -1 -1 -1 -1]\n",
      "正答率：1.0\n",
      "予測結果：[0 1 1 0 1 1 0 1]\n",
      "正答率：0.375\n"
     ]
    }
   ],
   "source": [
    "# ロジスティック回帰\n",
    "from sklearn import linear_model\n",
    "from sklearn.metrics import accuracy_score\n",
    "clf = linear_model.SGDClassifier(loss=\"log\")\n",
    "\n",
    "for i in range(3):\n",
    "    X_train,X_test,y_train,y_test = scratch_train_test_split(data_set_X[i], data_set_y[i], train_size=0.2)\n",
    "    clf.fit(X_train,y_train)\n",
    "    y_pred = clf.predict(X_test)\n",
    "    ac_score = accuracy_score(y_test, y_pred)\n",
    "    print(\"予測結果：{}\".format(y_pred))\n",
    "    print(\"正答率：{}\".format(ac_score))"
   ]
  },
  {
   "cell_type": "code",
   "execution_count": 156,
   "metadata": {},
   "outputs": [
    {
     "name": "stdout",
     "output_type": "stream",
     "text": [
      "予測結果：[0 0 0 0 0 1 0 1 1 1 1 1 1 1 1 1 0 1 1 1]\n",
      "正答率：0.9\n",
      "予測結果：[-1 -1  1  1  1 -1  1  1 -1  1  1  1  1 -1  1  1  1  1  1  1  1  1  1 -1\n",
      "  1 -1 -1  1  1 -1  1 -1  1 -1 -1 -1 -1  1 -1 -1 -1 -1  1  1  1 -1  1 -1\n",
      "  1 -1 -1 -1  1 -1 -1 -1 -1  1  1  1 -1 -1  1  1  1  1  1 -1 -1 -1 -1  1\n",
      "  1  1 -1  1  1  1  1  1  1 -1 -1  1 -1  1 -1 -1 -1 -1  1 -1 -1  1 -1  1\n",
      "  1 -1  1 -1]\n",
      "正答率：1.0\n",
      "予測結果：[0 1 1 0 0 1 1 0]\n",
      "正答率：0.375\n"
     ]
    }
   ],
   "source": [
    "# ＳＶＭ\n",
    "from sklearn.svm import SVC\n",
    "from sklearn.metrics import accuracy_score\n",
    "clf = SVC(gamma = \"auto\")\n",
    "\n",
    "for i in range(3):\n",
    "    X_train,X_test,y_train,y_test = scratch_train_test_split(data_set_X[i], data_set_y[i], train_size=0.2)\n",
    "    clf.fit(X_train,y_train)\n",
    "    y_pred = clf.predict(X_test)\n",
    "    ac_score = accuracy_score(y_test, y_pred)\n",
    "    print(\"予測結果：{}\".format(y_pred))\n",
    "    print(\"正答率：{}\".format(ac_score))"
   ]
  },
  {
   "cell_type": "code",
   "execution_count": 169,
   "metadata": {},
   "outputs": [
    {
     "name": "stdout",
     "output_type": "stream",
     "text": [
      "予測結果：[0 0 0 0 1 0 0 0 0 0 0 1 1 1 1 0 1 1 1 1]\n",
      "正答率：0.9\n",
      "予測結果：[ 1 -1  1 -1  1  1  1  1 -1 -1 -1 -1  1  1 -1 -1  1 -1 -1  1 -1  1 -1  1\n",
      "  1 -1 -1 -1 -1 -1  1  1 -1  1 -1 -1 -1 -1  1 -1  1 -1  1 -1  1 -1  1 -1\n",
      " -1  1 -1 -1 -1  1  1  1 -1  1  1  1  1  1 -1 -1  1 -1  1  1  1 -1  1  1\n",
      "  1 -1  1  1 -1  1  1  1 -1 -1 -1  1 -1 -1  1 -1  1  1 -1 -1 -1 -1  1  1\n",
      " -1  1 -1 -1]\n",
      "正答率：1.0\n",
      "予測結果：[0 1 1 0 1 1 0 1]\n",
      "正答率：0.5\n"
     ]
    }
   ],
   "source": [
    "# ＤＴＣ\n",
    "from sklearn.tree import DecisionTreeClassifier\n",
    "from sklearn.metrics import accuracy_score\n",
    "clf = DecisionTreeClassifier()\n",
    "\n",
    "for i in range(3):\n",
    "    X_train,X_test,y_train,y_test = scratch_train_test_split(data_set_X[i], data_set_y[i], train_size=0.2)\n",
    "    clf.fit(X_train,y_train)\n",
    "    y_pred = clf.predict(X_test)\n",
    "    ac_score = accuracy_score(y_test, y_pred)\n",
    "    print(\"予測結果：{}\".format(y_pred))\n",
    "    print(\"正答率：{}\".format(ac_score))"
   ]
  },
  {
   "cell_type": "markdown",
   "metadata": {},
   "source": [
    "## 【問題３】"
   ]
  },
  {
   "cell_type": "code",
   "execution_count": 208,
   "metadata": {},
   "outputs": [],
   "source": [
    "import pandas as pd\n",
    "aims_data = pd.read_csv(\"train.csv\")\n",
    "aims_data = aims_data[[\"GrLivArea\",\"YearBuilt\",\"SalePrice\"]]\n",
    "X_aims = aims_data[[\"GrLivArea\",\"YearBuilt\"]].values\n",
    "y_aims = aims_data.SalePrice.values"
   ]
  },
  {
   "cell_type": "code",
   "execution_count": 267,
   "metadata": {},
   "outputs": [
    {
     "name": "stdout",
     "output_type": "stream",
     "text": [
      "予測結果：[1.91008967e+15 1.94637054e+15 1.92296108e+15 1.86180174e+15\n",
      " 1.96098877e+15 1.96169074e+15 1.90737012e+15 1.94704911e+15\n",
      " 1.82283836e+15 1.82667353e+15]\n",
      "MSE：3.5933730113880293e+30\n"
     ]
    }
   ],
   "source": [
    "from sklearn import linear_model\n",
    "from sklearn.metrics import mean_squared_error\n",
    "\n",
    "clf = linear_model.SGDRegressor(max_iter=1000, tol=1e-3)\n",
    "\n",
    "X_train,X_test,y_train,y_test = scratch_train_test_split(X_aims, y_aims, train_size=0.2)\n",
    "clf.fit(X_train,y_train)\n",
    "y_pred = clf.predict(X_test)\n",
    "\n",
    "print(\"予測結果：{}\".format(y_pred[0:10]))    # 予測結果は10サンプルまでの表示。\n",
    "print(\"MSE：{}\".format(mean_squared_error(y_test,y_pred)))\n"
   ]
  },
  {
   "cell_type": "code",
   "execution_count": 268,
   "metadata": {},
   "outputs": [
    {
     "data": {
      "image/png": "[encoded data removed]",
      "text/plain": [
       "<Figure size 1080x360 with 2 Axes>"
      ]
     },
     "metadata": {
      "needs_background": "light"
     },
     "output_type": "display_data"
    }
   ],
   "source": [
    "plt.figure(figsize=(15,5))\n",
    "plt.subplot(1,2,1)\n",
    "plt.title( \"Scatter of GrLivArea and SalePrice\")\n",
    "plt.scatter(X_test[:,0],y_test,label=\"test\")\n",
    "plt.scatter(X_test[:,0],y_pred,label=\"pred\")\n",
    "plt.legend()\n",
    "\n",
    "plt.subplot(1,2,2)\n",
    "plt.title( \"Scatter of YearBuilt and SalePrice\")\n",
    "plt.scatter(X_test[:,1],y_test,label=\"test\")\n",
    "plt.scatter(X_test[:,1],y_pred,label=\"pred\")\n",
    "plt.legend()\n",
    "plt.show()"
   ]
  },
  {
   "cell_type": "markdown",
   "metadata": {},
   "source": [
    "## 　＊SGDRegressorのモデルでは、予測値が桁違いに大きく計算されてしまう。（他のモデルだと問題ないようだが）"
   ]
  },
  {
   "cell_type": "code",
   "execution_count": null,
   "metadata": {},
   "outputs": [],
   "source": []
  }
 ],
 "metadata": {
  "kernelspec": {
   "display_name": "Python 3",
   "language": "python",
   "name": "python3"
  },
  "language_info": {
   "codemirror_mode": {
    "name": "ipython",
    "version": 3
   },
   "file_extension": ".py",
   "mimetype": "text/x-python",
   "name": "python",
   "nbconvert_exporter": "python",
   "pygments_lexer": "ipython3",
   "version": "3.7.4"
  }
 },
 "nbformat": 4,
 "nbformat_minor": 2
}
