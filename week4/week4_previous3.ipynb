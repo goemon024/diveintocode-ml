{
 "cells": [
  {
   "cell_type": "markdown",
   "metadata": {},
   "source": [
    "## 【問題1】これまで利用してきたクラスの列挙\n",
    "\n",
    "Pandas : DataFrame,Series  \n",
    "matplotlab: Figure,Axes,Patch,Ecllips  \n",
    "scikit-learn: LinearRegression, SVR  \n"
   ]
  },
  {
   "cell_type": "markdown",
   "metadata": {},
   "source": [
    "## 【問題2】これまで利用してきたメソッドやインスタンス変数の列挙\n",
    "\n",
    " メソッド：  \n",
    " ・pandasのDataFrameオブジェクトにおける、head(), info(), describe(), keys()   \n",
    " ・sklearn.linear_modelのLinearRegressionにおける、fit(), predict(), score()    \n",
    "   \n",
    " インスタンス変数：  \n",
    " ・sklearn.linear_modelのLinearRegressionにおける、rank_, coef_  \n",
    " ・numpyの、dtype, size  \n",
    " ・pandasのDataFrameの、columns, dtypes, style, iloc  \n",
    " \n",
    " pandasの公式ドキュメントではilocやlicはインスタンス変数だが、メソッドのようにも思えてしまう。"
   ]
  },
  {
   "cell_type": "markdown",
   "metadata": {},
   "source": [
    "##  【問題3】標準化クラスをスクラッチで作成"
   ]
  },
  {
   "cell_type": "code",
   "execution_count": 35,
   "metadata": {},
   "outputs": [],
   "source": [
    "class ScratchStandardScaler():\n",
    "    \"\"\"\n",
    "    Attributes\n",
    "    ----------\n",
    "    mean_ : 次の形のndarray, shape(n_features,)\n",
    "        平均\n",
    "    var_ : 次の形のndarray, shape(n_features,)\n",
    "        分散\n",
    "    \"\"\"\n",
    "    mean_ = []\n",
    "    std_ = []\n",
    "\n",
    "    def fit(self, X):\n",
    "        \"\"\"\n",
    "        標準化のために平均と標準偏差を計算する。\n",
    "\n",
    "        Parameters\n",
    "        ----------\n",
    "        X : 次の形のndarray, shape (n_samples, n_features)\n",
    "            学習データ\n",
    "        \"\"\"     \n",
    "        self.mean_ = np.average(X,axis=0)\n",
    "        self.std_ = np.std(X,axis=0)\n",
    "\n",
    "        pass\n",
    "\n",
    "    def transform(self, X):\n",
    "        \"\"\"\n",
    "        fitで求めた値を使い標準化を行う。\n",
    "\n",
    "        Parameters\n",
    "        ----------\n",
    "        X : 次の形のndarray, shape (n_samples, n_features)\n",
    "            特徴量\n",
    "\n",
    "        Returns\n",
    "        ----------\n",
    "        X_scaled : 次の形のndarray, shape (n_samples, n_features)\n",
    "            標準化された特緒量\n",
    "        \"\"\"\n",
    "        \n",
    "        X_scaled = (X-self.mean_)/self.std_\n",
    "        \n",
    "        pass\n",
    "        return X_scaled\n",
    "    \n",
    "\n"
   ]
  },
  {
   "cell_type": "code",
   "execution_count": 36,
   "metadata": {},
   "outputs": [
    {
     "name": "stdout",
     "output_type": "stream",
     "text": [
      "平均 : [4.86 3.31 1.45 0.22]\n",
      "分散 : [0.2764055  0.29137605 0.10246951 0.07483315]\n",
      "[[ 0.86828953  0.65207831 -0.48795004 -0.26726124]\n",
      " [ 0.14471492 -1.06391725 -0.48795004 -0.26726124]\n",
      " [-0.57885968 -0.37751902 -1.46385011 -0.26726124]\n",
      " [-0.94064699 -0.72071813  0.48795004 -0.26726124]\n",
      " [ 0.50650222  0.99527742 -0.48795004 -0.26726124]\n",
      " [ 1.95365143  2.02487476  2.43975018  2.40535118]\n",
      " [-0.94064699  0.3088792  -0.48795004  1.06904497]\n",
      " [ 0.50650222  0.3088792   0.48795004 -0.26726124]\n",
      " [-1.66422159 -1.40711636 -0.48795004 -0.26726124]\n",
      " [ 0.14471492 -0.72071813  0.48795004 -1.60356745]]\n"
     ]
    }
   ],
   "source": [
    "import numpy as np\n",
    "from sklearn.datasets import load_iris\n",
    "\n",
    "data = load_iris()\n",
    "X = data.data[:10]\n",
    "\n",
    "scratch_scaler = ScratchStandardScaler()\n",
    "scratch_scaler.fit(X)\n",
    "print(\"平均 : {}\".format(scratch_scaler.mean_))\n",
    "print(\"分散 : {}\".format(scratch_scaler.std_))\n",
    "X_std = scratch_scaler.transform(X)\n",
    "print(X_std)\n"
   ]
  },
  {
   "cell_type": "markdown",
   "metadata": {},
   "source": [
    "# 【問題４】四則演算を行うクラスの作成"
   ]
  },
  {
   "cell_type": "code",
   "execution_count": 59,
   "metadata": {},
   "outputs": [
    {
     "name": "stdout",
     "output_type": "stream",
     "text": [
      "初期値36が設定されました\n",
      "value : 36\n",
      "value : 41\n",
      "value : 38\n",
      "value : 114\n",
      "value : 38.0\n"
     ]
    }
   ],
   "source": [
    "\n",
    "class ExampleClass():\n",
    "    \"\"\"\n",
    "    説明用の簡単なクラス\n",
    "\n",
    "    Parameters\n",
    "    ----------\n",
    "    value : float or int\n",
    "        初期値\n",
    "\n",
    "    Attributes\n",
    "    ----------\n",
    "    value : float or int\n",
    "        計算結果\n",
    "    \"\"\"\n",
    "    def __init__(self, value):\n",
    "        self.value = value\n",
    "\n",
    "        #valueが数値以外だった場合のエラー出力。\n",
    "        if type(self.value) != int and type(self.value) != float:\n",
    "            print(\"error\")\n",
    "        else:\n",
    "            print(\"初期値{}が設定されました\".format(self.value))\n",
    "            \n",
    "    def add(self, value2):\n",
    "        \"\"\"\n",
    "        受け取った引数をself.valueに加える\n",
    "        \"\"\"\n",
    "        self.value += value2\n",
    "    \n",
    "    # 引き算\n",
    "    def subt(self, value3):\n",
    "        self.value -= value3\n",
    "    # かけ算\n",
    "    def accum(self, value4):\n",
    "        self.value *= value4    \n",
    "    # 割り算\n",
    "    def div(self, value5):\n",
    "        self.value /= value5\n",
    "        \n",
    "        \n",
    "example = ExampleClass(36)\n",
    "print(\"value : {}\".format(example.value))\n",
    "example.add(5)\n",
    "print(\"value : {}\".format(example.value))\n",
    "example.subt(3)\n",
    "print(\"value : {}\".format(example.value))\n",
    "example.accum(3)\n",
    "print(\"value : {}\".format(example.value))\n",
    "example.div(3)\n",
    "print(\"value : {}\".format(example.value))\n"
   ]
  },
  {
   "cell_type": "code",
   "execution_count": null,
   "metadata": {},
   "outputs": [],
   "source": []
  },
  {
   "cell_type": "code",
   "execution_count": null,
   "metadata": {},
   "outputs": [],
   "source": []
  }
 ],
 "metadata": {
  "kernelspec": {
   "display_name": "Python 3",
   "language": "python",
   "name": "python3"
  },
  "language_info": {
   "codemirror_mode": {
    "name": "ipython",
    "version": 3
   },
   "file_extension": ".py",
   "mimetype": "text/x-python",
   "name": "python",
   "nbconvert_exporter": "python",
   "pygments_lexer": "ipython3",
   "version": "3.7.4"
  }
 },
 "nbformat": 4,
 "nbformat_minor": 2
}
