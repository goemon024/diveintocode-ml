{
 "cells": [
  {
   "cell_type": "markdown",
   "metadata": {},
   "source": [
    "【問題1】べき乗の算術演算子を使用して作成"
   ]
  },
  {
   "cell_type": "code",
   "execution_count": 2,
   "metadata": {
    "scrolled": true
   },
   "outputs": [
    {
     "name": "stdout",
     "output_type": "stream",
     "text": [
      "厚さ： 703687441.77664メートル\n"
     ]
    }
   ],
   "source": [
    "THICKNESS = 0.00008\n",
    "\n",
    "folded_thickness = THICKNESS*2**43\n",
    "\n",
    "print(\"厚さ： {}メートル\".format(folded_thickness))"
   ]
  },
  {
   "cell_type": "markdown",
   "metadata": {},
   "source": [
    "【問題2】単位の変換"
   ]
  },
  {
   "cell_type": "code",
   "execution_count": 3,
   "metadata": {},
   "outputs": [
    {
     "name": "stdout",
     "output_type": "stream",
     "text": [
      "厚さ： 703.69万キロメートル\n"
     ]
    }
   ],
   "source": [
    "print(\"厚さ： {:.2f}万キロメートル\".format(folded_thickness/1000/1000))"
   ]
  },
  {
   "cell_type": "markdown",
   "metadata": {},
   "source": [
    "【問題3】for文を使用して作成"
   ]
  },
  {
   "cell_type": "code",
   "execution_count": 1,
   "metadata": {},
   "outputs": [
    {
     "name": "stdout",
     "output_type": "stream",
     "text": [
      "厚さ： 703687441.77664メートル\n"
     ]
    }
   ],
   "source": [
    "thickness = 0.00008\n",
    "for i in range(43):\n",
    "        thickness = thickness * 2\n",
    "print(\"厚さ： {}メートル\".format(thickness))\n",
    "thickness = 0.00008"
   ]
  },
  {
   "cell_type": "markdown",
   "metadata": {},
   "source": [
    "【問題4】計算時間の比較\n",
    "　　%%timeit によると、べき乗による計算時間のほうがＦＯＲ文による計算時間よりも短くなることがわかった（１／２０程度）。\n",
    "  　　なお、import time による計算時間の計測では、繰り返し回数を増やすなどしても計算時間を計測できなかった。\n",
    "    　　また、べき乗の計算では1024乗を超えるとoverflowerrorを起こしてしまう。"
   ]
  },
  {
   "cell_type": "code",
   "execution_count": 14,
   "metadata": {},
   "outputs": [
    {
     "name": "stdout",
     "output_type": "stream",
     "text": [
      "time : 0.0000000000000000000000000000000000000000000000000000000000000000000000000000000000000000000000000000[s]\n"
     ]
    }
   ],
   "source": [
    "import time\n",
    "THICKNESS = 0.00008\n",
    "start = time.time()\n",
    "#####\n",
    "folded_thickness = THICKNESS*2**1023\n",
    "#####\n",
    "elapsed_time = time.time() - start\n",
    "print(\"time : {:.100f}[s]\".format(elapsed_time*10**100))"
   ]
  },
  {
   "cell_type": "code",
   "execution_count": 15,
   "metadata": {},
   "outputs": [
    {
     "name": "stdout",
     "output_type": "stream",
     "text": [
      "time : 0.0000000000000000000000000000000000000000000000000000000000000000000000000000000000000000000000000000[s]\n"
     ]
    }
   ],
   "source": [
    "import time\n",
    "thickness = 0.00008\n",
    "start = time.time()\n",
    "#####\n",
    "for i in range(1023):\n",
    "  thickness = thickness * 2\n",
    "#####\n",
    "elapsed_time = time.time() - start\n",
    "print(\"time : {:.100f}[s]\".format(elapsed_time*10**100))"
   ]
  },
  {
   "cell_type": "code",
   "execution_count": 6,
   "metadata": {},
   "outputs": [
    {
     "name": "stdout",
     "output_type": "stream",
     "text": [
      "231 ns ± 5.3 ns per loop (mean ± std. dev. of 7 runs, 1000000 loops each)\n"
     ]
    }
   ],
   "source": [
    "%%timeit\n",
    "folded_thickness = THICKNESS*2**43"
   ]
  },
  {
   "cell_type": "code",
   "execution_count": 10,
   "metadata": {},
   "outputs": [
    {
     "name": "stdout",
     "output_type": "stream",
     "text": [
      "4.77 µs ± 1.01 µs per loop (mean ± std. dev. of 7 runs, 100000 loops each)\n"
     ]
    }
   ],
   "source": [
    "%%timeit\n",
    "thickness=0.0008\n",
    "for i in range(43):\n",
    "  thickness = thickness * 2"
   ]
  },
  {
   "cell_type": "markdown",
   "metadata": {},
   "source": [
    "【問題5】リストへの保存"
   ]
  },
  {
   "cell_type": "code",
   "execution_count": 22,
   "metadata": {},
   "outputs": [
    {
     "name": "stdout",
     "output_type": "stream",
     "text": [
      "[0.0008, 0.0016, 0.0032, 0.0064, 0.0128, 0.0256, 0.0512, 0.1024, 0.2048, 0.4096, 0.8192, 1.6384, 3.2768, 6.5536, 13.1072, 26.2144, 52.4288, 104.8576, 209.7152, 419.4304, 838.8608, 1677.7216, 3355.4432, 6710.8864, 13421.7728, 26843.5456, 53687.0912, 107374.1824, 214748.3648, 429496.7296, 858993.4592, 1717986.9184, 3435973.8368, 6871947.6736, 13743895.3472, 27487790.6944, 54975581.3888, 109951162.7776, 219902325.5552, 439804651.1104, 879609302.2208, 1759218604.4416, 3518437208.8832, 7036874417.7664]\n",
      "44\n"
     ]
    }
   ],
   "source": [
    "thick_list=[]\n",
    "for i in range(44):\n",
    "    if i == 0:\n",
    "        thick_list.append(0.0008)\n",
    "    else:\n",
    "        thick_list.append(thick_list[i-1]*2)\n",
    "print(thick_list)\n",
    "print(len(thick_list))"
   ]
  },
  {
   "cell_type": "markdown",
   "metadata": {},
   "source": [
    "【問題6】折れ線グラフの表示\n",
    "  ＜考察＞　厚さが厚くなればなるほど、厚みの増加度合いが大きくなっていく（ｘ→大で、ｘ微分→大）。\n",
    "    43回折り曲げたときの厚みを基準としてｙ軸のオーダーが決定されているので、折り曲げ回数が少ない状況での厚みの増加度合いが微小にみえる。"
   ]
  },
  {
   "cell_type": "code",
   "execution_count": 32,
   "metadata": {},
   "outputs": [
    {
     "data": {
      "image/png": "[encoded data removed]",
      "text/plain": [
       "<Figure size 432x288 with 1 Axes>"
      ]
     },
     "metadata": {
      "needs_background": "light"
     },
     "output_type": "display_data"
    }
   ],
   "source": [
    "thick_list=[]\n",
    "for i in range(44):\n",
    "    if i == 0:\n",
    "        thick_list.append(0.0008)\n",
    "    else:\n",
    "        thick_list.append(thick_list[i-1]*2)\n",
    "\n",
    "\"\"\"\n",
    "グラフを表示する。タイトルと軸ラベル名付き。\n",
    "\"\"\"\n",
    "import matplotlib.pyplot as plt\n",
    "%matplotlib inline\n",
    "\n",
    "plt.title(\"thickness of folded paper\")\n",
    "plt.xlabel(\"number of folds\")\n",
    "plt.ylabel(\"thickness[m]\")\n",
    "plt.plot(thick_list) # 「リスト名」のところにリストの変数名を入れる\n",
    "plt.show()"
   ]
  },
  {
   "cell_type": "markdown",
   "metadata": {},
   "source": [
    "【問題7】グラフのカスタマイズ"
   ]
  },
  {
   "cell_type": "code",
   "execution_count": 17,
   "metadata": {},
   "outputs": [
    {
     "data": {
      "image/png": "[encoded data removed]",
      "text/plain": [
       "<Figure size 432x288 with 1 Axes>"
      ]
     },
     "metadata": {
      "needs_background": "light"
     },
     "output_type": "display_data"
    },
    {
     "data": {
      "image/png": "[encoded data removed]",
      "text/plain": [
       "<Figure size 432x288 with 1 Axes>"
      ]
     },
     "metadata": {
      "needs_background": "light"
     },
     "output_type": "display_data"
    },
    {
     "data": {
      "image/png": "[encoded data removed]",
      "text/plain": [
       "<Figure size 432x288 with 1 Axes>"
      ]
     },
     "metadata": {
      "needs_background": "light"
     },
     "output_type": "display_data"
    }
   ],
   "source": [
    "thick_list=[]\n",
    "for i in range(44):\n",
    "    if i == 0:\n",
    "        thick_list.append(0.0008)\n",
    "    else:\n",
    "        thick_list.append(thick_list[i-1]*2)\n",
    "\n",
    "\"\"\"\n",
    "グラフを表示する。タイトルと軸ラベル名付き。\n",
    "\"\"\"\n",
    "import matplotlib.pyplot as plt\n",
    "%matplotlib inline\n",
    "\n",
    "plt.title(\"FIRST GRAPH(thickness of folded paper)\")\n",
    "plt.xlabel(\"number of folds\")\n",
    "plt.ylabel(\"thickness[m]\")\n",
    "plt.tick_params(labelsize=20, color='red')\n",
    "plt.plot(thick_list,color=(0,1,1),ls=\":\",marker=\"*\") \n",
    "plt.show()\n",
    "\n",
    "plt.title(\"SECOND GRAPH(thickness of folded paper)\")\n",
    "plt.xlabel(\"number of folds\")\n",
    "plt.ylabel(\"thickness[m]\")\n",
    "plt.tick_params(labelsize=20, color='red')\n",
    "plt.plot(thick_list,color=(0,1,1),ls=\":\",marker=\"*\") \n",
    "plt.yscale('log')\n",
    "plt.grid(which='major',linestyle='--')\n",
    "plt.grid(which='minor',linestyle='--')\n",
    "plt.show()\n",
    "\n",
    "plt.title(\"THIRD GRAPH(thickness of folded paper)\")\n",
    "plt.xlabel(\"number of folds\",size=30)\n",
    "plt.ylabel(\"thickness[m]\")\n",
    "plt.axis(color=\"red\")\n",
    "plt.tick_params(labelsize=5, color='red',width=5)\n",
    "plt.plot(thick_list,color=(1,0,0),ls=\":\",marker=\"*\") \n",
    "plt.show()"
   ]
  },
  {
   "cell_type": "code",
   "execution_count": null,
   "metadata": {},
   "outputs": [],
   "source": []
  }
 ],
 "metadata": {
  "kernelspec": {
   "display_name": "Python 3",
   "language": "python",
   "name": "python3"
  },
  "language_info": {
   "codemirror_mode": {
    "name": "ipython",
    "version": 3
   },
   "file_extension": ".py",
   "mimetype": "text/x-python",
   "name": "python",
   "nbconvert_exporter": "python",
   "pygments_lexer": "ipython3",
   "version": "3.7.4"
  }
 },
 "nbformat": 4,
 "nbformat_minor": 2
}
