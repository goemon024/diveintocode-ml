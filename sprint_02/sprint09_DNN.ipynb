{
 "cells": [
  {
   "cell_type": "markdown",
   "metadata": {},
   "source": [
    "# sprint09 DNN"
   ]
  },
  {
   "cell_type": "code",
   "execution_count": 1,
   "metadata": {},
   "outputs": [],
   "source": [
    "import matplotlib.pyplot as plt\n",
    "%matplotlib inline\n",
    "import numpy as np\n",
    "import pandas as pd\n",
    "import seaborn as sns\n",
    "import matplotlib.patches as patches\n",
    "from sklearn.model_selection import train_test_split\n",
    "import math\n",
    "\n",
    "pd.set_option('display.max_columns', 250)\n",
    "np.set_printoptions(threshold=np.inf)\n",
    "import tensorflow as tf"
   ]
  },
  {
   "cell_type": "code",
   "execution_count": 2,
   "metadata": {},
   "outputs": [
    {
     "name": "stderr",
     "output_type": "stream",
     "text": [
      "Using TensorFlow backend.\n"
     ]
    }
   ],
   "source": [
    "from keras.datasets import mnist\n",
    "(X_train, y_train), (X_test, y_test) = mnist.load_data()"
   ]
  },
  {
   "cell_type": "code",
   "execution_count": 3,
   "metadata": {},
   "outputs": [],
   "source": [
    "### X_test y_testは使用しない？　###\n",
    "X_train = X_train.reshape(-1, 784)\n",
    "X_test = X_test.reshape(-1, 784)\n",
    "X_train = X_train.astype(np.float)\n",
    "X_test = X_test.astype(np.float)\n",
    "X_train /= 255\n",
    "X_test /= 255"
   ]
  },
  {
   "cell_type": "code",
   "execution_count": 4,
   "metadata": {},
   "outputs": [],
   "source": [
    "from sklearn.preprocessing import OneHotEncoder\n",
    "enc = OneHotEncoder(handle_unknown='ignore', sparse=False)\n",
    "y_train_one_hot = enc.fit_transform(y_train[:, np.newaxis])\n",
    "y_test_one_hot = enc.transform(y_test[:, np.newaxis])\n",
    "# print(y_train.shape) # (60000,)\n",
    "# print(y_train_one_hot.shape) # (60000, 10)\n",
    "# print(y_train_one_hot.dtype) # float64\n",
    "\n",
    "from sklearn.model_selection import train_test_split\n",
    "X_train, X_val, y_train, y_val = train_test_split(X_train, y_train_one_hot, test_size=0.2)"
   ]
  },
  {
   "cell_type": "code",
   "execution_count": 5,
   "metadata": {},
   "outputs": [],
   "source": [
    "class GetMiniBatch:\n",
    "    \"\"\"\n",
    "    ミニバッチを取得するイテレータ\n",
    "\n",
    "    Parameters\n",
    "    ----------\n",
    "    X : 次の形のndarray, shape (n_samples, n_features)\n",
    "      訓練データ\n",
    "    y : 次の形のndarray, shape (n_samples, 1)\n",
    "      正解値\n",
    "    batch_size : int\n",
    "      バッチサイズ\n",
    "    seed : int\n",
    "      NumPyの乱数のシード\n",
    "    \"\"\"\n",
    "    def __init__(self, X, y, batch_size = 20, seed=0):\n",
    "        self.batch_size = batch_size\n",
    "        np.random.seed(seed)\n",
    "        shuffle_index = np.random.permutation(np.arange(X.shape[0]))\n",
    "        self._X = X[shuffle_index]\n",
    "        self._y = y[shuffle_index]\n",
    "        self._stop = np.ceil(X.shape[0]/self.batch_size).astype(np.int)\n",
    "    def __len__(self):\n",
    "        return self._stop\n",
    "    def __getitem__(self,item):\n",
    "        p0 = item*self.batch_size\n",
    "        p1 = item*self.batch_size + self.batch_size\n",
    "        return self._X[p0:p1], self._y[p0:p1]        \n",
    "    def __iter__(self):\n",
    "        self._counter = 0\n",
    "        return self\n",
    "    def __next__(self):\n",
    "        if self._counter >= self._stop:\n",
    "            raise StopIteration()\n",
    "        p0 = self._counter*self.batch_size\n",
    "        p1 = self._counter*self.batch_size + self.batch_size\n",
    "        self._counter += 1\n",
    "        return self._X[p0:p1], self._y[p0:p1]"
   ]
  },
  {
   "cell_type": "code",
   "execution_count": 6,
   "metadata": {},
   "outputs": [],
   "source": [
    "class SimpleInitializer:\n",
    "    \"\"\"\n",
    "    ガウス分布によるシンプルな初期化\n",
    "    Parameters\n",
    "    ----------\n",
    "    sigma : float\n",
    "      ガウス分布の標準偏差\n",
    "    \"\"\"\n",
    "    def __init__(self, sigma):\n",
    "        self.sigma = sigma\n",
    "    def WI(self, n_nodes1, n_nodes2):\n",
    "        WI = np.random.randn(n_nodes1, n_nodes2) * self.sigma\n",
    "        return WI\n",
    "    def BI(self, n_nodes2):\n",
    "        BI = np.random.randn(n_nodes2) * self.sigma\n",
    "        return BI"
   ]
  },
  {
   "cell_type": "markdown",
   "metadata": {},
   "source": [
    "## 【問題1】全結合層のクラス化  \n",
    "全結合層のクラス化を行なってください。"
   ]
  },
  {
   "cell_type": "code",
   "execution_count": 7,
   "metadata": {},
   "outputs": [],
   "source": [
    "class FC:\n",
    "\n",
    "    def __init__(self, n_nodes1, n_nodes2, initializer, optimizer):\n",
    "        self.optimizer = optimizer\n",
    "        # 初期化\n",
    "        self.initializer = initializer\n",
    "        self.n_nodes1 = n_nodes1\n",
    "        self.n_nodes2 = n_nodes2        \n",
    "        # initializerのメソッドを使い、self.Wとself.Bを初期化する\n",
    "        self.W = self.initializer.WI(self.n_nodes1,self.n_nodes2)\n",
    "        self.B = self.initializer.BI(self.n_nodes2)\n",
    "\n",
    "    def forward(self, Z):\n",
    "        self.Z = Z.copy()  ### copyは不要かもしれない。\n",
    "        A = np.dot(self.Z, self.W)+ self.B\n",
    "        return A\n",
    "  \n",
    "    def backward(self, dA):\n",
    "        self.dB = dA\n",
    "        self.dW = np.dot(self.Z.T, dA)\n",
    "        dZ = np.dot(dA, self.W.T)\n",
    "        \n",
    "        self = self.optimizer.update(self) \n",
    "        \n",
    "        return dZ"
   ]
  },
  {
   "cell_type": "markdown",
   "metadata": {},
   "source": [
    "## 【問題2】初期化方法のクラス化  \n",
    "\n",
    "初期化を行うコードをクラス化してください。"
   ]
  },
  {
   "cell_type": "markdown",
   "metadata": {},
   "source": [
    "##  【問題３】最適化手法のクラス化"
   ]
  },
  {
   "cell_type": "code",
   "execution_count": 8,
   "metadata": {},
   "outputs": [],
   "source": [
    "class SGD:\n",
    "\n",
    "    def __init__(self, lr):\n",
    "        self.lr = lr\n",
    "    def update(self, layer):\n",
    "        layer.W = layer.W - self.lr * layer.dW\n",
    "        layer.B = layer.B - self.lr * layer.dB.mean(axis = 0) \n"
   ]
  },
  {
   "cell_type": "markdown",
   "metadata": {},
   "source": [
    "## 【問題４】　活性化関数のクラス化"
   ]
  },
  {
   "cell_type": "code",
   "execution_count": 34,
   "metadata": {},
   "outputs": [],
   "source": [
    "class Tanh:\n",
    "    def __init__(self):\n",
    "        self.out = None\n",
    "    def forward(self,x):\n",
    "#          out = 1/(1 + np.exp(-x))\n",
    "        out = (np.exp(x)-np.exp(-x))/(np.exp(x)+np.exp(-x))\n",
    "        self.out = out\n",
    "        return out\n",
    "    def backward(self,dout):\n",
    "        dx = dout * (1 - self.out**2) ### 確認。out?\n",
    "#         dx = dout * (1.0 - self.out) * self.out\n",
    "        return dx"
   ]
  },
  {
   "cell_type": "code",
   "execution_count": 15,
   "metadata": {},
   "outputs": [],
   "source": [
    "class Softmax:\n",
    "    def __init__(self):\n",
    "        self.loss = None\n",
    "        self.y = None\n",
    "        self.t = None\n",
    "    def forward(self,x):\n",
    "        self.y = np.exp(x)/ (np.sum(np.exp(x),axis=1).reshape(-1,1))\n",
    "        return self.y\n",
    "    def backward(self,t):\n",
    "        self.t = t\n",
    "        delta_sf = self.y -self.t\n",
    "#       self.loss = self.cross_entropy_error(self.y, self.t)\n",
    "        return delta_sf\n",
    "    def cross_entropy_error(self,y,t):\n",
    "        self.t = t\n",
    "        c_entropy = -1/len(self.t)*(np.sum(self.t*np.log(self.y))) ### ｔは1hot_encoder\n",
    "        return c_entropy"
   ]
  },
  {
   "cell_type": "markdown",
   "metadata": {},
   "source": [
    "## 【問題５】ＲｅＬＵクラスの作成"
   ]
  },
  {
   "cell_type": "code",
   "execution_count": 10,
   "metadata": {},
   "outputs": [],
   "source": [
    "class ReLU:\n",
    "    def __init__(self):\n",
    "        self.mask = None\n",
    "    def forward(self,x):\n",
    "        self.mask = (x <= 0)\n",
    "        out = x.copy()  ### 念のためcopy() \n",
    "        out[self.mask] = 0\n",
    "        return out\n",
    "    def backward(self,dout):\n",
    "        dout[self.mask] = 0\n",
    "        dx = dout * 1.0\n",
    "        return dx"
   ]
  },
  {
   "cell_type": "markdown",
   "metadata": {},
   "source": [
    "## 【問題６】　重みの初期値（Xavierの初期値、Heの初期値）"
   ]
  },
  {
   "cell_type": "code",
   "execution_count": 11,
   "metadata": {},
   "outputs": [],
   "source": [
    "class Xavier_Initializer:\n",
    "    def __init__(self,xavier):\n",
    "        self.xavier = None\n",
    "    def WI(self, n_nodes1, n_nodes2):\n",
    "        self.xavier = 1/math.sqrt(n_nodes1)\n",
    "        WI = np.random.randn(n_nodes1, n_nodes2) * self.xavier\n",
    "        return WI\n",
    "    def BI(self, n_nodes2):\n",
    "        BI = np.random.randn(n_nodes2) * self.xavier\n",
    "        return BI"
   ]
  },
  {
   "cell_type": "code",
   "execution_count": 12,
   "metadata": {},
   "outputs": [],
   "source": [
    "class He_Initializer:\n",
    "    def __init__(self,He):\n",
    "        self.He = None\n",
    "    def WI(self, n_nodes1, n_nodes2):\n",
    "        self.He = math.sqrt(2/n_nodes1)\n",
    "        WI = np.random.randn(n_nodes1, n_nodes2) * self.He\n",
    "        return WI\n",
    "    def BI(self, n_nodes2):\n",
    "        BI = np.random.randn(n_nodes2) * self.He\n",
    "        return BI"
   ]
  },
  {
   "cell_type": "markdown",
   "metadata": {},
   "source": [
    "## 【問題７】　最適化手法（AdaGrad）"
   ]
  },
  {
   "cell_type": "code",
   "execution_count": 13,
   "metadata": {},
   "outputs": [],
   "source": [
    "class AbaGrad:\n",
    "\n",
    "    def __init__(self, lr):\n",
    "        self.lr = lr\n",
    "        self.grad_w = 0\n",
    "        self.grad_b = 0\n",
    "\n",
    "    def update(self, layer):\n",
    "        self.grad_w = self.grad_w + layer.dW *layer.dW     \n",
    "        layer.W = layer.W - self.lr * 1/np.sqrt(self.grad_w+0.0000001)*layer.dW\n",
    "        \n",
    "        self.grad_b = self.grad_b + (np.mean(layer.dB,axis=0))*(np.mean(layer.dB,axis=0))\n",
    "        layer.B = layer.B - self.lr * 1/np.sqrt(self.grad_b+0.0000001)*layer.dB.mean(axis = 0) \n",
    "        return layer\n",
    "        \n",
    "        \"\"\"\n",
    "        ある層の重みやバイアスの更新\n",
    "        Parameters\n",
    "        ----------\n",
    "        layer : 更新前の層のインスタンス\n",
    "        \"\"\""
   ]
  },
  {
   "cell_type": "markdown",
   "metadata": {},
   "source": [
    "Adagradのコーディングはこれで正しいでしょうか？  \n",
    "・diverにはイタレーションごとに更新するかのような記載がありますが、ミニバッチごとに更新されるようにしました。  \n",
    "・diverには平均をとるための「Ｅ」の記号がついてますが、行列演算のためのシェイプを合わせるようにしたので、grad_w = grad_w + dw*dwとしました。  \n",
    "・更新の際には、grad_wとgrad_bをインスタンス変数として値を保持させることから、ScratchDeepNeuralNetrowkClassifierのfit関数にて、活性化関数ごとにインスタンスを作成しました。  \n",
    "・初回呼び出し時でのzerodivisionエラーを避けるため、np.sqrt内で0.0000001を加算しました。"
   ]
  },
  {
   "cell_type": "markdown",
   "metadata": {},
   "source": [
    "## 【問題8】クラスの完成  \n",
    "## 【問題9】学習と推定"
   ]
  },
  {
   "cell_type": "code",
   "execution_count": 14,
   "metadata": {},
   "outputs": [],
   "source": [
    "class ScratchDeepNeuralNetrowkClassifier:\n",
    "    def __init__(self, verbose = True, iter_num=1, lr=0.002, sigma=0.02):\n",
    "        self.verbose = verbose\n",
    "        self.iter_num = iter_num\n",
    "        self.lr = lr\n",
    "        self.sigma = sigma\n",
    "\n",
    "    def fit(self,X,y):\n",
    "\n",
    "        self.n_features = X.shape[1]\n",
    "        self.n_nodes1 = 400\n",
    "        self.n_nodes2 = 200\n",
    "        self.n_output = 10\n",
    "        optimizer = SGD(self.lr)\n",
    "\n",
    "        get_mini_batch = GetMiniBatch(X, y)\n",
    "\n",
    "        self.FC1 = FC(self.n_features, self.n_nodes1, SimpleInitializer(self.sigma), optimizer)\n",
    "        self.activation1 = Tanh()\n",
    "        self.FC2 = FC(self.n_nodes1, self.n_nodes2, SimpleInitializer(self.sigma), optimizer)\n",
    "        self.activation2 = Tanh()\n",
    "        self.FC3 = FC(self.n_nodes2, self.n_output, SimpleInitializer(self.sigma), optimizer)\n",
    "        self.activation3 = Softmax()\n",
    "\n",
    "        for i in range(self.iter_num):\n",
    "             for mini_X_train, mini_y_train in get_mini_batch:\n",
    "\n",
    "                ### forward\n",
    "                self.A1 = self.FC1.forward(mini_X_train)\n",
    "                self.Z1 = self.activation1.forward(self.A1)\n",
    "                self.A2 = self.FC2.forward(self.Z1)\n",
    "                self.Z2 = self.activation2.forward(self.A2)\n",
    "                self.A3 = self.FC3.forward(self.Z2)\n",
    "                self.Z3 = self.activation3.forward(self.A3)\n",
    "\n",
    "                ### backward\n",
    "                self.delta1 = self.activation3.backward(mini_y_train)\n",
    "                self.dZ2 = self.FC3.backward(self.delta1)\n",
    "                self.delta2 = self.activation2.backward(self.dZ2)\n",
    "                self.dZ1 = self.FC2.backward(self.delta2)\n",
    "                self.delta3 = self.activation1.backward(self.dZ1)\n",
    "                self.dZ3 = self.FC1.backward(self.delta3)\n",
    "                \n",
    "                #print(c_entropy)\n",
    "                \n",
    "    def predict(self, X):\n",
    "        PA1 = self.FC1.forward(X)\n",
    "        PZ1 = self.activation1.forward(PA1)\n",
    "        PA2 = self.FC2.forward(PZ1)\n",
    "        PZ2 = self.activation2.forward(PA2)\n",
    "        PA3 = self.FC3.forward(PZ2)\n",
    "        PZ3 = self.activation3.forward(PA3)\n",
    "        pred = np.argmax(PZ3,axis=1)\n",
    "        return pred\n"
   ]
  },
  {
   "cell_type": "code",
   "execution_count": 31,
   "metadata": {},
   "outputs": [],
   "source": [
    "clf = ScratchDeepNeuralNetrowkClassifier(True,2)\n",
    "clf.fit(X_train, y_train)"
   ]
  },
  {
   "cell_type": "code",
   "execution_count": 32,
   "metadata": {},
   "outputs": [
    {
     "data": {
      "text/plain": [
       "array([7, 2, 1, 0, 4, 1, 4, 9, 6, 9, 0, 6, 9, 0, 1, 5, 9, 7, 3, 4, 9, 6,\n",
       "       6, 5, 4, 0, 7, 4, 0, 1, 3, 1, 3, 0, 7, 2, 7, 1, 2, 1, 1, 7, 4, 2,\n",
       "       3, 5, 1, 2, 4, 4, 6, 3, 5, 5, 6, 0, 4, 1, 9, 5, 7, 8, 9, 3, 7, 4,\n",
       "       2, 4, 3, 0, 7, 0, 2, 9, 1, 7, 3, 2, 9, 7, 7, 6, 2, 7, 8, 4, 7, 3,\n",
       "       6, 1, 3, 6, 9, 3, 1, 4, 1, 7, 6, 9, 6, 0, 5, 4, 9, 9, 2, 1, 9, 4,\n",
       "       8, 7, 3, 9, 7, 4, 4, 4, 9, 2, 5, 4, 7, 6, 4, 9, 0, 5, 8, 5, 6, 6,\n",
       "       5, 2, 8, 1, 0, 1, 6, 4, 6, 7, 3, 1, 7, 1, 8, 2, 0, 9, 9, 9, 5, 5,\n",
       "       1, 5, 6, 0, 3, 4, 4, 6, 5, 4, 6, 5, 4, 5, 1, 4, 4, 7, 2, 3, 2, 7,\n",
       "       1, 8, 1, 8, 1, 8, 5, 0, 8, 9, 2, 5, 0, 1, 1, 1, 0, 3, 0, 8, 1, 6,\n",
       "       4, 2], dtype=int64)"
      ]
     },
     "execution_count": 32,
     "metadata": {},
     "output_type": "execute_result"
    }
   ],
   "source": [
    "clf.predict(X_test[0:200])"
   ]
  },
  {
   "cell_type": "code",
   "execution_count": 33,
   "metadata": {},
   "outputs": [
    {
     "data": {
      "text/plain": [
       "0.9295"
      ]
     },
     "execution_count": 33,
     "metadata": {},
     "output_type": "execute_result"
    }
   ],
   "source": [
    "##　accuracyの計算　##\n",
    "from sklearn.metrics import accuracy_score\n",
    "accuracy_score(y_test, clf.predict(X_test))"
   ]
  },
  {
   "cell_type": "code",
   "execution_count": 53,
   "metadata": {},
   "outputs": [
    {
     "name": "stdout",
     "output_type": "stream",
     "text": [
      "(20, 10) (20, 200) (20, 400)\n",
      "(20, 400) (20, 200)\n",
      "(20, 400) (20, 200) (20, 10)\n",
      "(20, 400) (20, 200) (20, 10)\n",
      "(10,) (200,) (400,)\n",
      "(200, 10) (400, 200) (784, 400)\n",
      "(20, 10) (20, 200) (20, 400)\n",
      "(200, 10) (400, 200) (784, 400)\n"
     ]
    }
   ],
   "source": [
    "print(clf.delta1.shape,clf.delta2.shape,clf.delta3.shape)\n",
    "print(clf.dZ1.shape,clf.dZ2.shape)\n",
    "print(clf.A1.shape,clf.A2.shape,clf.A3.shape)\n",
    "print(clf.Z1.shape,clf.Z2.shape,clf.Z3.shape)\n",
    "\n",
    "print(clf.FC3.B.shape,clf.FC2.B.shape,clf.FC1.B.shape)\n",
    "print(clf.FC3.W.shape,clf.FC2.W.shape,clf.FC1.W.shape)\n",
    "print(clf.FC3.dB.shape,clf.FC2.dB.shape,clf.FC1.dB.shape)\n",
    "print(clf.FC3.dW.shape,clf.FC2.dW.shape,clf.FC1.dW.shape)"
   ]
  },
  {
   "cell_type": "markdown",
   "metadata": {},
   "source": [
    "## ＲＥＬＵ関数,Ｈｅによる初期化、Adagrad。"
   ]
  },
  {
   "cell_type": "code",
   "execution_count": 22,
   "metadata": {},
   "outputs": [],
   "source": [
    "class ScratchDeepNeuralNetrowkClassifier2:\n",
    "    def __init__(self, verbose = True, iter_num=1, lr=0.002, sigma=0.02):\n",
    "        self.verbose = verbose\n",
    "        self.iter_num = iter_num\n",
    "        self.lr = lr\n",
    "        self.sigma = sigma\n",
    "\n",
    "    def fit(self,X,y):\n",
    "\n",
    "        self.n_features = X.shape[1]\n",
    "        self.n_nodes1 = 400\n",
    "        self.n_nodes2 = 200\n",
    "        self.n_output = 10\n",
    "        \n",
    "        optimizer1 = AbaGrad(self.lr)\n",
    "        optimizer2 = AbaGrad(self.lr)\n",
    "        optimizer3 = AbaGrad(self.lr)\n",
    "\n",
    "        get_mini_batch = GetMiniBatch(X, y)\n",
    "\n",
    "        self.FC1 = FC(self.n_features, self.n_nodes1, He_Initializer(self.sigma), optimizer1)\n",
    "        self.activation1 = ReLU()\n",
    "        self.FC2 = FC(self.n_nodes1, self.n_nodes2, He_Initializer(self.sigma), optimizer2)\n",
    "        self.activation2 = ReLU()\n",
    "        self.FC3 = FC(self.n_nodes2, self.n_output, SimpleInitializer(self.sigma), optimizer3)\n",
    "        self.activation3 = Softmax()\n",
    "        \n",
    "        self.c_entropy = np.zeros(self.iter_num)\n",
    "\n",
    "        for i in range(self.iter_num):\n",
    "            for mini_X_train, mini_y_train in get_mini_batch:\n",
    "\n",
    "                ### forward\n",
    "                self.A1 = self.FC1.forward(mini_X_train)\n",
    "                self.Z1 = self.activation1.forward(self.A1)\n",
    "                self.A2 = self.FC2.forward(self.Z1)\n",
    "                self.Z2 = self.activation2.forward(self.A2)\n",
    "                self.A3 = self.FC3.forward(self.Z2)\n",
    "                self.Z3 = self.activation3.forward(self.A3)\n",
    "\n",
    "                ### backward　cross_entropy の表示\n",
    "                self.delta1 = self.activation3.backward(mini_y_train)\n",
    "                \n",
    "#                 self.c_entropy = self.activation3.cross_entropy_error(self.A3,mini_y_train)\n",
    "#                 print(self.c_entropy)\n",
    "                \n",
    "                self.dZ2 = self.FC3.backward(self.delta1)\n",
    "                self.delta2 = self.activation2.backward(self.dZ2)\n",
    "                self.dZ1 = self.FC2.backward(self.delta2)\n",
    "                self.delta3 = self.activation1.backward(self.dZ1)\n",
    "                self.dZ3 = self.FC1.backward(self.delta3)\n",
    "                \n",
    "                #print(c_entropy)\n",
    "            \n",
    "            EA1 = self.FC1.forward(X)\n",
    "            EZ1 = self.activation1.forward(EA1)\n",
    "            EA2 = self.FC2.forward(EZ1)\n",
    "            EZ2 = self.activation2.forward(EA2)\n",
    "            EA3 = self.FC3.forward(EZ2)\n",
    "            self.EZ3 = self.activation3.forward(EA3)\n",
    "            self.c_entropy[i] =  self.activation3.cross_entropy_error(self.EZ3, y)\n",
    "                \n",
    "    def predict(self, X):\n",
    "        PA1 = self.FC1.forward(X)\n",
    "        PZ1 = self.activation1.forward(PA1)\n",
    "        PA2 = self.FC2.forward(PZ1)\n",
    "        PZ2 = self.activation2.forward(PA2)\n",
    "        PA3 = self.FC3.forward(PZ2)\n",
    "        PZ3 = self.activation3.forward(PA3)\n",
    "        pred = np.argmax(PZ3,axis=1)\n",
    "        return pred\n"
   ]
  },
  {
   "cell_type": "code",
   "execution_count": 26,
   "metadata": {},
   "outputs": [],
   "source": [
    "clf = ScratchDeepNeuralNetrowkClassifier2(True,15)\n",
    "clf.fit(X_train, y_train)"
   ]
  },
  {
   "cell_type": "code",
   "execution_count": 29,
   "metadata": {},
   "outputs": [
    {
     "data": {
      "text/plain": [
       "Text(0, 0.5, 'cross_entropy')"
      ]
     },
     "execution_count": 29,
     "metadata": {},
     "output_type": "execute_result"
    },
    {
     "data": {
      "image/png": "[encoded data removed]",
      "text/plain": [
       "<Figure size 432x288 with 1 Axes>"
      ]
     },
     "metadata": {
      "needs_background": "light"
     },
     "output_type": "display_data"
    }
   ],
   "source": [
    "X_axis1 = range(1,16)\n",
    "Y_axis1 = clf.c_entropy\n",
    "plt.plot(X_axis, Y_axis)\n",
    "plt.xlabel(\"epoc_number\")\n",
    "plt.ylabel(\"cross_entropy\")"
   ]
  },
  {
   "cell_type": "code",
   "execution_count": 50,
   "metadata": {},
   "outputs": [
    {
     "data": {
      "text/plain": [
       "array([0.26554005, 0.22591287, 0.203004  , 0.18717832, 0.17515861,\n",
       "       0.16547947, 0.15740277, 0.15049621, 0.14448641, 0.13913782,\n",
       "       0.1342917 , 0.12990422, 0.12592175, 0.12228273, 0.11893596])"
      ]
     },
     "execution_count": 50,
     "metadata": {},
     "output_type": "execute_result"
    }
   ],
   "source": [
    "clf.c_entropy"
   ]
  },
  {
   "cell_type": "code",
   "execution_count": 28,
   "metadata": {},
   "outputs": [
    {
     "data": {
      "text/plain": [
       "0.9591"
      ]
     },
     "execution_count": 28,
     "metadata": {},
     "output_type": "execute_result"
    }
   ],
   "source": [
    "from sklearn.metrics import accuracy_score\n",
    "accuracy_score(y_test, clf.predict(X_test))"
   ]
  },
  {
   "cell_type": "markdown",
   "metadata": {},
   "source": [
    "## tanh関数,Xabierによる初期化、Adagrad、４層"
   ]
  },
  {
   "cell_type": "code",
   "execution_count": 40,
   "metadata": {},
   "outputs": [],
   "source": [
    "class ScratchDeepNeuralNetrowkClassifier3:\n",
    "    def __init__(self, verbose = True, iter_num=1, lr=0.002, sigma=0.02):\n",
    "        self.verbose = verbose\n",
    "        self.iter_num = iter_num\n",
    "        self.lr = lr\n",
    "        self.sigma = sigma\n",
    "\n",
    "    def fit(self,X,y):\n",
    "\n",
    "        self.n_features = X.shape[1]\n",
    "        self.n_nodes1 = 400\n",
    "        self.n_nodes2 = 200\n",
    "        self.n_nodes3 = 60\n",
    "        self.n_output = 10\n",
    "        \n",
    "        optimizer1 = AbaGrad(self.lr)\n",
    "        optimizer2 = AbaGrad(self.lr)\n",
    "        optimizer3 = AbaGrad(self.lr)\n",
    "        optimizer4 = AbaGrad(self.lr)\n",
    "\n",
    "        get_mini_batch = GetMiniBatch(X, y)\n",
    "\n",
    "        self.FC1 = FC(self.n_features, self.n_nodes1, Xavier_Initializer(self.sigma), optimizer1)\n",
    "        self.activation1 = Tanh()\n",
    "        self.FC2 = FC(self.n_nodes1, self.n_nodes2, Xavier_Initializer(self.sigma), optimizer2)\n",
    "        self.activation2 = Tanh()\n",
    "        self.FC3 = FC(self.n_nodes2, self.n_nodes3, Xavier_Initializer(self.sigma), optimizer3)\n",
    "        self.activation3 = Tanh()        \n",
    "        self.FC4 = FC(self.n_nodes3, self.n_output, Xavier_Initializer(self.sigma), optimizer4)\n",
    "        self.activation4 = Softmax()\n",
    "        \n",
    "        self.c_entropy = np.zeros(self.iter_num)\n",
    "\n",
    "        for i in range(self.iter_num):\n",
    "            for mini_X_train, mini_y_train in get_mini_batch:\n",
    "\n",
    "                ### forward\n",
    "                self.A1 = self.FC1.forward(mini_X_train)\n",
    "                self.Z1 = self.activation1.forward(self.A1)\n",
    "                self.A2 = self.FC2.forward(self.Z1)\n",
    "                self.Z2 = self.activation2.forward(self.A2)\n",
    "                self.A3 = self.FC3.forward(self.Z2)\n",
    "                self.Z3 = self.activation3.forward(self.A3)\n",
    "                self.A4 = self.FC4.forward(self.Z3)\n",
    "                self.Z4 = self.activation4.forward(self.A4)\n",
    "\n",
    "                ### backward　cross_entropy の表示\n",
    "                self.delta1 = self.activation4.backward(mini_y_train)\n",
    "                \n",
    "#                 self.c_entropy = self.activation3.cross_entropy_error(self.A3,mini_y_train)\n",
    "#                 print(self.c_entropy)\n",
    "                \n",
    "                self.dZ3 = self.FC4.backward(self.delta1)\n",
    "                self.delta2 = self.activation3.backward(self.dZ3)\n",
    "                self.dZ2 = self.FC3.backward(self.delta2)\n",
    "                self.delta3 = self.activation2.backward(self.dZ2)\n",
    "                self.dZ1 = self.FC2.backward(self.delta3)\n",
    "                self.delta4 = self.activation1.backward(self.dZ1)\n",
    "                self.dZ4 = self.FC1.backward(self.delta4)\n",
    "\n",
    "                \n",
    "                #print(c_entropy)\n",
    "            \n",
    "            EA1 = self.FC1.forward(X)\n",
    "            EZ1 = self.activation1.forward(EA1)\n",
    "            EA2 = self.FC2.forward(EZ1)\n",
    "            EZ2 = self.activation2.forward(EA2)\n",
    "            EA3 = self.FC3.forward(EZ2)\n",
    "            EZ3 = self.activation3.forward(EA3)\n",
    "            EA4 = self.FC4.forward(EZ3)\n",
    "            self.EZ4 = self.activation4.forward(EA4)\n",
    "\n",
    "            self.c_entropy[i] =  self.activation4.cross_entropy_error(self.EZ4, y)\n",
    "                \n",
    "    def predict(self, X):\n",
    "        PA1 = self.FC1.forward(X)\n",
    "        PZ1 = self.activation1.forward(PA1)\n",
    "        PA2 = self.FC2.forward(PZ1)\n",
    "        PZ2 = self.activation2.forward(PA2)\n",
    "        PA3 = self.FC3.forward(PZ2)\n",
    "        PZ3 = self.activation3.forward(PA3)\n",
    "        PA4 = self.FC4.forward(PZ3)\n",
    "        PZ4 = self.activation4.forward(PA4)\n",
    "        \n",
    "        pred = np.argmax(PZ4,axis=1)\n",
    "        return pred\n"
   ]
  },
  {
   "cell_type": "code",
   "execution_count": 44,
   "metadata": {},
   "outputs": [],
   "source": [
    "clf3 = ScratchDeepNeuralNetrowkClassifier3(True,15)\n",
    "clf3.fit(X_train, y_train)"
   ]
  },
  {
   "cell_type": "code",
   "execution_count": 57,
   "metadata": {},
   "outputs": [
    {
     "data": {
      "text/plain": [
       "Text(0, 0.5, 'cross_entropy')"
      ]
     },
     "execution_count": 57,
     "metadata": {},
     "output_type": "execute_result"
    },
    {
     "data": {
      "image/png": "[encoded data removed]",
      "text/plain": [
       "<Figure size 432x288 with 1 Axes>"
      ]
     },
     "metadata": {
      "needs_background": "light"
     },
     "output_type": "display_data"
    }
   ],
   "source": [
    "X_axis2 = range(1,16)\n",
    "Y_axis2 = clf3.c_entropy\n",
    "plt.plot(X_axis2, Y_axis2)\n",
    "plt.xlabel(\"epoc_number\")\n",
    "plt.ylabel(\"cross_entropy\")"
   ]
  },
  {
   "cell_type": "code",
   "execution_count": 48,
   "metadata": {},
   "outputs": [
    {
     "data": {
      "text/plain": [
       "0.9565"
      ]
     },
     "execution_count": 48,
     "metadata": {},
     "output_type": "execute_result"
    }
   ],
   "source": [
    "from sklearn.metrics import accuracy_score\n",
    "accuracy_score(y_test, clf3.predict(X_test))"
   ]
  },
  {
   "cell_type": "code",
   "execution_count": 49,
   "metadata": {},
   "outputs": [
    {
     "data": {
      "text/plain": [
       "array([0.2738768 , 0.23539812, 0.21375039, 0.19833899, 0.18626754,\n",
       "       0.17632289, 0.16787241, 0.16053798, 0.15407196, 0.14830175,\n",
       "       0.14310154, 0.1383766 , 0.13405363, 0.13007469, 0.12639316])"
      ]
     },
     "execution_count": 49,
     "metadata": {},
     "output_type": "execute_result"
    }
   ],
   "source": [
    "clf3.c_entropy"
   ]
  },
  {
   "cell_type": "markdown",
   "metadata": {},
   "source": [
    "## tanh関数,Xabierによる初期化、SGD、４層"
   ]
  },
  {
   "cell_type": "code",
   "execution_count": 51,
   "metadata": {},
   "outputs": [],
   "source": [
    "class ScratchDeepNeuralNetrowkClassifier4:\n",
    "    def __init__(self, verbose = True, iter_num=1, lr=0.002, sigma=0.02):\n",
    "        self.verbose = verbose\n",
    "        self.iter_num = iter_num\n",
    "        self.lr = lr\n",
    "        self.sigma = sigma\n",
    "\n",
    "    def fit(self,X,y):\n",
    "\n",
    "        self.n_features = X.shape[1]\n",
    "        self.n_nodes1 = 400\n",
    "        self.n_nodes2 = 200\n",
    "        self.n_nodes3 = 60\n",
    "        self.n_output = 10\n",
    "        \n",
    "        optimizer = SGD(self.lr)\n",
    "\n",
    "        get_mini_batch = GetMiniBatch(X, y)\n",
    "\n",
    "        self.FC1 = FC(self.n_features, self.n_nodes1, Xavier_Initializer(self.sigma), optimizer)\n",
    "        self.activation1 = Tanh()\n",
    "        self.FC2 = FC(self.n_nodes1, self.n_nodes2, Xavier_Initializer(self.sigma), optimizer)\n",
    "        self.activation2 = Tanh()\n",
    "        self.FC3 = FC(self.n_nodes2, self.n_nodes3, Xavier_Initializer(self.sigma), optimizer)\n",
    "        self.activation3 = Tanh()        \n",
    "        self.FC4 = FC(self.n_nodes3, self.n_output, Xavier_Initializer(self.sigma), optimizer)\n",
    "        self.activation4 = Softmax()\n",
    "        \n",
    "        self.c_entropy = np.zeros(self.iter_num)\n",
    "\n",
    "        for i in range(self.iter_num):\n",
    "            for mini_X_train, mini_y_train in get_mini_batch:\n",
    "\n",
    "                ### forward\n",
    "                self.A1 = self.FC1.forward(mini_X_train)\n",
    "                self.Z1 = self.activation1.forward(self.A1)\n",
    "                self.A2 = self.FC2.forward(self.Z1)\n",
    "                self.Z2 = self.activation2.forward(self.A2)\n",
    "                self.A3 = self.FC3.forward(self.Z2)\n",
    "                self.Z3 = self.activation3.forward(self.A3)\n",
    "                self.A4 = self.FC4.forward(self.Z3)\n",
    "                self.Z4 = self.activation4.forward(self.A4)\n",
    "\n",
    "                ### backward　cross_entropy の表示\n",
    "                self.delta1 = self.activation4.backward(mini_y_train)\n",
    "                \n",
    "#                 self.c_entropy = self.activation3.cross_entropy_error(self.A3,mini_y_train)\n",
    "#                 print(self.c_entropy)\n",
    "                \n",
    "                self.dZ3 = self.FC4.backward(self.delta1)\n",
    "                self.delta2 = self.activation3.backward(self.dZ3)\n",
    "                self.dZ2 = self.FC3.backward(self.delta2)\n",
    "                self.delta3 = self.activation2.backward(self.dZ2)\n",
    "                self.dZ1 = self.FC2.backward(self.delta3)\n",
    "                self.delta4 = self.activation1.backward(self.dZ1)\n",
    "                self.dZ4 = self.FC1.backward(self.delta4)\n",
    "\n",
    "                \n",
    "                #print(c_entropy)\n",
    "            \n",
    "            EA1 = self.FC1.forward(X)\n",
    "            EZ1 = self.activation1.forward(EA1)\n",
    "            EA2 = self.FC2.forward(EZ1)\n",
    "            EZ2 = self.activation2.forward(EA2)\n",
    "            EA3 = self.FC3.forward(EZ2)\n",
    "            EZ3 = self.activation3.forward(EA3)\n",
    "            EA4 = self.FC4.forward(EZ3)\n",
    "            self.EZ4 = self.activation4.forward(EA4)\n",
    "\n",
    "            self.c_entropy[i] =  self.activation4.cross_entropy_error(self.EZ4, y)\n",
    "                \n",
    "    def predict(self, X):\n",
    "        PA1 = self.FC1.forward(X)\n",
    "        PZ1 = self.activation1.forward(PA1)\n",
    "        PA2 = self.FC2.forward(PZ1)\n",
    "        PZ2 = self.activation2.forward(PA2)\n",
    "        PA3 = self.FC3.forward(PZ2)\n",
    "        PZ3 = self.activation3.forward(PA3)\n",
    "        PA4 = self.FC4.forward(PZ3)\n",
    "        PZ4 = self.activation4.forward(PA4)\n",
    "        \n",
    "        pred = np.argmax(PZ4,axis=1)\n",
    "        return pred\n"
   ]
  },
  {
   "cell_type": "code",
   "execution_count": 54,
   "metadata": {},
   "outputs": [],
   "source": [
    "clf4 = ScratchDeepNeuralNetrowkClassifier4(True,15)\n",
    "clf4.fit(X_train, y_train)"
   ]
  },
  {
   "cell_type": "code",
   "execution_count": 56,
   "metadata": {},
   "outputs": [
    {
     "data": {
      "text/plain": [
       "Text(0, 0.5, 'cross_entropy')"
      ]
     },
     "execution_count": 56,
     "metadata": {},
     "output_type": "execute_result"
    },
    {
     "data": {
      "image/png": "[encoded data removed]",
      "text/plain": [
       "<Figure size 432x288 with 1 Axes>"
      ]
     },
     "metadata": {
      "needs_background": "light"
     },
     "output_type": "display_data"
    }
   ],
   "source": [
    "X_axis4 = range(1,16)\n",
    "Y_axis4 = clf4.c_entropy\n",
    "plt.plot(X_axis4, Y_axis4)\n",
    "plt.xlabel(\"epoc_number\")\n",
    "plt.ylabel(\"cross_entropy\")"
   ]
  },
  {
   "cell_type": "code",
   "execution_count": 55,
   "metadata": {},
   "outputs": [
    {
     "data": {
      "text/plain": [
       "0.9798"
      ]
     },
     "execution_count": 55,
     "metadata": {},
     "output_type": "execute_result"
    }
   ],
   "source": [
    "from sklearn.metrics import accuracy_score\n",
    "accuracy_score(y_test, clf4.predict(X_test))"
   ]
  },
  {
   "cell_type": "code",
   "execution_count": null,
   "metadata": {},
   "outputs": [],
   "source": []
  }
 ],
 "metadata": {
  "kernelspec": {
   "display_name": "Python 3",
   "language": "python",
   "name": "python3"
  },
  "language_info": {
   "codemirror_mode": {
    "name": "ipython",
    "version": 3
   },
   "file_extension": ".py",
   "mimetype": "text/x-python",
   "name": "python",
   "nbconvert_exporter": "python",
   "pygments_lexer": "ipython3",
   "version": "3.7.4"
  }
 },
 "nbformat": 4,
 "nbformat_minor": 2
}
