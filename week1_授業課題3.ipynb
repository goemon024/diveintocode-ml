{
 "cells": [
  {
   "cell_type": "markdown",
   "metadata": {},
   "source": [
    "【問題】栗まんじゅうが太陽系を覆う日"
   ]
  },
  {
   "cell_type": "markdown",
   "metadata": {},
   "source": [
    "くりまんじゅうを100㎝3、宇宙を10万天文単位の半径とする。\n",
    "また、１天文単位を、149597870700m(約14960万km)とする。"
   ]
  },
  {
   "cell_type": "code",
   "execution_count": 32,
   "metadata": {},
   "outputs": [
    {
     "name": "stdout",
     "output_type": "stream",
     "text": [
      "885分後\n"
     ]
    },
    {
     "data": {
      "image/png": "[encoded data removed]",
      "text/plain": [
       "<Figure size 432x288 with 1 Axes>"
      ]
     },
     "metadata": {
      "needs_background": "light"
     },
     "output_type": "display_data"
    }
   ],
   "source": [
    "import math\n",
    "\n",
    "def baibain(space):\n",
    "    k_manjyu = 100\n",
    "    bai_time = 5\n",
    "    sum_time = 0\n",
    "    sum = k_manjyu\n",
    "    sum_list = [sum] #グラフ表示用リストの定義\n",
    "    while (sum < space):\n",
    "        sum *= 2\n",
    "        sum_time += bai_time\n",
    "        sum_list.append(sum) #グラフ表示用リストへの代入\n",
    "#    print(sum_list) #確認用表示\n",
    "    return sum_time,sum_list\n",
    "\n",
    "#宇宙の容積を求める。宇宙の半径は10万＊14960万km。\n",
    "#km→㎝として単位を合わせるため、14960×10000×1000×100としている。\n",
    "space = 4*math.pi/3*(100000*14960*10000*1000*100)**3\n",
    "\n",
    "#宇宙が一杯になる時間を、関数baibainを用いて求める。他の場合は引き数を変更。\n",
    "sum_time,sum_list = baibain(space)\n",
    "\n",
    "print(\"{}分後\".format(sum_time))\n",
    "\n",
    "#栗饅頭の体積の様子を青でプロット、宇宙の体積の様子を赤線でプロット\n",
    "import matplotlib.pyplot as plt\n",
    "%matplotlib inline\n",
    "plt.title(\"Incriment of kuri_manjyu valume\")\n",
    "plt.xlabel(\"time[minites]\")\n",
    "plt.ylabel(\"valume[cm3]\")\n",
    "x1 = [x*5 for x in range(len(sum_list))]\n",
    "y1 = sum_list\n",
    "plt.scatter(x1,y1)\n",
    "y2 = [space for i in range(len(sum_list))]\n",
    "plt.plot(x1,y2,color='red')\n",
    "plt.show()"
   ]
  },
  {
   "cell_type": "code",
   "execution_count": null,
   "metadata": {},
   "outputs": [],
   "source": []
  }
 ],
 "metadata": {
  "kernelspec": {
   "display_name": "Python 3",
   "language": "python",
   "name": "python3"
  },
  "language_info": {
   "codemirror_mode": {
    "name": "ipython",
    "version": 3
   },
   "file_extension": ".py",
   "mimetype": "text/x-python",
   "name": "python",
   "nbconvert_exporter": "python",
   "pygments_lexer": "ipython3",
   "version": "3.7.4"
  }
 },
 "nbformat": 4,
 "nbformat_minor": 2
}
